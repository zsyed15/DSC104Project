{
 "cells": [
  {
   "cell_type": "code",
   "execution_count": 2,
   "id": "fa2b241c",
   "metadata": {},
   "outputs": [
    {
     "name": "stderr",
     "output_type": "stream",
     "text": [
      "C:\\Users\\mrpie\\AppData\\Local\\Programs\\Python\\Python38\\lib\\site-packages\\scipy\\__init__.py:146: UserWarning: A NumPy version >=1.16.5 and <1.23.0 is required for this version of SciPy (detected version 1.24.3\n",
      "  warnings.warn(f\"A NumPy version >={np_minversion} and <{np_maxversion}\"\n"
     ]
    }
   ],
   "source": [
    "import json\n",
    "import pandas as pd\n",
    "import re \n",
    "import glob \n",
    "import copy \n",
    "import os \n",
    "import nltk\n",
    "import unicodedata \n",
    "from collections import Counter\n",
    "from nltk.collocations import *"
   ]
  },
  {
   "cell_type": "code",
   "execution_count": 2,
   "id": "c7a3e894",
   "metadata": {},
   "outputs": [],
   "source": [
    "bigram_measures = nltk.collocations.BigramAssocMeasures()\n",
    "trigram_measures = nltk.collocations.TrigramAssocMeasures()\n",
    "from nltk.tokenize import word_tokenize\n",
    "from nltk.tag import pos_tag\n",
    "import spacy"
   ]
  },
  {
   "cell_type": "code",
   "execution_count": 3,
   "id": "d45d3119",
   "metadata": {},
   "outputs": [],
   "source": [
    "# !pip install -U pip setuptools wheel\n",
    "# !pip install -U spacy\n",
    "# nltk.download('stopwords')\n",
    "# nltk.download('wordnet')\n",
    "# nltk.download('omw-1.4')\n",
    "#!python -m spacy download en_core_web_sm\n",
    "nlp = spacy.load(\"en_core_web_sm\")\n",
    "import en_core_web_sm\n",
    "nlp = en_core_web_sm.load()\n",
    "from bs4 import BeautifulSoup\n",
    "from html import unescape"
   ]
  },
  {
   "cell_type": "code",
   "execution_count": null,
   "id": "91fa2d43",
   "metadata": {},
   "outputs": [],
   "source": [
    "%%time \n",
    "### Creating reviews dataframe \n",
    "data_file = open(\"yelp_academic_dataset_review.json\",encoding='utf-8')\n",
    "data = []\n",
    "for line in data_file:\n",
    "    data.append(json.loads(line))\n",
    "reviewsdf = pd.DataFrame(data)\n",
    "data_file.close()"
   ]
  },
  {
   "cell_type": "code",
   "execution_count": 3,
   "id": "8b768ce1",
   "metadata": {},
   "outputs": [],
   "source": [
    "### Creataing businesses dataframe \n",
    "data_file = open(\"yelp_academic_dataset_business.json\",encoding='utf-8')\n",
    "data = []\n",
    "for line in data_file:\n",
    "    data.append(json.loads(line))\n",
    "businessdf = pd.DataFrame(data)\n",
    "data_file.close()"
   ]
  },
  {
   "cell_type": "code",
   "execution_count": null,
   "id": "f56636c1",
   "metadata": {
    "scrolled": true
   },
   "outputs": [],
   "source": []
  },
  {
   "cell_type": "markdown",
   "id": "67fafe0e",
   "metadata": {},
   "source": [
    "### For now, use smaller version of reviewsdf just to make sure everything works"
   ]
  },
  {
   "cell_type": "code",
   "execution_count": 6,
   "id": "1388395f",
   "metadata": {},
   "outputs": [],
   "source": [
    "reviewsdf = reviewsdf.head(10000)"
   ]
  },
  {
   "cell_type": "markdown",
   "id": "0b83f495",
   "metadata": {},
   "source": [
    "### Generate hashtags from reviews df"
   ]
  },
  {
   "cell_type": "code",
   "execution_count": 7,
   "id": "ea4aaf7e",
   "metadata": {},
   "outputs": [],
   "source": [
    "from sklearn.feature_extraction.text import CountVectorizer, TfidfVectorizer"
   ]
  },
  {
   "cell_type": "code",
   "execution_count": 8,
   "id": "ae1dffc8",
   "metadata": {},
   "outputs": [],
   "source": [
    "#Adjust mindf parameter\n",
    "mindf = int(len(reviewsdf) * .001)\n",
    "tfidf = TfidfVectorizer(sublinear_tf=True,\n",
    "               analyzer='word',\n",
    "#                max_features=2000,\n",
    "               tokenizer=word_tokenize,\n",
    "               stop_words=nltk.corpus.stopwords.words(\"english\"),min_df=5)"
   ]
  },
  {
   "cell_type": "code",
   "execution_count": 9,
   "id": "be16f074",
   "metadata": {},
   "outputs": [],
   "source": [
    "text = list(reviewsdf['text'])\n",
    "text = [re.sub(r'[^A-Za-z]+',\" \",document) for document in text]\n"
   ]
  },
  {
   "cell_type": "code",
   "execution_count": 10,
   "id": "3879609d",
   "metadata": {},
   "outputs": [
    {
     "name": "stderr",
     "output_type": "stream",
     "text": [
      "C:\\Users\\mrpie\\AppData\\Local\\Programs\\Python\\Python38\\lib\\site-packages\\sklearn\\feature_extraction\\text.py:396: UserWarning: Your stop_words may be inconsistent with your preprocessing. Tokenizing the stop words generated tokens [\"'d\", \"'ll\", \"'re\", \"'s\", \"'ve\", 'could', 'might', 'must', \"n't\", 'need', 'sha', 'wo', 'would'] not in stop_words.\n",
      "  warnings.warn(\n"
     ]
    },
    {
     "name": "stdout",
     "output_type": "stream",
     "text": [
      "Wall time: 38.3 s\n"
     ]
    }
   ],
   "source": [
    "%%time\n",
    "hashtagdf = pd.DataFrame(tfidf.fit_transform(text).toarray())"
   ]
  },
  {
   "cell_type": "code",
   "execution_count": 11,
   "id": "8d75d60b",
   "metadata": {},
   "outputs": [
    {
     "name": "stderr",
     "output_type": "stream",
     "text": [
      "C:\\Users\\mrpie\\AppData\\Local\\Programs\\Python\\Python38\\lib\\site-packages\\sklearn\\utils\\deprecation.py:87: FutureWarning: Function get_feature_names is deprecated; get_feature_names is deprecated in 1.0 and will be removed in 1.2. Please use get_feature_names_out instead.\n",
      "  warnings.warn(msg, category=FutureWarning)\n"
     ]
    }
   ],
   "source": [
    "hashtagdf.columns = tfidf.get_feature_names()"
   ]
  },
  {
   "cell_type": "code",
   "execution_count": 12,
   "id": "58ee8981",
   "metadata": {},
   "outputs": [],
   "source": [
    "hashtagdfsum = hashtagdf.sum()\n",
    "tfidf_scores = [(i,hashtagdfsum[i]) for i in hashtagdfsum.index]\n",
    "tfidf_scores.sort(key=lambda x : x[1],reverse=True)"
   ]
  },
  {
   "cell_type": "code",
   "execution_count": 67,
   "id": "020df748",
   "metadata": {},
   "outputs": [],
   "source": [
    "##REMOVE?\n",
    "lower_threshold = int(len(tfidf_scores) * .08)\n",
    "upper_threshold = int(len(tfidf_scores) * .60)\n",
    "scores = tfidf_scores[lower_threshold:]\n",
    "tfidf_dict = {item[0] : item[1] for item in scores}"
   ]
  },
  {
   "cell_type": "code",
   "execution_count": 68,
   "id": "0d3115aa",
   "metadata": {},
   "outputs": [],
   "source": [
    "#Maybe add ability to get N most useful tags \n",
    "def generate_tags(text):\n",
    "    tags = set()\n",
    "    for s in text.split(' '):\n",
    "        if s in tfidf_dict:\n",
    "            tags.add(s)\n",
    "    return list(tags)[:5]"
   ]
  },
  {
   "cell_type": "code",
   "execution_count": 69,
   "id": "ea529ed9",
   "metadata": {},
   "outputs": [],
   "source": [
    "reviewsdf['tags'] = reviewsdf['text'].apply(generate_tags)"
   ]
  },
  {
   "cell_type": "code",
   "execution_count": 70,
   "id": "379546b9",
   "metadata": {},
   "outputs": [
    {
     "data": {
      "text/html": [
       "<div>\n",
       "<style scoped>\n",
       "    .dataframe tbody tr th:only-of-type {\n",
       "        vertical-align: middle;\n",
       "    }\n",
       "\n",
       "    .dataframe tbody tr th {\n",
       "        vertical-align: top;\n",
       "    }\n",
       "\n",
       "    .dataframe thead th {\n",
       "        text-align: right;\n",
       "    }\n",
       "</style>\n",
       "<table border=\"1\" class=\"dataframe\">\n",
       "  <thead>\n",
       "    <tr style=\"text-align: right;\">\n",
       "      <th></th>\n",
       "      <th>review_id</th>\n",
       "      <th>text</th>\n",
       "      <th>business_id</th>\n",
       "      <th>tags</th>\n",
       "    </tr>\n",
       "  </thead>\n",
       "  <tbody>\n",
       "    <tr>\n",
       "      <th>0</th>\n",
       "      <td>KU_O5udG6zpxOg-VcAEodg</td>\n",
       "      <td>If you decide to eat here, just be aware it is...</td>\n",
       "      <td>XQfwVwDr-v0ZS3_CbbE5Xw</td>\n",
       "      <td>[opt, takes, spent, experiences, aware]</td>\n",
       "    </tr>\n",
       "    <tr>\n",
       "      <th>1</th>\n",
       "      <td>BiTunyQ73aT9WBnpR9DZGw</td>\n",
       "      <td>I've taken a lot of spin classes over the year...</td>\n",
       "      <td>7ATYjTIgM3jUlt4UM3IypQ</td>\n",
       "      <td>[desire, compares, spin, giving, recommendations]</td>\n",
       "    </tr>\n",
       "    <tr>\n",
       "      <th>2</th>\n",
       "      <td>saUsX_uimxRlCVr67Z4Jig</td>\n",
       "      <td>Family diner. Had the buffet. Eclectic assortm...</td>\n",
       "      <td>YjUWPpI6HXG530lwP-fb2A</td>\n",
       "      <td>[choices, relaxed, casual, rolled, grape]</td>\n",
       "    </tr>\n",
       "    <tr>\n",
       "      <th>3</th>\n",
       "      <td>AqPFMleE6RsU23_auESxiA</td>\n",
       "      <td>Wow!  Yummy, different,  delicious.   Our favo...</td>\n",
       "      <td>kxX2SOes4o-D3ZQBkiMRfA</td>\n",
       "      <td>[kinds, curry, deter, changed, lamb]</td>\n",
       "    </tr>\n",
       "    <tr>\n",
       "      <th>4</th>\n",
       "      <td>Sx8TMOWLNuJBWer-0pcmoA</td>\n",
       "      <td>Cute interior and owner (?) gave us tour of up...</td>\n",
       "      <td>e4Vwtrqf-wpJfwesgvdgxQ</td>\n",
       "      <td>[esp, draft, upcoming, w, limited]</td>\n",
       "    </tr>\n",
       "  </tbody>\n",
       "</table>\n",
       "</div>"
      ],
      "text/plain": [
       "                review_id                                               text  \\\n",
       "0  KU_O5udG6zpxOg-VcAEodg  If you decide to eat here, just be aware it is...   \n",
       "1  BiTunyQ73aT9WBnpR9DZGw  I've taken a lot of spin classes over the year...   \n",
       "2  saUsX_uimxRlCVr67Z4Jig  Family diner. Had the buffet. Eclectic assortm...   \n",
       "3  AqPFMleE6RsU23_auESxiA  Wow!  Yummy, different,  delicious.   Our favo...   \n",
       "4  Sx8TMOWLNuJBWer-0pcmoA  Cute interior and owner (?) gave us tour of up...   \n",
       "\n",
       "              business_id                                               tags  \n",
       "0  XQfwVwDr-v0ZS3_CbbE5Xw            [opt, takes, spent, experiences, aware]  \n",
       "1  7ATYjTIgM3jUlt4UM3IypQ  [desire, compares, spin, giving, recommendations]  \n",
       "2  YjUWPpI6HXG530lwP-fb2A          [choices, relaxed, casual, rolled, grape]  \n",
       "3  kxX2SOes4o-D3ZQBkiMRfA               [kinds, curry, deter, changed, lamb]  \n",
       "4  e4Vwtrqf-wpJfwesgvdgxQ                 [esp, draft, upcoming, w, limited]  "
      ]
     },
     "execution_count": 70,
     "metadata": {},
     "output_type": "execute_result"
    }
   ],
   "source": [
    "reviewsdf.head(5)"
   ]
  },
  {
   "cell_type": "code",
   "execution_count": null,
   "id": "f6df32fe",
   "metadata": {},
   "outputs": [],
   "source": []
  },
  {
   "cell_type": "code",
   "execution_count": 17,
   "id": "a0a85b24",
   "metadata": {},
   "outputs": [],
   "source": [
    "# trigram_measures = nltk.collocations.TrigramAssocMeasures()\n"
   ]
  },
  {
   "cell_type": "code",
   "execution_count": 18,
   "id": "5e609d49",
   "metadata": {},
   "outputs": [],
   "source": [
    "# finder = BigramCollocationFinder.from_words()\n",
    "# finder1 = finder.apply_freq_filter(1)\n",
    "# finder.nbest(bigram_measures.pmi, 1500)\n",
    "# #Maybe add bigrams to each string, so they end upo in freq dict\n",
    "# # list(bigrams)"
   ]
  },
  {
   "cell_type": "markdown",
   "id": "423ee6aa",
   "metadata": {},
   "source": [
    "### Hashtag generation above needs to be improved, just temporarlily using it to continue with other parts"
   ]
  },
  {
   "cell_type": "markdown",
   "id": "a899f201",
   "metadata": {},
   "source": [
    "# Create graph data"
   ]
  },
  {
   "cell_type": "markdown",
   "id": "86df9275",
   "metadata": {},
   "source": [
    "1 ) Create  weighted edges between business and associated hashtags (edge weight is number of reviews that contained particular hashtag?)\n",
    "\n",
    "2) Create weighted edges between hashtags that occur in the same business (or review ?) weight = num co coccurances in reviews?"
   ]
  },
  {
   "cell_type": "markdown",
   "id": "8e743b9f",
   "metadata": {},
   "source": [
    "Drop unecessary columns from reviewsdf "
   ]
  },
  {
   "cell_type": "code",
   "execution_count": 71,
   "id": "c3fce8ba",
   "metadata": {
    "scrolled": true
   },
   "outputs": [
    {
     "data": {
      "text/html": [
       "<div>\n",
       "<style scoped>\n",
       "    .dataframe tbody tr th:only-of-type {\n",
       "        vertical-align: middle;\n",
       "    }\n",
       "\n",
       "    .dataframe tbody tr th {\n",
       "        vertical-align: top;\n",
       "    }\n",
       "\n",
       "    .dataframe thead th {\n",
       "        text-align: right;\n",
       "    }\n",
       "</style>\n",
       "<table border=\"1\" class=\"dataframe\">\n",
       "  <thead>\n",
       "    <tr style=\"text-align: right;\">\n",
       "      <th></th>\n",
       "      <th>review_id</th>\n",
       "      <th>text</th>\n",
       "      <th>business_id</th>\n",
       "      <th>tags</th>\n",
       "    </tr>\n",
       "  </thead>\n",
       "  <tbody>\n",
       "    <tr>\n",
       "      <th>0</th>\n",
       "      <td>KU_O5udG6zpxOg-VcAEodg</td>\n",
       "      <td>If you decide to eat here, just be aware it is...</td>\n",
       "      <td>XQfwVwDr-v0ZS3_CbbE5Xw</td>\n",
       "      <td>[opt, takes, spent, experiences, aware]</td>\n",
       "    </tr>\n",
       "    <tr>\n",
       "      <th>1</th>\n",
       "      <td>BiTunyQ73aT9WBnpR9DZGw</td>\n",
       "      <td>I've taken a lot of spin classes over the year...</td>\n",
       "      <td>7ATYjTIgM3jUlt4UM3IypQ</td>\n",
       "      <td>[desire, compares, spin, giving, recommendations]</td>\n",
       "    </tr>\n",
       "    <tr>\n",
       "      <th>2</th>\n",
       "      <td>saUsX_uimxRlCVr67Z4Jig</td>\n",
       "      <td>Family diner. Had the buffet. Eclectic assortm...</td>\n",
       "      <td>YjUWPpI6HXG530lwP-fb2A</td>\n",
       "      <td>[choices, relaxed, casual, rolled, grape]</td>\n",
       "    </tr>\n",
       "    <tr>\n",
       "      <th>3</th>\n",
       "      <td>AqPFMleE6RsU23_auESxiA</td>\n",
       "      <td>Wow!  Yummy, different,  delicious.   Our favo...</td>\n",
       "      <td>kxX2SOes4o-D3ZQBkiMRfA</td>\n",
       "      <td>[kinds, curry, deter, changed, lamb]</td>\n",
       "    </tr>\n",
       "    <tr>\n",
       "      <th>4</th>\n",
       "      <td>Sx8TMOWLNuJBWer-0pcmoA</td>\n",
       "      <td>Cute interior and owner (?) gave us tour of up...</td>\n",
       "      <td>e4Vwtrqf-wpJfwesgvdgxQ</td>\n",
       "      <td>[esp, draft, upcoming, w, limited]</td>\n",
       "    </tr>\n",
       "    <tr>\n",
       "      <th>...</th>\n",
       "      <td>...</td>\n",
       "      <td>...</td>\n",
       "      <td>...</td>\n",
       "      <td>...</td>\n",
       "    </tr>\n",
       "    <tr>\n",
       "      <th>9995</th>\n",
       "      <td>ZcBtCA9jGhLfakf1jJ2BAg</td>\n",
       "      <td>Excellent food and service. The place is funct...</td>\n",
       "      <td>1-z7wd860Rii4kbEMCT8DA</td>\n",
       "      <td>[environment, welcoming, funky, choices]</td>\n",
       "    </tr>\n",
       "    <tr>\n",
       "      <th>9996</th>\n",
       "      <td>UIkEO-10J6Y99IhRqUflvg</td>\n",
       "      <td>Just about to get tucked into a meatloaf that ...</td>\n",
       "      <td>EpREWeEpmR8f1qLHzzF0AA</td>\n",
       "      <td>[smelling, meatloaf, tucked]</td>\n",
       "    </tr>\n",
       "    <tr>\n",
       "      <th>9997</th>\n",
       "      <td>S-NQM3Axcg8JS3MXHUIvyw</td>\n",
       "      <td>Outstanding customer service! And my car is dr...</td>\n",
       "      <td>dvidzWEPgTQPeBc8CUV2OQ</td>\n",
       "      <td>[showed, taken, auto, talk, human]</td>\n",
       "    </tr>\n",
       "    <tr>\n",
       "      <th>9998</th>\n",
       "      <td>ME79YrEhm2xe4IQy_0zkGw</td>\n",
       "      <td>I and my husband went here for Dinner one day ...</td>\n",
       "      <td>2XYPFRm7teCUr3eGsB2-qw</td>\n",
       "      <td>[along, environment, spring, closer, noise]</td>\n",
       "    </tr>\n",
       "    <tr>\n",
       "      <th>9999</th>\n",
       "      <td>05oKtleZ-JFGD6qt47VQcg</td>\n",
       "      <td>I saw Big Data when they came to town at the K...</td>\n",
       "      <td>rnaE88k8yV5pFAGJeiIK4Q</td>\n",
       "      <td>[venue, image, building, shaped, somewhere]</td>\n",
       "    </tr>\n",
       "  </tbody>\n",
       "</table>\n",
       "<p>10000 rows × 4 columns</p>\n",
       "</div>"
      ],
      "text/plain": [
       "                   review_id  \\\n",
       "0     KU_O5udG6zpxOg-VcAEodg   \n",
       "1     BiTunyQ73aT9WBnpR9DZGw   \n",
       "2     saUsX_uimxRlCVr67Z4Jig   \n",
       "3     AqPFMleE6RsU23_auESxiA   \n",
       "4     Sx8TMOWLNuJBWer-0pcmoA   \n",
       "...                      ...   \n",
       "9995  ZcBtCA9jGhLfakf1jJ2BAg   \n",
       "9996  UIkEO-10J6Y99IhRqUflvg   \n",
       "9997  S-NQM3Axcg8JS3MXHUIvyw   \n",
       "9998  ME79YrEhm2xe4IQy_0zkGw   \n",
       "9999  05oKtleZ-JFGD6qt47VQcg   \n",
       "\n",
       "                                                   text  \\\n",
       "0     If you decide to eat here, just be aware it is...   \n",
       "1     I've taken a lot of spin classes over the year...   \n",
       "2     Family diner. Had the buffet. Eclectic assortm...   \n",
       "3     Wow!  Yummy, different,  delicious.   Our favo...   \n",
       "4     Cute interior and owner (?) gave us tour of up...   \n",
       "...                                                 ...   \n",
       "9995  Excellent food and service. The place is funct...   \n",
       "9996  Just about to get tucked into a meatloaf that ...   \n",
       "9997  Outstanding customer service! And my car is dr...   \n",
       "9998  I and my husband went here for Dinner one day ...   \n",
       "9999  I saw Big Data when they came to town at the K...   \n",
       "\n",
       "                 business_id  \\\n",
       "0     XQfwVwDr-v0ZS3_CbbE5Xw   \n",
       "1     7ATYjTIgM3jUlt4UM3IypQ   \n",
       "2     YjUWPpI6HXG530lwP-fb2A   \n",
       "3     kxX2SOes4o-D3ZQBkiMRfA   \n",
       "4     e4Vwtrqf-wpJfwesgvdgxQ   \n",
       "...                      ...   \n",
       "9995  1-z7wd860Rii4kbEMCT8DA   \n",
       "9996  EpREWeEpmR8f1qLHzzF0AA   \n",
       "9997  dvidzWEPgTQPeBc8CUV2OQ   \n",
       "9998  2XYPFRm7teCUr3eGsB2-qw   \n",
       "9999  rnaE88k8yV5pFAGJeiIK4Q   \n",
       "\n",
       "                                                   tags  \n",
       "0               [opt, takes, spent, experiences, aware]  \n",
       "1     [desire, compares, spin, giving, recommendations]  \n",
       "2             [choices, relaxed, casual, rolled, grape]  \n",
       "3                  [kinds, curry, deter, changed, lamb]  \n",
       "4                    [esp, draft, upcoming, w, limited]  \n",
       "...                                                 ...  \n",
       "9995           [environment, welcoming, funky, choices]  \n",
       "9996                       [smelling, meatloaf, tucked]  \n",
       "9997                 [showed, taken, auto, talk, human]  \n",
       "9998        [along, environment, spring, closer, noise]  \n",
       "9999        [venue, image, building, shaped, somewhere]  \n",
       "\n",
       "[10000 rows x 4 columns]"
      ]
     },
     "execution_count": 71,
     "metadata": {},
     "output_type": "execute_result"
    }
   ],
   "source": [
    "reviewsdf = reviewsdf[['review_id','text','business_id','tags']]\n",
    "reviewsdf"
   ]
  },
  {
   "cell_type": "code",
   "execution_count": 75,
   "id": "ecd08cb7",
   "metadata": {},
   "outputs": [],
   "source": [
    "###Create graph between business and associated hashtags \n",
    "from collections import defaultdict\n",
    "businessAndTagGraph = defaultdict(lambda: defaultdict(int))\n",
    "tagsGraph = defaultdict(lambda: defaultdict(int))"
   ]
  },
  {
   "cell_type": "code",
   "execution_count": 76,
   "id": "e43e1d53",
   "metadata": {},
   "outputs": [
    {
     "name": "stdout",
     "output_type": "stream",
     "text": [
      "Wall time: 164 ms\n"
     ]
    }
   ],
   "source": [
    "%%time\n",
    "for review in reviewsdf.itertuples():\n",
    "    businessId = review[3]\n",
    "    tags = review[4]\n",
    "    for i in range(len(tags)): \n",
    "        #Update Edge weights (number of times hashtag occurs in review)\n",
    "        currTag = tags[i]\n",
    "        businessAndTagGraph[businessId][currTag] += 1\n",
    "        #Create edges and weights for tags in same review \n",
    "        for j in range(len(tags)):\n",
    "            if i != j:\n",
    "                 tagsGraph[currTag][tags[j]] += 1"
   ]
  },
  {
   "cell_type": "code",
   "execution_count": null,
   "id": "916a34c6",
   "metadata": {},
   "outputs": [],
   "source": []
  },
  {
   "cell_type": "markdown",
   "id": "32bc3728",
   "metadata": {},
   "source": [
    "#### Save graphs as csv before loading into neo4j?"
   ]
  },
  {
   "cell_type": "markdown",
   "id": "70cbdbbf",
   "metadata": {},
   "source": [
    "# Load graph data into neo4j"
   ]
  },
  {
   "cell_type": "markdown",
   "id": "15925de4",
   "metadata": {},
   "source": [
    "1) Finish cretaing graphs in python - Zafeer\n",
    "\n",
    "2) Create Graphs in Neo4j - Tony\n",
    "\n",
    "3) Maybe work a bit on hash tags - Terin \n",
    "\n",
    "4) 2 Applications each All\n",
    "\n",
    "5) Add redis to cache queries All  \n",
    "\n",
    "6) Create powerpoint presentation  \n",
    "\n",
    "### Meet @ 5pm Thursday"
   ]
  },
  {
   "cell_type": "markdown",
   "id": "75913ed1",
   "metadata": {},
   "source": [
    "### Application Ideas"
   ]
  },
  {
   "cell_type": "markdown",
   "id": "213b897f",
   "metadata": {},
   "source": [
    "### Tony\n",
    "1) Find geographically close businesses that share the same/similar hashtags given a business id \n",
    "\n",
    "2) Find businesses in a given city that have similar hashtags to a given business.\n",
    "\n",
    "### Zafeer\n",
    "\n",
    "3) Find the N highest rated business in a city that contain a specific hashtag\n",
    "\n",
    "4) Find top 10 hashtags that are associated with a specific business id \n",
    "\n",
    "### Terin\n",
    "5) Given a certain category, what are the top hashtags for that category\n",
    "\n",
    "6) N most common hashtags in a particular city"
   ]
  }
 ],
 "metadata": {
  "kernelspec": {
   "display_name": "Python 3 (ipykernel)",
   "language": "python",
   "name": "python3"
  },
  "language_info": {
   "codemirror_mode": {
    "name": "ipython",
    "version": 3
   },
   "file_extension": ".py",
   "mimetype": "text/x-python",
   "name": "python",
   "nbconvert_exporter": "python",
   "pygments_lexer": "ipython3",
   "version": "3.8.5"
  }
 },
 "nbformat": 4,
 "nbformat_minor": 5
}
