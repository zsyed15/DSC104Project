{
 "cells": [
  {
   "cell_type": "code",
   "execution_count": null,
   "id": "fa2b241c",
   "metadata": {},
   "outputs": [],
   "source": [
    "import json\n",
    "import pandas as pd\n",
    "import re \n",
    "import glob \n",
    "import copy \n",
    "import os \n",
    "import nltk\n",
    "import unicodedata \n",
    "from collections import Counter\n",
    "from nltk.collocations import *\n",
    "import numpy as np "
   ]
  },
  {
   "cell_type": "code",
   "execution_count": null,
   "id": "8941b347",
   "metadata": {},
   "outputs": [],
   "source": [
    "# --- Uncomment below if needed ---\n",
    "# !pip install -U pip setuptools wheel\n",
    "# !pip install -U spacy\n",
    "# nltk.download('stopwords')\n",
    "# nltk.download('wordnet')\n",
    "# nltk.download('omw-1.4')\n",
    "#!python -m spacy download en_core_web_sm"
   ]
  },
  {
   "cell_type": "code",
   "execution_count": null,
   "id": "c7a3e894",
   "metadata": {},
   "outputs": [],
   "source": [
    "bigram_measures = nltk.collocations.BigramAssocMeasures()\n",
    "trigram_measures = nltk.collocations.TrigramAssocMeasures()\n",
    "from nltk.tokenize import word_tokenize\n",
    "from nltk.tag import pos_tag\n",
    "import spacy"
   ]
  },
  {
   "cell_type": "code",
   "execution_count": null,
   "id": "d45d3119",
   "metadata": {},
   "outputs": [],
   "source": [
    "nlp = spacy.load(\"en_core_web_sm\")\n",
    "import en_core_web_sm\n",
    "nlp = en_core_web_sm.load()\n",
    "from bs4 import BeautifulSoup\n",
    "from html import unescape"
   ]
  },
  {
   "cell_type": "code",
   "execution_count": null,
   "id": "91fa2d43",
   "metadata": {},
   "outputs": [],
   "source": [
    "%%time \n",
    "### Creating reviews dataframe \n",
    "data_file = open(\"yelp_academic_dataset_review.json\",encoding='utf-8')\n",
    "data = []\n",
    "for line in data_file:\n",
    "    data.append(json.loads(line))\n",
    "reviewsdf = pd.DataFrame(data)\n",
    "data_file.close()"
   ]
  },
  {
   "cell_type": "code",
   "execution_count": null,
   "id": "8b768ce1",
   "metadata": {},
   "outputs": [],
   "source": [
    "%%time\n",
    "### Creating businesses dataframe \n",
    "data_file = open(\"yelp_academic_dataset_business.json\",encoding='utf-8')\n",
    "data = []\n",
    "for line in data_file:\n",
    "    data.append(json.loads(line))\n",
    "businessdf = pd.DataFrame(data)\n",
    "data_file.close()"
   ]
  },
  {
   "cell_type": "code",
   "execution_count": null,
   "id": "d93407ec",
   "metadata": {},
   "outputs": [],
   "source": [
    "# original dataframes\n",
    "reviewsdf_org = reviewsdf\n",
    "businessdf_org = businessdf"
   ]
  },
  {
   "cell_type": "code",
   "execution_count": null,
   "id": "fbcb2562",
   "metadata": {},
   "outputs": [],
   "source": [
    "%%time\n",
    "city_and_state = businessdf[['business_id', 'city', 'state']]\n",
    "reviewsdf = reviewsdf.merge(city_and_state, on='business_id')\n",
    "reviewsdf"
   ]
  },
  {
   "cell_type": "markdown",
   "id": "67fafe0e",
   "metadata": {},
   "source": [
    "## Using smaller version of reviewsdf with just 30,000 businesses in California for faster processing and querying"
   ]
  },
  {
   "cell_type": "code",
   "execution_count": null,
   "id": "1388395f",
   "metadata": {},
   "outputs": [],
   "source": [
    "reviewsdf = reviewsdf[reviewsdf['state'] == 'CA'].reset_index(drop=True)\n",
    "reviewsdf"
   ]
  },
  {
   "cell_type": "code",
   "execution_count": null,
   "id": "62ee0e2d",
   "metadata": {},
   "outputs": [],
   "source": [
    "reviewsdf = reviewsdf.head(30000)\n",
    "reviewsdf"
   ]
  },
  {
   "cell_type": "markdown",
   "id": "0b83f495",
   "metadata": {},
   "source": [
    "### Generate hashtags from reviews df"
   ]
  },
  {
   "cell_type": "code",
   "execution_count": null,
   "id": "ea4aaf7e",
   "metadata": {},
   "outputs": [],
   "source": [
    "from sklearn.feature_extraction.text import CountVectorizer, TfidfVectorizer"
   ]
  },
  {
   "cell_type": "code",
   "execution_count": null,
   "id": "ae1dffc8",
   "metadata": {},
   "outputs": [],
   "source": [
    "#Adjust mindf parameter\n",
    "mindf = int(len(reviewsdf) * .001)\n",
    "tfidf = TfidfVectorizer(sublinear_tf=True,\n",
    "               analyzer='word',\n",
    "#                max_features=2000,\n",
    "               tokenizer=word_tokenize,\n",
    "               stop_words=nltk.corpus.stopwords.words(\"english\"),min_df=5)"
   ]
  },
  {
   "cell_type": "code",
   "execution_count": null,
   "id": "be16f074",
   "metadata": {},
   "outputs": [],
   "source": [
    "text = list(reviewsdf['text'])\n",
    "text = [re.sub(r'[^A-Za-z]+',\" \",document) for document in text]"
   ]
  },
  {
   "cell_type": "code",
   "execution_count": null,
   "id": "3879609d",
   "metadata": {},
   "outputs": [],
   "source": [
    "%%time\n",
    "hashtagdf = pd.DataFrame(tfidf.fit_transform(text).toarray())"
   ]
  },
  {
   "cell_type": "code",
   "execution_count": null,
   "id": "8d75d60b",
   "metadata": {},
   "outputs": [],
   "source": [
    "hashtagdf.columns = tfidf.get_feature_names()"
   ]
  },
  {
   "cell_type": "code",
   "execution_count": null,
   "id": "58ee8981",
   "metadata": {},
   "outputs": [],
   "source": [
    "hashtagdfsum = hashtagdf.sum()\n",
    "tfidf_scores = [(i,hashtagdfsum[i]) for i in hashtagdfsum.index]\n",
    "tfidf_scores.sort(key=lambda x : x[1],reverse=True)"
   ]
  },
  {
   "cell_type": "code",
   "execution_count": null,
   "id": "020df748",
   "metadata": {},
   "outputs": [],
   "source": [
    "##REMOVE?\n",
    "lower_threshold = int(len(tfidf_scores) * .08)\n",
    "upper_threshold = int(len(tfidf_scores) * .60)\n",
    "scores = tfidf_scores[lower_threshold:]\n",
    "tfidf_dict = {item[0] : item[1] for item in scores}"
   ]
  },
  {
   "cell_type": "code",
   "execution_count": null,
   "id": "0d3115aa",
   "metadata": {},
   "outputs": [],
   "source": [
    "#Maybe add ability to get N most useful tags \n",
    "def generate_tags(text):\n",
    "    tags = set()\n",
    "    for s in text.split(' '):\n",
    "        if s in tfidf_dict:\n",
    "            tags.add(s)\n",
    "    return list(tags)[:5]"
   ]
  },
  {
   "cell_type": "code",
   "execution_count": null,
   "id": "ea529ed9",
   "metadata": {},
   "outputs": [],
   "source": [
    "reviewsdf['tags'] = reviewsdf['text'].apply(generate_tags)"
   ]
  },
  {
   "cell_type": "code",
   "execution_count": null,
   "id": "379546b9",
   "metadata": {},
   "outputs": [],
   "source": [
    "reviewsdf.head(5)"
   ]
  },
  {
   "cell_type": "code",
   "execution_count": null,
   "id": "f6df32fe",
   "metadata": {},
   "outputs": [],
   "source": []
  },
  {
   "cell_type": "code",
   "execution_count": null,
   "id": "a0a85b24",
   "metadata": {},
   "outputs": [],
   "source": [
    "# trigram_measures = nltk.collocations.TrigramAssocMeasures()\n"
   ]
  },
  {
   "cell_type": "code",
   "execution_count": null,
   "id": "5e609d49",
   "metadata": {},
   "outputs": [],
   "source": [
    "# finder = BigramCollocationFinder.from_words()\n",
    "# finder1 = finder.apply_freq_filter(1)\n",
    "# finder.nbest(bigram_measures.pmi, 1500)\n",
    "# #Maybe add bigrams to each string, so they end upo in freq dict\n",
    "# # list(bigrams)"
   ]
  },
  {
   "cell_type": "markdown",
   "id": "a899f201",
   "metadata": {},
   "source": [
    "# Create graph data"
   ]
  },
  {
   "cell_type": "markdown",
   "id": "86df9275",
   "metadata": {},
   "source": [
    "1 ) Create  weighted edges between business and associated hashtags (edge weight is number of reviews that contained particular hashtag?)\n",
    "\n",
    "2) Create weighted edges between hashtags that occur in the same business (or review ?) weight = num co coccurances in reviews?"
   ]
  },
  {
   "cell_type": "markdown",
   "id": "8e743b9f",
   "metadata": {},
   "source": [
    "Drop unecessary columns from reviewsdf "
   ]
  },
  {
   "cell_type": "code",
   "execution_count": null,
   "id": "c3fce8ba",
   "metadata": {
    "scrolled": true
   },
   "outputs": [],
   "source": [
    "reviewsdf = reviewsdf[['review_id','text','business_id','city','state','tags']]\n",
    "reviewsdf"
   ]
  },
  {
   "cell_type": "code",
   "execution_count": null,
   "id": "ecd08cb7",
   "metadata": {},
   "outputs": [],
   "source": [
    "###Create graph between business and associated hashtags \n",
    "from collections import defaultdict\n",
    "businessAndTagGraph = defaultdict(lambda: defaultdict(int))\n",
    "tagsGraph = defaultdict(lambda: defaultdict(int))"
   ]
  },
  {
   "cell_type": "code",
   "execution_count": null,
   "id": "e43e1d53",
   "metadata": {},
   "outputs": [],
   "source": [
    "%%time\n",
    "for review in reviewsdf.itertuples():\n",
    "    businessId = review[3]\n",
    "    tags = review[6]\n",
    "    for i in range(len(tags)): \n",
    "        #Update Edge weights (number of times hashtag occurs in review)\n",
    "        currTag = tags[i]\n",
    "        businessAndTagGraph[businessId][currTag] += 1\n",
    "        #Create edges and weights for tags in same review \n",
    "        for j in range(len(tags)):\n",
    "            if i != j:\n",
    "                 tagsGraph[currTag][tags[j]] += 1\n"
   ]
  },
  {
   "cell_type": "markdown",
   "id": "8776ba17",
   "metadata": {},
   "source": [
    "#### Convert business and tags graph into dataframe/csv format"
   ]
  },
  {
   "cell_type": "code",
   "execution_count": null,
   "id": "3c3cb737",
   "metadata": {},
   "outputs": [],
   "source": [
    "#businessAndTagsdf = pd.DataFrame(columns=['business_id','hashtag','count'])\n",
    "idcol = []\n",
    "hashtagcol = []\n",
    "countcol = []\n",
    "ignore = set(['index_names','column_names','index','columns','data'])\n",
    "for businessid in businessAndTagGraph.keys():\n",
    "    if businessid in ignore:\n",
    "        continue\n",
    "    for vals in businessAndTagGraph[businessid].items():\n",
    "        idcol.append(businessid)\n",
    "        hashtagcol.append(vals[0])\n",
    "        countcol.append(vals[1])\n",
    "        #businessAndTagsdf.append({'business_id':businessid,'hashtag':vals[0],count:vals[1]})\n"
   ]
  },
  {
   "cell_type": "code",
   "execution_count": null,
   "id": "e8362e67",
   "metadata": {},
   "outputs": [],
   "source": [
    "businessAndTagsdf = pd.DataFrame(columns = ['business_id','hashtag','count'])\n",
    "businessAndTagsdf['business_id'] = idcol\n",
    "businessAndTagsdf['hashtag'] = hashtagcol\n",
    "businessAndTagsdf['count'] = countcol"
   ]
  },
  {
   "cell_type": "code",
   "execution_count": null,
   "id": "28927a33",
   "metadata": {},
   "outputs": [],
   "source": []
  },
  {
   "cell_type": "code",
   "execution_count": null,
   "id": "916a34c6",
   "metadata": {},
   "outputs": [],
   "source": [
    "#Resulting df \n",
    "businessdf = businessdf[['business_id','name','address','city','state','latitude','longitude','stars','categories']]"
   ]
  },
  {
   "cell_type": "code",
   "execution_count": null,
   "id": "2cd366dd",
   "metadata": {
    "scrolled": true
   },
   "outputs": [],
   "source": [
    "businessAndTagsdf = businessAndTagsdf.merge(businessdf,on='business_id')\n",
    "businessAndTagsdf"
   ]
  },
  {
   "cell_type": "markdown",
   "id": "e5bc7cc4",
   "metadata": {},
   "source": [
    "##### Convert tags graph to df/csv format"
   ]
  },
  {
   "cell_type": "code",
   "execution_count": null,
   "id": "67ca8f7c",
   "metadata": {},
   "outputs": [],
   "source": [
    "tag1 = []\n",
    "tag2 = []\n",
    "sharedOccurances = []\n",
    "for tag in tagsGraph.keys():\n",
    "    for vals in tagsGraph[tag].items():\n",
    "        tag1.append(tag)\n",
    "        tag2.append(vals[0])\n",
    "        sharedOccurances.append(vals[1])"
   ]
  },
  {
   "cell_type": "code",
   "execution_count": null,
   "id": "774f320b",
   "metadata": {},
   "outputs": [],
   "source": [
    "tagsDf = pd.DataFrame(columns = ['tag1','tag2','sharedOccurances'])\n",
    "tagsDf['tag1'] = tag1\n",
    "tagsDf['tag2'] = tag2\n",
    "tagsDf['sharedOccurances']= sharedOccurances"
   ]
  },
  {
   "cell_type": "code",
   "execution_count": null,
   "id": "e2e12c65",
   "metadata": {},
   "outputs": [],
   "source": [
    "tagsDf"
   ]
  },
  {
   "cell_type": "markdown",
   "id": "a28f1b6c",
   "metadata": {},
   "source": [
    "#### Save graphs to csv"
   ]
  },
  {
   "cell_type": "code",
   "execution_count": null,
   "id": "ccce5ab2",
   "metadata": {},
   "outputs": [],
   "source": [
    "businessAndTagsdf.to_csv('businessAndTags.csv')\n",
    "tagsDf.to_csv('tagsGraph.csv')"
   ]
  },
  {
   "cell_type": "markdown",
   "id": "21479b00",
   "metadata": {},
   "source": [
    "# Import data into Neo4j"
   ]
  },
  {
   "cell_type": "code",
   "execution_count": null,
   "id": "8e09ada8",
   "metadata": {},
   "outputs": [],
   "source": [
    "from neo4j import GraphDatabase\n",
    "import neo4j"
   ]
  },
  {
   "cell_type": "code",
   "execution_count": null,
   "id": "3b5468b2",
   "metadata": {},
   "outputs": [],
   "source": [
    "uri = \"bolt://localhost:7666\"\n",
    "username = \"neo4j\"\n",
    "password = \"password\"\n",
    "\n",
    "def create_neo4j_session(uri, username, password):\n",
    "    try:\n",
    "        driver = GraphDatabase.driver(uri, auth=(username, password))\n",
    "        session = driver.session()\n",
    "        return session\n",
    "    except Exception as e:\n",
    "        print(f\"Failed to create Neo4j session: {e}\")\n",
    "        return None\n",
    "\n",
    "session = create_neo4j_session(uri, username, password)"
   ]
  },
  {
   "cell_type": "code",
   "execution_count": null,
   "id": "e4d899a2",
   "metadata": {},
   "outputs": [],
   "source": [
    "# Deleting all existing constraints\n",
    "deleting_constraints = \"CALL apoc.schema.assert({}, {})\"\n",
    "session.run(deleting_constraints)\n",
    "\n",
    "# Creating constraints for our graph\n",
    "constraint_1 = \"CREATE CONSTRAINT FOR (b:Business) REQUIRE b.id IS UNIQUE;\"\n",
    "constraint_2 = \"CREATE CONSTRAINT FOR (t:tag) REQUIRE t.name IS UNIQUE;\"\n",
    "\n",
    "session.run(constraint_1)\n",
    "session.run(constraint_2)"
   ]
  },
  {
   "cell_type": "code",
   "execution_count": null,
   "id": "777251f2",
   "metadata": {},
   "outputs": [],
   "source": [
    "%%time\n",
    "# Creating tag nodes and SHARED_TAGS relationship between tags with shared occurences\n",
    "create_tags = \"\"\"\n",
    "LOAD CSV WITH HEADERS FROM 'file:///tagsGraph.csv' AS row  \n",
    "WITH row\n",
    "CALL {\n",
    "WITH row\n",
    "MERGE (t1:tag {id: row.tag1})\n",
    "MERGE (t2:tag {id: row.tag2})\n",
    "MERGE (t1)-[r:SHARED_TAGS]-(t2)\n",
    "SET r.shared_count = row.sharedOccurances\n",
    "} IN TRANSACTIONS\"\"\"\n",
    "\n",
    "# takes about 30-45 minutes for version of reviewsdf with 30,000 rows from just California\n",
    "session.run(create_tags)"
   ]
  },
  {
   "cell_type": "code",
   "execution_count": null,
   "id": "decf77b9",
   "metadata": {},
   "outputs": [],
   "source": [
    "%%time\n",
    "# Creating Business nodes and HAS_TAG relationship between the business and every tag that business has had in their reviews\n",
    "create_business = \"\"\"\n",
    "LOAD CSV WITH HEADERS FROM 'file:///businessAndTags.csv' AS row  \n",
    "WITH row\n",
    "CALL {\n",
    "WITH row\n",
    "MERGE (b:Business {id: row.business_id})\n",
    "SET b.name =  row.name, \n",
    "    b.address = row.address,\n",
    "    b.city = row.city,\n",
    "    b.state = row.state,\n",
    "    b.latitude = row.latitude,\n",
    "    b.longitude = row.longitude,\n",
    "    b.rating = row.stars,\n",
    "    b.categories = split(row.categories, ', ')\n",
    "MERGE (t:tag {name: row.hashtag})\n",
    "MERGE (b)-[r:HAS_TAG]->(t)\n",
    "SET r.tag_count = row.count\n",
    "} IN TRANSACTIONS\n",
    "\"\"\"\n",
    "\n",
    "session.run(create_business)"
   ]
  },
  {
   "cell_type": "markdown",
   "id": "27014f04",
   "metadata": {},
   "source": [
    "## Applications"
   ]
  },
  {
   "cell_type": "code",
   "execution_count": 38,
   "id": "360f3476",
   "metadata": {},
   "outputs": [],
   "source": [
    "import redis\n",
    "import time\n",
    "\n",
    "# Connect to Redis container\n",
    "r = redis.Redis(host='localhost', port=6379, db=0, decode_responses=True)"
   ]
  },
  {
   "cell_type": "code",
   "execution_count": 82,
   "id": "8bcf6f98",
   "metadata": {},
   "outputs": [
    {
     "data": {
      "text/plain": [
       "True"
      ]
     },
     "execution_count": 82,
     "metadata": {},
     "output_type": "execute_result"
    }
   ],
   "source": [
    "r.flushall()"
   ]
  },
  {
   "cell_type": "markdown",
   "id": "f424a768",
   "metadata": {},
   "source": [
    "### Application 1: Finding the n closest businesses that share a tag with the given business id\n",
    "- Given a businessid and n, which is the number of businesses the user wants to query\n",
    "- Finds businesses that share at least one common tag with the given business id AND has at least one matching category\n",
    "- Calculates the distance between all of those businesses and the given business, and finds the n closest ones"
   ]
  },
  {
   "cell_type": "code",
   "execution_count": 83,
   "id": "44b05389",
   "metadata": {},
   "outputs": [],
   "source": [
    "def closest_similar_businesses(business_id, n):\n",
    "    app1_query = \"\"\"MATCH (b1:Business) - [ht1:HAS_TAG] -> (t:tag) <- [ht2:HAS_TAG] - (b2:Business)\n",
    "    WHERE b1.id = '\"\"\" + business_id + \"\"\"' AND b1 <> b2 AND ANY(category IN b2.categories WHERE category IN b1.categories)\n",
    "    WITH b1, b2, t\n",
    "    ORDER BY point.distance(point({longitude: toFloat(b1.longitude), latitude: toFloat(b1.latitude)}), point({longitude: toFloat(b2.longitude), latitude: toFloat(b2.latitude)})) ASC\n",
    "    WITH DISTINCT b2, b1\n",
    "    LIMIT \"\"\" + str(n) + \"\"\"\n",
    "    RETURN b2, point.distance(point({longitude: toFloat(b1.longitude), latitude: toFloat(b1.latitude)}), point({longitude: toFloat(b2.longitude), latitude: toFloat(b2.latitude)})) AS distance\n",
    "    \"\"\"\n",
    "    query_inputs = business_id + \" \" + str(n)\n",
    "    cached_data = r.get(query_inputs)\n",
    "    # if data is in cache already, retrieve query result from cache and return it\n",
    "    if cached_data is not None:\n",
    "        return cached_data\n",
    "    \n",
    "    given_business_name = session.run(f\"\"\"MATCH (b:Business) WHERE b.id = \"{business_id}\" RETURN b.name\"\"\") # gets business name\n",
    "    results = session.run(app1_query) # gets the result of app1_query\n",
    "    \n",
    "    # formulates the output to user from the results of the query\n",
    "    output = str(n) + \" closest similar businesses to \" + given_business_name.value()[0] + \": \\n\\n\"\n",
    "    for ind, x in enumerate(results):\n",
    "        output = output + str(ind + 1) + \": \" + x.values()[0].get('name') + \", which is \" + str(round(x.values()[1] / 1000, 2)) + \" km(s) away\" + \"\\n\"\n",
    "        \n",
    "    # store query result in cache and return the query result\n",
    "    r.set(query_inputs, output)\n",
    "    return output"
   ]
  },
  {
   "cell_type": "code",
   "execution_count": 84,
   "id": "b3d6d652",
   "metadata": {},
   "outputs": [
    {
     "name": "stdout",
     "output_type": "stream",
     "text": [
      "5 closest similar businesses to Los Padres National Forest: \n",
      "\n",
      "1: Run Montecito-Summerland, which is 21.06 km(s) away\n",
      "2: Surf Happens, which is 21.55 km(s) away\n",
      "3: Carpinteria Bluffs Nature Preserve, which is 23.48 km(s) away\n",
      "4: Franceschi Park, which is 24.27 km(s) away\n",
      "5: Paragon Jiu Jitsu and Kickboxing, which is 25.36 km(s) away\n",
      "\n"
     ]
    }
   ],
   "source": [
    "# demo of 5 closest similar businesses to Los Padres National Forest\n",
    "print(closest_similar_businesses(\"B5XSoSG3SfvQGtKEGQ1tSQ\", 5))"
   ]
  },
  {
   "cell_type": "code",
   "execution_count": 85,
   "id": "12a5eaff",
   "metadata": {},
   "outputs": [
    {
     "name": "stdout",
     "output_type": "stream",
     "text": [
      "3 closest similar businesses to Hibachi Steak House & Sushi Bar: \n",
      "\n",
      "1: Mad Dogs, which is 0.03 km(s) away\n",
      "2: Barbarians, which is 0.04 km(s) away\n",
      "3: Caffe Primo, which is 0.06 km(s) away\n",
      "\n"
     ]
    }
   ],
   "source": [
    "# demo of 3 closest similar businesses to Hibachi Steak House & Sushi Bar\n",
    "print(closest_similar_businesses(\"gebiRewfieSdtt17PTW6Zg\", 3))"
   ]
  },
  {
   "cell_type": "code",
   "execution_count": 86,
   "id": "640c4015",
   "metadata": {},
   "outputs": [
    {
     "name": "stdout",
     "output_type": "stream",
     "text": [
      "1 : 0.10937023162841797\n",
      "2 : 0.0010113716125488281\n",
      "3 : 0.0015058517456054688\n",
      "4 : 0.0\n",
      "5 : 0.0010075569152832031\n"
     ]
    }
   ],
   "source": [
    "# demo of how cache speeds up queries that have been made before\n",
    "for i in range(5):\n",
    "    start = time.time()\n",
    "    closest_similar_businesses(\"gebiRewfieSdtt17PTW6Zg\", 8)\n",
    "    end = time.time()\n",
    "    print(i + 1, \":\", end - start)"
   ]
  },
  {
   "cell_type": "markdown",
   "id": "36d64d77",
   "metadata": {},
   "source": [
    "### Application 2: Find n businesses in a given city that is the most similar to a given business id\n",
    "- Given a businessid, a city name, and n, which is the number of businesses the user wants to query\n",
    "- Finds businesses in the given city that share the most number of tags with the given business\n",
    "- Return the top n business names"
   ]
  },
  {
   "cell_type": "code",
   "execution_count": 87,
   "id": "b96231d3",
   "metadata": {},
   "outputs": [],
   "source": [
    "def most_similar_in_city(business_id, city, n):\n",
    "    app2_query = \"\"\"MATCH (b1:Business) - [ht1:HAS_TAG] -> (t:tag) <- [ht2:HAS_TAG] - (b2:Business)\n",
    "    WHERE b1 <> b2 AND b2.city = '\"\"\" + city + \"\"\"' AND b1.id = '\"\"\" + business_id + \"\"\"' AND ANY(category IN b2.categories WHERE category IN b1.categories)\n",
    "    WITH b1, b2, count(DISTINCT t) AS matching_tags\n",
    "    ORDER BY matching_tags DESC\n",
    "    LIMIT \"\"\" + str(n) + \"\"\"\n",
    "    RETURN b2.name AS name, matching_tags\n",
    "    \"\"\"\n",
    "    query_inputs = business_id + \" \" + city + \" \" + str(n)\n",
    "    cached_data = r.get(query_inputs)\n",
    "    # if data is in cache already, retrieve query result from cache and return it\n",
    "    if cached_data is not None:\n",
    "        return cached_data\n",
    "    \n",
    "    given_business_name = session.run(f\"\"\"MATCH (b:Business) WHERE b.id = \"{business_id}\" RETURN b.name\"\"\") # gets business name\n",
    "    results = session.run(app2_query) # gets the result of app2_query\n",
    "    \n",
    "    # formulates the output to user from the results of the query\n",
    "    output = str(n) + \" most similar businesses to \" + given_business_name.value()[0] + \" in the city of \" + city + \":\\n\\n\"\n",
    "    for ind, x in enumerate(results):\n",
    "        output = output + str(ind + 1) + \": \" + x.values()[0] + \", with \" + str(x.values()[1]) + \" matching tags\\n\"\n",
    "        \n",
    "    # store query result in cache and return the query result\n",
    "    r.set(query_inputs, output)\n",
    "    return output"
   ]
  },
  {
   "cell_type": "code",
   "execution_count": 88,
   "id": "cab96e6a",
   "metadata": {},
   "outputs": [
    {
     "name": "stdout",
     "output_type": "stream",
     "text": [
      "5 most similar businesses to Hibachi Steak House & Sushi Bar in the city of Goleta:\n",
      "\n",
      "1: The Original Habit Burger Grill, with 262 matching tags\n",
      "2: In-N-Out Burger, with 211 matching tags\n",
      "3: Phamous Cafe, with 208 matching tags\n",
      "4: Sushiya Express, with 198 matching tags\n",
      "5: Cal Taco, with 191 matching tags\n",
      "\n"
     ]
    }
   ],
   "source": [
    "# demo of 5 most similar businesses in Goleta to Hibachi Steak House & Sushi Bar (Santa Barbara)\n",
    "print(most_similar_in_city(\"gebiRewfieSdtt17PTW6Zg\", \"Goleta\", 5))"
   ]
  },
  {
   "cell_type": "code",
   "execution_count": 89,
   "id": "0cb9ee3b",
   "metadata": {},
   "outputs": [
    {
     "name": "stdout",
     "output_type": "stream",
     "text": [
      "10 most similar businesses to Pho Bistro in the city of Santa Barbara:\n",
      "\n",
      "1: Santa Barbara Shellfish Company, with 315 matching tags\n",
      "2: Cold Spring Tavern, with 213 matching tags\n",
      "3: Dawn Patrol, with 203 matching tags\n",
      "4: Hibachi Steak House & Sushi Bar, with 201 matching tags\n",
      "5: Backyard Bowls, with 193 matching tags\n",
      "6: Bluewater Grill - Santa Barbara, with 186 matching tags\n",
      "7: Chase Restaurant, with 167 matching tags\n",
      "8: Zen Yai Thai Cuisine, with 142 matching tags\n",
      "9: Sakana Sushi Bar & Japanese, with 139 matching tags\n",
      "10: Deep Sea Tasting Room, with 134 matching tags\n",
      "\n"
     ]
    }
   ],
   "source": [
    "# demo of 10 most similar businesses in Santa Barbara to Pho Bistro (Isla Vista)\n",
    "print(most_similar_in_city(\"bdfZdB2MTXlT6-RBjSIpQg\", \"Santa Barbara\", 10))"
   ]
  },
  {
   "cell_type": "code",
   "execution_count": 90,
   "id": "623305cf",
   "metadata": {},
   "outputs": [
    {
     "name": "stdout",
     "output_type": "stream",
     "text": [
      "1 : 0.11350846290588379\n",
      "2 : 0.0015158653259277344\n",
      "3 : 0.0010046958923339844\n",
      "4 : 0.0\n",
      "5 : 0.0\n"
     ]
    }
   ],
   "source": [
    "# demo of how cache speeds up queries that have been made before\n",
    "for i in range(5):\n",
    "    start = time.time()\n",
    "    most_similar_in_city(\"gebiRewfieSdtt17PTW6Zg\", \"Santa Barbara\", 8)\n",
    "    end = time.time()\n",
    "    print(i + 1, \":\", end - start)"
   ]
  },
  {
   "cell_type": "markdown",
   "id": "3e6f2f10",
   "metadata": {},
   "source": [
    "### Application 3 -  Find the N highest rated business in a city that contains atleast one specified hashtag from a list of provided hashtags "
   ]
  },
  {
   "cell_type": "code",
   "execution_count": 91,
   "id": "784ecba3",
   "metadata": {},
   "outputs": [],
   "source": [
    "def getNHighestRatedFromCity(city,hashtags,n,sort):\n",
    "    \n",
    "    whereClause = 'WHERE'\n",
    "    for i in range(len(hashtags)):\n",
    "        if i == len(hashtags) -1:\n",
    "            whereClause += f\" t.name = '{hashtags[i]}'\"\n",
    "        else:\n",
    "            whereClause += f\" t.name = '{hashtags[i]}' OR\"\n",
    "            \n",
    "    query = f'''MATCH p=(b : Business{{city:\\'{city}'}})-[r:HAS_TAG]-(t:tag) {whereClause} RETURN b ORDER BY\n",
    "    b.rating {sort} LIMIT {n}'''\n",
    "    \n",
    "    query_inputs = \"highestRatedFromCity\" + city + \" \" + str(hashtags) + \" \" + str(n) + \" \" + str(sort) + \" \"\n",
    "    cached_data = r.get(query_inputs)\n",
    "    \n",
    "    if cached_data is not None:\n",
    "        return cached_data\n",
    "    res = session.run(query)\n",
    "    output  = showOutputA3(res)\n",
    "    r.set(query_inputs, output)\n",
    "    \n",
    "    return output\n",
    "\n",
    "#The raw output of function above gives full record info, this function is a cleaner way to output results\n",
    "def showOutputA3(records):\n",
    "    output = \"\"\n",
    "    for r in records:\n",
    "        name = r['b']['name']\n",
    "        city = r['b']['city']\n",
    "        rating = r['b']['rating']\n",
    "        output += (f'Business Name: {name}, City: {city}, Rating: {rating}\\n')\n",
    "    return output\n"
   ]
  },
  {
   "cell_type": "markdown",
   "id": "6b359bf9",
   "metadata": {},
   "source": [
    "Here is an example of what the raw output of the function looks like"
   ]
  },
  {
   "cell_type": "code",
   "execution_count": 92,
   "id": "a24ebaef",
   "metadata": {
    "scrolled": true
   },
   "outputs": [
    {
     "data": {
      "text/plain": [
       "'Business Name: Terra Malia Designs, City: Santa Barbara, Rating: 5.0\\n'"
      ]
     },
     "execution_count": 92,
     "metadata": {},
     "output_type": "execute_result"
    }
   ],
   "source": [
    "getNHighestRatedFromCity('Santa Barbara',['awful'],1,'DESC')"
   ]
  },
  {
   "cell_type": "markdown",
   "id": "e3d1f9be",
   "metadata": {},
   "source": [
    "Here is an example of the five lowest rated businesses that has reviews containing the hashtag awful"
   ]
  },
  {
   "cell_type": "code",
   "execution_count": 93,
   "id": "8de38038",
   "metadata": {},
   "outputs": [
    {
     "name": "stdout",
     "output_type": "stream",
     "text": [
      "Business Name: China Bowl & State Street Cafe, City: Santa Barbara, Rating: 2.0\n",
      "Business Name: Artistic Nails & Spa, City: Santa Barbara, Rating: 2.0\n",
      "Business Name: India House, City: Santa Barbara, Rating: 2.0\n",
      "Business Name: Sandpiper Lodge, City: Santa Barbara, Rating: 2.5\n",
      "Business Name: Tonic Nightclub, City: Santa Barbara, Rating: 2.5\n",
      "\n"
     ]
    }
   ],
   "source": [
    "res = getNHighestRatedFromCity('Santa Barbara',['awful'],5,'ASC')\n",
    "print(res)"
   ]
  },
  {
   "cell_type": "markdown",
   "id": "282f8cf9",
   "metadata": {},
   "source": [
    "Here is an example of the five highest rated businesses that has reviews containing the hashtag awful "
   ]
  },
  {
   "cell_type": "code",
   "execution_count": 94,
   "id": "0c3ffc59",
   "metadata": {},
   "outputs": [
    {
     "name": "stdout",
     "output_type": "stream",
     "text": [
      "Business Name: The Dress, City: Santa Barbara, Rating: 5.0\n",
      "Business Name: Terra Malia Designs, City: Santa Barbara, Rating: 5.0\n",
      "Business Name: Taqueria Cuernavaca, City: Santa Barbara, Rating: 4.5\n",
      "Business Name: Cold Spring Tavern, City: Santa Barbara, Rating: 4.5\n",
      "Business Name: 805 Ink, City: Santa Barbara, Rating: 4.5\n",
      "\n"
     ]
    }
   ],
   "source": [
    "res = getNHighestRatedFromCity('Santa Barbara',['awful'],5,'DESC')\n",
    "print(res)"
   ]
  },
  {
   "cell_type": "markdown",
   "id": "14aedc57",
   "metadata": {},
   "source": [
    "Here is an example of the five lowest rated businesses that has reviews which contain either the hashtag 'awful' or 'dead' (as you can see, it is different from the output above)"
   ]
  },
  {
   "cell_type": "code",
   "execution_count": 95,
   "id": "6862b1e5",
   "metadata": {},
   "outputs": [
    {
     "name": "stdout",
     "output_type": "stream",
     "text": [
      "1 : 0.00741267204284668\n",
      "2 : 0.0005283355712890625\n",
      "3 : 0.0005371570587158203\n",
      "4 : 0.0005171298980712891\n",
      "5 : 0.0005445480346679688\n",
      "\n",
      "OUTPUT:\n",
      "Business Name: The Dress, City: Santa Barbara, Rating: 5.0\n",
      "Business Name: Terra Malia Designs, City: Santa Barbara, Rating: 5.0\n",
      "Business Name: Taqueria Cuernavaca, City: Santa Barbara, Rating: 4.5\n",
      "Business Name: Cold Spring Tavern, City: Santa Barbara, Rating: 4.5\n",
      "Business Name: 805 Ink, City: Santa Barbara, Rating: 4.5\n",
      "\n"
     ]
    }
   ],
   "source": [
    "# demo of how cache speeds up queries that have been made before\n",
    "for i in range(5):\n",
    "    start = time.time()\n",
    "    res = getNHighestRatedFromCity('Santa Barbara',['awful','dead'],5,'DESC')\n",
    "    #showOutputA3(res)\n",
    "    end = time.time()\n",
    "    print(i + 1, \":\", end - start)\n",
    "print(\"\\nOUTPUT:\")\n",
    "print(res)"
   ]
  },
  {
   "cell_type": "markdown",
   "id": "2f6a16d0",
   "metadata": {},
   "source": [
    "### Application 4: Find top N hashtags that are associated with a specific business id \n"
   ]
  },
  {
   "cell_type": "code",
   "execution_count": 96,
   "id": "f0d1f674",
   "metadata": {},
   "outputs": [],
   "source": [
    "exampleBusinessId1 = 'qdpdUjdkEUpzYDdce2yZng'\n",
    "exampleBusinessId2 = 'B5XSoSG3SfvQGtKEGQ1tSQ'"
   ]
  },
  {
   "cell_type": "code",
   "execution_count": 97,
   "id": "c08933a8",
   "metadata": {},
   "outputs": [],
   "source": [
    "def topNHashtagsForBusiness(businessId,k):\n",
    "    \n",
    "    query_inputs = 'topKHashtagsPerBusiness'+ \" \" + businessId + \" \"+ str(k)\n",
    "    query = f'''Match(b:Business{{id:'{businessId}'}})-[r:HAS_TAG]-(t)  return t,r.tag_count Order by r.tag_count DESC LIMIT {k}'''\n",
    "    cached_data = r.get(query_inputs)\n",
    "    \n",
    "    if cached_data is not None:\n",
    "        return cached_data\n",
    "    \n",
    "    res = session.run(query)\n",
    "    output = showOutputA4(res)\n",
    "    r.set(query_inputs,output)\n",
    "    return output \n",
    "\n",
    "def showOutputA4(records):\n",
    "    output = ''\n",
    "    for r in records:\n",
    "        tag = r['t']['name']\n",
    "        count = r['r.tag_count']\n",
    "        output += (f'Hashtag: {tag}, Count: {count}' + '\\n')\n",
    "    return output "
   ]
  },
  {
   "cell_type": "markdown",
   "id": "201ed188",
   "metadata": {},
   "source": [
    "Here you can see an example of the top 10 hashtags associated with exampleBusinessId1 defined above"
   ]
  },
  {
   "cell_type": "code",
   "execution_count": 98,
   "id": "a3fee5b5",
   "metadata": {},
   "outputs": [
    {
     "name": "stdout",
     "output_type": "stream",
     "text": [
      "Hashtag: turkey, Count: 8\n",
      "Hashtag: subs, Count: 7\n",
      "Hashtag: sub, Count: 7\n",
      "Hashtag: soda, Count: 7\n",
      "Hashtag: plaza, Count: 6\n",
      "Hashtag: squaw, Count: 5\n",
      "Hashtag: roast, Count: 5\n",
      "Hashtag: classic, Count: 4\n",
      "Hashtag: walls, Count: 4\n",
      "Hashtag: vintage, Count: 4\n",
      "\n"
     ]
    }
   ],
   "source": [
    "res = topNHashtagsForBusiness(exampleBusinessId1,10)\n",
    "print(res)"
   ]
  },
  {
   "cell_type": "markdown",
   "id": "126dd19a",
   "metadata": {},
   "source": [
    "Here you can see an example of the top 10 hashtags associated with exampleBusinessId2 defined above as well as a demonstration of speed up from cached queries "
   ]
  },
  {
   "cell_type": "code",
   "execution_count": 99,
   "id": "bf0dd140",
   "metadata": {},
   "outputs": [
    {
     "name": "stdout",
     "output_type": "stream",
     "text": [
      "1 : 0.00600123405456543\n",
      "2 : 0.0009984970092773438\n",
      "3 : 0.0\n",
      "4 : 0.0010404586791992188\n",
      "5 : 0.0\n",
      "\n",
      "Result: \n",
      "Hashtag: national, Count: 5\n",
      "Hashtag: forest, Count: 3\n",
      "Hashtag: hikes, Count: 2\n",
      "Hashtag: areas, Count: 2\n",
      "Hashtag: follow, Count: 1\n",
      "Hashtag: fault, Count: 1\n",
      "Hashtag: flowing, Count: 1\n",
      "Hashtag: headed, Count: 1\n",
      "Hashtag: miles, Count: 1\n",
      "Hashtag: shade, Count: 1\n",
      "\n"
     ]
    }
   ],
   "source": [
    "# demo of how cache speeds up queries that have been made before\n",
    "for i in range(5):\n",
    "    start = time.time()\n",
    "    res = topNHashtagsForBusiness(exampleBusinessId2,10)\n",
    "    end = time.time()\n",
    "    print(i + 1, \":\", end - start)\n",
    "print('\\nResult: ')\n",
    "print(res)"
   ]
  },
  {
   "cell_type": "markdown",
   "id": "ab445a14",
   "metadata": {},
   "source": [
    "### Application 5 ( Hashtag Relationships): Find N most common hashtags that occur in the same reviews as provided hashtag \n",
    "\n",
    "Return restaurants that have reviews containing these hashtags"
   ]
  },
  {
   "cell_type": "code",
   "execution_count": 100,
   "id": "855b426d",
   "metadata": {},
   "outputs": [],
   "source": [
    "def findBusinessesWithNMostCommonTags(hashtag,n,k):\n",
    "    query_inputs = 'findBusinessesWithMostCommonTags' + 'x' + hashtag + ' ' + str(n) + str(k)\n",
    "    query = f'''\n",
    "    Match p = (t1:tag{{id:'{hashtag}'}})-[r1:SHARED_TAGS]-(t2:tag)  \n",
    "    Match (b:Business)-[HAS_TAG]-(t3:tag{{name:t2.id}})\n",
    "    RETURN b,t2,t3,r1.shared_count ORDER BY r1.shared_count DESC Limit {k}\n",
    "    '''\n",
    "    cached_data = r.get(query_inputs)\n",
    "    if cached_data is not None:\n",
    "        return cached_data\n",
    "    \n",
    "    res = session.run(query)\n",
    "    output = showOutputA5(res)\n",
    "    r.set(query_inputs,output)\n",
    "    return output\n",
    "def showOutputA5(records):\n",
    "    output = ''\n",
    "    for r in records:\n",
    "        name = r['b']['name']\n",
    "        commonTag  = r['t2']['id']\n",
    "        tagCount = r['r1.shared_count']\n",
    "        output += (f'Business: {name} | Tag Name: {commonTag} | Tag Count: {tagCount}' + '\\n')\n",
    "    return output"
   ]
  },
  {
   "cell_type": "code",
   "execution_count": 101,
   "id": "121650a3",
   "metadata": {},
   "outputs": [
    {
     "name": "stdout",
     "output_type": "stream",
     "text": [
      "Business: Cava Restaurant & Bar | Tag Name: hold | Tag Count: 3\n",
      "Business: Santa Barbara Humane  | Tag Name: hold | Tag Count: 3\n",
      "Business: Carpinteria 76 | Tag Name: hold | Tag Count: 3\n",
      "Business: Will Nelson Fitness | Tag Name: hold | Tag Count: 3\n",
      "Business: ParadICE Hawaiian Shave Ice & Ice Cream | Tag Name: hold | Tag Count: 3\n",
      "Business: Loose Pooch Dog Club | Tag Name: hold | Tag Count: 3\n",
      "Business: Gossip | Tag Name: hold | Tag Count: 3\n",
      "Business: Seaside Gardens | Tag Name: hold | Tag Count: 3\n",
      "Business: Wheel Fun Rentals | Tag Name: hold | Tag Count: 3\n",
      "Business: Bluewater Grill - Santa Barbara | Tag Name: hold | Tag Count: 3\n",
      "\n"
     ]
    }
   ],
   "source": [
    "res = (findBusinessesWithNMostCommonTags('awful',3, 10))\n",
    "print(res)"
   ]
  },
  {
   "cell_type": "code",
   "execution_count": 102,
   "id": "6d94aba0",
   "metadata": {},
   "outputs": [
    {
     "name": "stdout",
     "output_type": "stream",
     "text": [
      "1 : 0.010545492172241211\n",
      "2 : 0.0010008811950683594\n",
      "3 : 0.0009882450103759766\n",
      "4 : 0.0\n",
      "5 : 0.0009999275207519531\n",
      "\n",
      "Result:\n",
      "Business: Santa Barbara Shellfish Company | Tag Name: abalone | Tag Count: 1\n",
      "Business: Santa Barbara Certified Farmers Market | Tag Name: baguette | Tag Count: 1\n",
      "Business: Pho Bistro | Tag Name: baguette | Tag Count: 1\n",
      "Business: Farmer Boy | Tag Name: baguette | Tag Count: 1\n",
      "Business: Phamous Cafe | Tag Name: baguette | Tag Count: 1\n",
      "\n"
     ]
    }
   ],
   "source": [
    "# demo of how cache speeds up queries that have been made before\n",
    "for i in range(5):\n",
    "    start = time.time()\n",
    "    res = (findBusinessesWithNMostCommonTags('smelly',30, 5))\n",
    "    end = time.time()\n",
    "    print(i + 1, \":\", end - start)\n",
    "print('\\nResult:')\n",
    "print(res)"
   ]
  },
  {
   "cell_type": "markdown",
   "id": "c72f4dae",
   "metadata": {},
   "source": [
    "### Application 6: Given a certain category, what are the top hashtags for that category"
   ]
  },
  {
   "cell_type": "code",
   "execution_count": 103,
   "id": "2ba2553c",
   "metadata": {},
   "outputs": [],
   "source": [
    "def top_hashtags_per_category(category):\n",
    "    query = f\"\"\"MATCH (b:Business)-[:HAS_TAG]->(t:tag)\n",
    "WHERE '{category}' IN b.categories\n",
    "RETURN t, COUNT(t)\n",
    "ORDER BY COUNT(t) DESC\n",
    "LIMIT 10\"\"\"\n",
    "    \n",
    "    \n",
    "    query_inputs = f\"{category}\"\n",
    "    cached_data = r.get(query_inputs)\n",
    "\n",
    "    if cached_data is not None:\n",
    "        return cached_data\n",
    "    \n",
    "    result = session.run(query)\n",
    "    \n",
    "    output = f\"Top Hashtags for {category} Category:\\n\\n\"\n",
    "    \n",
    "    for ind, record in enumerate(result):\n",
    "        tag = record['t']['name']\n",
    "        count = record['COUNT(t)']\n",
    "        output = output + f'Hashtag: {tag}, Count: {count}\\n'\n",
    "\n",
    "    r.set(query_inputs, output)\n",
    "    return output"
   ]
  },
  {
   "cell_type": "code",
   "execution_count": 104,
   "id": "63be3701",
   "metadata": {},
   "outputs": [
    {
     "name": "stdout",
     "output_type": "stream",
     "text": [
      "Top Hashtags for Sandwiches Category:\n",
      "\n",
      "Hashtag: turkey, Count: 7\n",
      "Hashtag: crunchy, Count: 7\n",
      "Hashtag: support, Count: 7\n",
      "Hashtag: classic, Count: 6\n",
      "Hashtag: picking, Count: 6\n",
      "Hashtag: standing, Count: 6\n",
      "Hashtag: employee, Count: 5\n",
      "Hashtag: toasted, Count: 5\n",
      "Hashtag: particularly, Count: 5\n",
      "Hashtag: purchased, Count: 5\n",
      "\n"
     ]
    }
   ],
   "source": [
    "print(top_hashtags_per_category('Sandwiches'))"
   ]
  },
  {
   "cell_type": "code",
   "execution_count": 105,
   "id": "346f4a27",
   "metadata": {
    "scrolled": true
   },
   "outputs": [
    {
     "name": "stdout",
     "output_type": "stream",
     "text": [
      "Top Hashtags for Bakeries Category:\n",
      "\n",
      "Hashtag: stand, Count: 5\n",
      "Hashtag: wide, Count: 5\n",
      "Hashtag: cookies, Count: 5\n",
      "Hashtag: support, Count: 5\n",
      "Hashtag: daily, Count: 5\n",
      "Hashtag: treats, Count: 5\n",
      "Hashtag: croissant, Count: 4\n",
      "Hashtag: cookie, Count: 4\n",
      "Hashtag: become, Count: 4\n",
      "Hashtag: ton, Count: 4\n",
      "\n"
     ]
    }
   ],
   "source": [
    "print(top_hashtags_per_category('Bakeries'))"
   ]
  },
  {
   "cell_type": "code",
   "execution_count": 106,
   "id": "67637cfb",
   "metadata": {},
   "outputs": [
    {
     "name": "stdout",
     "output_type": "stream",
     "text": [
      "1 : 0.021537303924560547\n",
      "2 : 0.0015077590942382812\n",
      "3 : 0.0\n",
      "4 : 0.0010225772857666016\n",
      "5 : 0.0\n"
     ]
    }
   ],
   "source": [
    "# demo of how cache speeds up queries that have been made before\n",
    "for i in range(5):\n",
    "    start = time.time()\n",
    "    top_hashtags_per_category('Restaurants')\n",
    "    end = time.time()\n",
    "    print(i + 1, \":\", end - start)"
   ]
  },
  {
   "cell_type": "markdown",
   "id": "59d90d28",
   "metadata": {},
   "source": [
    "###  Application 7: N most common hashtags in a particular city"
   ]
  },
  {
   "cell_type": "code",
   "execution_count": 107,
   "id": "2547b3ac",
   "metadata": {},
   "outputs": [],
   "source": [
    "def n_common_city_hashtags(city, N):\n",
    "    query = f\"\"\"MATCH (b:Business)-[:HAS_TAG]->(t:tag)\n",
    "WHERE b.city = '{city}'\n",
    "RETURN t, COUNT(t)\n",
    "ORDER BY COUNT(t) DESC\n",
    "LIMIT {N}\"\"\"\n",
    "    \n",
    "    query_inputs = f\"{city} {N}\"\n",
    "    cached_data = r.get(query_inputs)\n",
    "    \n",
    "    if cached_data is not None:\n",
    "        return cached_data\n",
    "    \n",
    "    result = session.run(query)\n",
    "    \n",
    "    output = f\"{N} Most Common Hashtags for {city}:\\n\\n\"\n",
    "    \n",
    "    for ind, record in enumerate(result):\n",
    "        tag = record['t']['name']\n",
    "        count = record['COUNT(t)']\n",
    "        output = output + f'Hashtag: {tag}, Count: {count}\\n'\n",
    "        \n",
    "    r.set(query_inputs, output)\n",
    "    return output"
   ]
  },
  {
   "cell_type": "code",
   "execution_count": 108,
   "id": "fe1b5af9",
   "metadata": {},
   "outputs": [
    {
     "name": "stdout",
     "output_type": "stream",
     "text": [
      "10 Most Common Hashtags for Santa Barbara:\n",
      "\n",
      "Hashtag: complete, Count: 76\n",
      "Hashtag: happen, Count: 72\n",
      "Hashtag: recent, Count: 70\n",
      "Hashtag: hold, Count: 70\n",
      "Hashtag: support, Count: 68\n",
      "Hashtag: finished, Count: 67\n",
      "Hashtag: ton, Count: 66\n",
      "Hashtag: feels, Count: 65\n",
      "Hashtag: positive, Count: 65\n",
      "Hashtag: certainly, Count: 64\n",
      "\n"
     ]
    }
   ],
   "source": [
    "print(n_common_city_hashtags('Santa Barbara', 10))"
   ]
  },
  {
   "cell_type": "code",
   "execution_count": 109,
   "id": "8d2396cc",
   "metadata": {},
   "outputs": [
    {
     "name": "stdout",
     "output_type": "stream",
     "text": [
      "4 Most Common Hashtags for Goleta:\n",
      "\n",
      "Hashtag: finished, Count: 23\n",
      "Hashtag: yesterday, Count: 20\n",
      "Hashtag: complete, Count: 20\n",
      "Hashtag: employee, Count: 18\n",
      "\n"
     ]
    }
   ],
   "source": [
    "print(n_common_city_hashtags('Goleta', 4))"
   ]
  },
  {
   "cell_type": "code",
   "execution_count": 110,
   "id": "4f7c0f11",
   "metadata": {},
   "outputs": [
    {
     "name": "stdout",
     "output_type": "stream",
     "text": [
      "1 : 0.009135007858276367\n",
      "2 : 0.0010020732879638672\n",
      "3 : 0.0\n",
      "4 : 0.0009982585906982422\n",
      "5 : 0.0\n"
     ]
    }
   ],
   "source": [
    "# demo of how cache speeds up queries that have been made before\n",
    "for i in range(5):\n",
    "    start = time.time()\n",
    "    n_common_city_hashtags('Carpinteria', 3)\n",
    "    end = time.time()\n",
    "    print(i + 1, \":\", end - start)"
   ]
  },
  {
   "cell_type": "code",
   "execution_count": null,
   "id": "94641e38",
   "metadata": {},
   "outputs": [],
   "source": []
  }
 ],
 "metadata": {
  "kernelspec": {
   "display_name": "Python 3 (ipykernel)",
   "language": "python",
   "name": "python3"
  },
  "language_info": {
   "codemirror_mode": {
    "name": "ipython",
    "version": 3
   },
   "file_extension": ".py",
   "mimetype": "text/x-python",
   "name": "python",
   "nbconvert_exporter": "python",
   "pygments_lexer": "ipython3",
   "version": "3.8.13"
  }
 },
 "nbformat": 4,
 "nbformat_minor": 5
}
