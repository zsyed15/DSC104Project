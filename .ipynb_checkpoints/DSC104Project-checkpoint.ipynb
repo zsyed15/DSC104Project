{
 "cells": [
  {
   "cell_type": "code",
   "execution_count": 1,
   "id": "fa2b241c",
   "metadata": {},
   "outputs": [],
   "source": [
    "import json\n",
    "import pandas as pd\n",
    "import re \n",
    "import glob \n",
    "import copy \n",
    "import os \n",
    "import nltk\n",
    "import unicodedata \n",
    "from collections import Counter\n",
    "from nltk.collocations import *\n",
    "import numpy as np "
   ]
  },
  {
   "cell_type": "code",
   "execution_count": 2,
   "id": "8941b347",
   "metadata": {},
   "outputs": [],
   "source": [
    "# --- Uncomment below if needed ---\n",
    "# !pip install -U pip setuptools wheel\n",
    "# !pip install -U spacy\n",
    "# nltk.download('stopwords')\n",
    "# nltk.download('wordnet')\n",
    "# nltk.download('omw-1.4')\n",
    "#!python -m spacy download en_core_web_sm"
   ]
  },
  {
   "cell_type": "code",
   "execution_count": 2,
   "id": "c7a3e894",
   "metadata": {},
   "outputs": [],
   "source": [
    "bigram_measures = nltk.collocations.BigramAssocMeasures()\n",
    "trigram_measures = nltk.collocations.TrigramAssocMeasures()\n",
    "from nltk.tokenize import word_tokenize\n",
    "from nltk.tag import pos_tag\n",
    "import spacy"
   ]
  },
  {
   "cell_type": "code",
   "execution_count": 3,
   "id": "d45d3119",
   "metadata": {},
   "outputs": [],
   "source": [
    "nlp = spacy.load(\"en_core_web_sm\")\n",
    "import en_core_web_sm\n",
    "nlp = en_core_web_sm.load()\n",
    "from bs4 import BeautifulSoup\n",
    "from html import unescape"
   ]
  },
  {
   "cell_type": "code",
   "execution_count": 4,
   "id": "91fa2d43",
   "metadata": {},
   "outputs": [
    {
     "name": "stdout",
     "output_type": "stream",
     "text": [
      "CPU times: total: 2min 41s\n",
      "Wall time: 10min 58s\n"
     ]
    }
   ],
   "source": [
    "%%time \n",
    "### Creating reviews dataframe \n",
    "data_file = open(\"yelp_academic_dataset_review.json\",encoding='utf-8')\n",
    "data = []\n",
    "for line in data_file:\n",
    "    data.append(json.loads(line))\n",
    "reviewsdf = pd.DataFrame(data)\n",
    "data_file.close()"
   ]
  },
  {
   "cell_type": "code",
   "execution_count": 5,
   "id": "8b768ce1",
   "metadata": {},
   "outputs": [
    {
     "name": "stdout",
     "output_type": "stream",
     "text": [
      "CPU times: total: 32.6 s\n",
      "Wall time: 4min 30s\n"
     ]
    }
   ],
   "source": [
    "%%time\n",
    "### Creating businesses dataframe \n",
    "data_file = open(\"yelp_academic_dataset_business.json\",encoding='utf-8')\n",
    "data = []\n",
    "for line in data_file:\n",
    "    data.append(json.loads(line))\n",
    "businessdf = pd.DataFrame(data)\n",
    "data_file.close()"
   ]
  },
  {
   "cell_type": "code",
   "execution_count": 6,
   "id": "d93407ec",
   "metadata": {},
   "outputs": [],
   "source": [
    "reviewsdf_org = reviewsdf\n",
    "businessdf_org = businessdf"
   ]
  },
  {
   "cell_type": "code",
   "execution_count": 7,
   "id": "fbcb2562",
   "metadata": {},
   "outputs": [
    {
     "name": "stdout",
     "output_type": "stream",
     "text": [
      "CPU times: total: 1min\n",
      "Wall time: 5min 10s\n"
     ]
    },
    {
     "data": {
      "text/html": [
       "<div>\n",
       "<style scoped>\n",
       "    .dataframe tbody tr th:only-of-type {\n",
       "        vertical-align: middle;\n",
       "    }\n",
       "\n",
       "    .dataframe tbody tr th {\n",
       "        vertical-align: top;\n",
       "    }\n",
       "\n",
       "    .dataframe thead th {\n",
       "        text-align: right;\n",
       "    }\n",
       "</style>\n",
       "<table border=\"1\" class=\"dataframe\">\n",
       "  <thead>\n",
       "    <tr style=\"text-align: right;\">\n",
       "      <th></th>\n",
       "      <th>review_id</th>\n",
       "      <th>user_id</th>\n",
       "      <th>business_id</th>\n",
       "      <th>stars</th>\n",
       "      <th>useful</th>\n",
       "      <th>funny</th>\n",
       "      <th>cool</th>\n",
       "      <th>text</th>\n",
       "      <th>date</th>\n",
       "      <th>city</th>\n",
       "      <th>state</th>\n",
       "    </tr>\n",
       "  </thead>\n",
       "  <tbody>\n",
       "    <tr>\n",
       "      <th>0</th>\n",
       "      <td>KU_O5udG6zpxOg-VcAEodg</td>\n",
       "      <td>mh_-eMZ6K5RLWhZyISBhwA</td>\n",
       "      <td>XQfwVwDr-v0ZS3_CbbE5Xw</td>\n",
       "      <td>3.0</td>\n",
       "      <td>0</td>\n",
       "      <td>0</td>\n",
       "      <td>0</td>\n",
       "      <td>If you decide to eat here, just be aware it is...</td>\n",
       "      <td>2018-07-07 22:09:11</td>\n",
       "      <td>North Wales</td>\n",
       "      <td>PA</td>\n",
       "    </tr>\n",
       "    <tr>\n",
       "      <th>1</th>\n",
       "      <td>VJxlBnJmCDIy8DFG0kjSow</td>\n",
       "      <td>Iaee7y6zdSB3B-kRCo4z1w</td>\n",
       "      <td>XQfwVwDr-v0ZS3_CbbE5Xw</td>\n",
       "      <td>2.0</td>\n",
       "      <td>0</td>\n",
       "      <td>0</td>\n",
       "      <td>0</td>\n",
       "      <td>This is the second time we tried turning point...</td>\n",
       "      <td>2017-05-13 17:06:55</td>\n",
       "      <td>North Wales</td>\n",
       "      <td>PA</td>\n",
       "    </tr>\n",
       "    <tr>\n",
       "      <th>2</th>\n",
       "      <td>S6pQZQocMB1WHMjTRbt77A</td>\n",
       "      <td>ejFxLGqQcWNLdNByJlIhnQ</td>\n",
       "      <td>XQfwVwDr-v0ZS3_CbbE5Xw</td>\n",
       "      <td>4.0</td>\n",
       "      <td>2</td>\n",
       "      <td>0</td>\n",
       "      <td>1</td>\n",
       "      <td>The place is cute and the staff was very frien...</td>\n",
       "      <td>2017-08-08 00:58:18</td>\n",
       "      <td>North Wales</td>\n",
       "      <td>PA</td>\n",
       "    </tr>\n",
       "    <tr>\n",
       "      <th>3</th>\n",
       "      <td>WqgTKVqWVHDHjnjEsBvUgg</td>\n",
       "      <td>f7xa0p_1V9lx53iIGN5Sug</td>\n",
       "      <td>XQfwVwDr-v0ZS3_CbbE5Xw</td>\n",
       "      <td>3.0</td>\n",
       "      <td>0</td>\n",
       "      <td>0</td>\n",
       "      <td>0</td>\n",
       "      <td>We came on a Saturday morning after waiting a ...</td>\n",
       "      <td>2017-11-19 02:20:23</td>\n",
       "      <td>North Wales</td>\n",
       "      <td>PA</td>\n",
       "    </tr>\n",
       "    <tr>\n",
       "      <th>4</th>\n",
       "      <td>M0wzFFb7pefOPcxeRVbLag</td>\n",
       "      <td>dCooFVCk8M1nVaQqcfTL3Q</td>\n",
       "      <td>XQfwVwDr-v0ZS3_CbbE5Xw</td>\n",
       "      <td>2.0</td>\n",
       "      <td>0</td>\n",
       "      <td>0</td>\n",
       "      <td>0</td>\n",
       "      <td>Mediocre at best. The decor is very nice, and ...</td>\n",
       "      <td>2017-09-09 17:49:47</td>\n",
       "      <td>North Wales</td>\n",
       "      <td>PA</td>\n",
       "    </tr>\n",
       "    <tr>\n",
       "      <th>...</th>\n",
       "      <td>...</td>\n",
       "      <td>...</td>\n",
       "      <td>...</td>\n",
       "      <td>...</td>\n",
       "      <td>...</td>\n",
       "      <td>...</td>\n",
       "      <td>...</td>\n",
       "      <td>...</td>\n",
       "      <td>...</td>\n",
       "      <td>...</td>\n",
       "      <td>...</td>\n",
       "    </tr>\n",
       "    <tr>\n",
       "      <th>6990275</th>\n",
       "      <td>0gai4MzBzFCa7JsS31RRjg</td>\n",
       "      <td>xHu1jmrnv4DdJMuC8IxeRg</td>\n",
       "      <td>vI4vyi1dfG93oAiSRFDymA</td>\n",
       "      <td>1.0</td>\n",
       "      <td>2</td>\n",
       "      <td>0</td>\n",
       "      <td>0</td>\n",
       "      <td>Ridiculous wait times. I showed up right on ti...</td>\n",
       "      <td>2018-06-05 14:25:32</td>\n",
       "      <td>Paoli</td>\n",
       "      <td>PA</td>\n",
       "    </tr>\n",
       "    <tr>\n",
       "      <th>6990276</th>\n",
       "      <td>7MZu6bFdFoqr7MyPKqvoew</td>\n",
       "      <td>aYveEctPYcZiubXyEgLhTA</td>\n",
       "      <td>vI4vyi1dfG93oAiSRFDymA</td>\n",
       "      <td>5.0</td>\n",
       "      <td>4</td>\n",
       "      <td>1</td>\n",
       "      <td>2</td>\n",
       "      <td>Love this office. All the staff us super kind ...</td>\n",
       "      <td>2020-02-17 01:53:23</td>\n",
       "      <td>Paoli</td>\n",
       "      <td>PA</td>\n",
       "    </tr>\n",
       "    <tr>\n",
       "      <th>6990277</th>\n",
       "      <td>3emHuLQvuAw0l66TzSWmKA</td>\n",
       "      <td>oz-So7Kwo5tW51HrT-BgIg</td>\n",
       "      <td>vI4vyi1dfG93oAiSRFDymA</td>\n",
       "      <td>1.0</td>\n",
       "      <td>0</td>\n",
       "      <td>0</td>\n",
       "      <td>0</td>\n",
       "      <td>It was a HUGE mistake to give this place a try...</td>\n",
       "      <td>2021-09-22 16:51:46</td>\n",
       "      <td>Paoli</td>\n",
       "      <td>PA</td>\n",
       "    </tr>\n",
       "    <tr>\n",
       "      <th>6990278</th>\n",
       "      <td>T-adPwD-eP2LvuDINKOA9g</td>\n",
       "      <td>09zj3b4tM-xJjozvtk34wQ</td>\n",
       "      <td>vI4vyi1dfG93oAiSRFDymA</td>\n",
       "      <td>1.0</td>\n",
       "      <td>0</td>\n",
       "      <td>0</td>\n",
       "      <td>0</td>\n",
       "      <td>Friendly staff but the praise ends there. Gett...</td>\n",
       "      <td>2021-03-09 19:21:44</td>\n",
       "      <td>Paoli</td>\n",
       "      <td>PA</td>\n",
       "    </tr>\n",
       "    <tr>\n",
       "      <th>6990279</th>\n",
       "      <td>lKSY-hIMd9MX8Z5fRpUgDg</td>\n",
       "      <td>hyfUdXDmgqA4GI3S11I69w</td>\n",
       "      <td>vI4vyi1dfG93oAiSRFDymA</td>\n",
       "      <td>5.0</td>\n",
       "      <td>0</td>\n",
       "      <td>0</td>\n",
       "      <td>0</td>\n",
       "      <td>Had a great experience! Professional and frien...</td>\n",
       "      <td>2018-07-20 16:11:21</td>\n",
       "      <td>Paoli</td>\n",
       "      <td>PA</td>\n",
       "    </tr>\n",
       "  </tbody>\n",
       "</table>\n",
       "<p>6990280 rows × 11 columns</p>\n",
       "</div>"
      ],
      "text/plain": [
       "                      review_id                 user_id  \\\n",
       "0        KU_O5udG6zpxOg-VcAEodg  mh_-eMZ6K5RLWhZyISBhwA   \n",
       "1        VJxlBnJmCDIy8DFG0kjSow  Iaee7y6zdSB3B-kRCo4z1w   \n",
       "2        S6pQZQocMB1WHMjTRbt77A  ejFxLGqQcWNLdNByJlIhnQ   \n",
       "3        WqgTKVqWVHDHjnjEsBvUgg  f7xa0p_1V9lx53iIGN5Sug   \n",
       "4        M0wzFFb7pefOPcxeRVbLag  dCooFVCk8M1nVaQqcfTL3Q   \n",
       "...                         ...                     ...   \n",
       "6990275  0gai4MzBzFCa7JsS31RRjg  xHu1jmrnv4DdJMuC8IxeRg   \n",
       "6990276  7MZu6bFdFoqr7MyPKqvoew  aYveEctPYcZiubXyEgLhTA   \n",
       "6990277  3emHuLQvuAw0l66TzSWmKA  oz-So7Kwo5tW51HrT-BgIg   \n",
       "6990278  T-adPwD-eP2LvuDINKOA9g  09zj3b4tM-xJjozvtk34wQ   \n",
       "6990279  lKSY-hIMd9MX8Z5fRpUgDg  hyfUdXDmgqA4GI3S11I69w   \n",
       "\n",
       "                    business_id  stars  useful  funny  cool  \\\n",
       "0        XQfwVwDr-v0ZS3_CbbE5Xw    3.0       0      0     0   \n",
       "1        XQfwVwDr-v0ZS3_CbbE5Xw    2.0       0      0     0   \n",
       "2        XQfwVwDr-v0ZS3_CbbE5Xw    4.0       2      0     1   \n",
       "3        XQfwVwDr-v0ZS3_CbbE5Xw    3.0       0      0     0   \n",
       "4        XQfwVwDr-v0ZS3_CbbE5Xw    2.0       0      0     0   \n",
       "...                         ...    ...     ...    ...   ...   \n",
       "6990275  vI4vyi1dfG93oAiSRFDymA    1.0       2      0     0   \n",
       "6990276  vI4vyi1dfG93oAiSRFDymA    5.0       4      1     2   \n",
       "6990277  vI4vyi1dfG93oAiSRFDymA    1.0       0      0     0   \n",
       "6990278  vI4vyi1dfG93oAiSRFDymA    1.0       0      0     0   \n",
       "6990279  vI4vyi1dfG93oAiSRFDymA    5.0       0      0     0   \n",
       "\n",
       "                                                      text  \\\n",
       "0        If you decide to eat here, just be aware it is...   \n",
       "1        This is the second time we tried turning point...   \n",
       "2        The place is cute and the staff was very frien...   \n",
       "3        We came on a Saturday morning after waiting a ...   \n",
       "4        Mediocre at best. The decor is very nice, and ...   \n",
       "...                                                    ...   \n",
       "6990275  Ridiculous wait times. I showed up right on ti...   \n",
       "6990276  Love this office. All the staff us super kind ...   \n",
       "6990277  It was a HUGE mistake to give this place a try...   \n",
       "6990278  Friendly staff but the praise ends there. Gett...   \n",
       "6990279  Had a great experience! Professional and frien...   \n",
       "\n",
       "                        date         city state  \n",
       "0        2018-07-07 22:09:11  North Wales    PA  \n",
       "1        2017-05-13 17:06:55  North Wales    PA  \n",
       "2        2017-08-08 00:58:18  North Wales    PA  \n",
       "3        2017-11-19 02:20:23  North Wales    PA  \n",
       "4        2017-09-09 17:49:47  North Wales    PA  \n",
       "...                      ...          ...   ...  \n",
       "6990275  2018-06-05 14:25:32        Paoli    PA  \n",
       "6990276  2020-02-17 01:53:23        Paoli    PA  \n",
       "6990277  2021-09-22 16:51:46        Paoli    PA  \n",
       "6990278  2021-03-09 19:21:44        Paoli    PA  \n",
       "6990279  2018-07-20 16:11:21        Paoli    PA  \n",
       "\n",
       "[6990280 rows x 11 columns]"
      ]
     },
     "execution_count": 7,
     "metadata": {},
     "output_type": "execute_result"
    }
   ],
   "source": [
    "%%time\n",
    "city_and_state = businessdf[['business_id', 'city', 'state']]\n",
    "reviewsdf = reviewsdf.merge(city_and_state, on='business_id')\n",
    "reviewsdf"
   ]
  },
  {
   "cell_type": "markdown",
   "id": "67fafe0e",
   "metadata": {},
   "source": [
    "## Using smaller version of reviewsdf with just 100,000 businesses in California for faster processing and querying"
   ]
  },
  {
   "cell_type": "code",
   "execution_count": 8,
   "id": "1388395f",
   "metadata": {},
   "outputs": [
    {
     "data": {
      "text/html": [
       "<div>\n",
       "<style scoped>\n",
       "    .dataframe tbody tr th:only-of-type {\n",
       "        vertical-align: middle;\n",
       "    }\n",
       "\n",
       "    .dataframe tbody tr th {\n",
       "        vertical-align: top;\n",
       "    }\n",
       "\n",
       "    .dataframe thead th {\n",
       "        text-align: right;\n",
       "    }\n",
       "</style>\n",
       "<table border=\"1\" class=\"dataframe\">\n",
       "  <thead>\n",
       "    <tr style=\"text-align: right;\">\n",
       "      <th></th>\n",
       "      <th>review_id</th>\n",
       "      <th>user_id</th>\n",
       "      <th>business_id</th>\n",
       "      <th>stars</th>\n",
       "      <th>useful</th>\n",
       "      <th>funny</th>\n",
       "      <th>cool</th>\n",
       "      <th>text</th>\n",
       "      <th>date</th>\n",
       "      <th>city</th>\n",
       "      <th>state</th>\n",
       "    </tr>\n",
       "  </thead>\n",
       "  <tbody>\n",
       "    <tr>\n",
       "      <th>0</th>\n",
       "      <td>ZKvDG2sBvHVdF5oBNUOpAQ</td>\n",
       "      <td>wSTuiTk-sKNdcFyprzZAjg</td>\n",
       "      <td>B5XSoSG3SfvQGtKEGQ1tSQ</td>\n",
       "      <td>3.0</td>\n",
       "      <td>1</td>\n",
       "      <td>1</td>\n",
       "      <td>0</td>\n",
       "      <td>This easter instead of going to Lopez Lake we ...</td>\n",
       "      <td>2016-03-30 22:46:33</td>\n",
       "      <td>Santa Barbara</td>\n",
       "      <td>CA</td>\n",
       "    </tr>\n",
       "    <tr>\n",
       "      <th>1</th>\n",
       "      <td>9ag-bC-521T1i3IypXr4Ug</td>\n",
       "      <td>sx_cqxyWRUoOIoy_AXmLdQ</td>\n",
       "      <td>B5XSoSG3SfvQGtKEGQ1tSQ</td>\n",
       "      <td>4.0</td>\n",
       "      <td>1</td>\n",
       "      <td>0</td>\n",
       "      <td>0</td>\n",
       "      <td>I work with a college group that does camping ...</td>\n",
       "      <td>2013-09-07 21:16:36</td>\n",
       "      <td>Santa Barbara</td>\n",
       "      <td>CA</td>\n",
       "    </tr>\n",
       "    <tr>\n",
       "      <th>2</th>\n",
       "      <td>80p5xO3dbpd80T6vPTL8DQ</td>\n",
       "      <td>D7ct4p7uUk5t4LFSjVnO4A</td>\n",
       "      <td>B5XSoSG3SfvQGtKEGQ1tSQ</td>\n",
       "      <td>5.0</td>\n",
       "      <td>0</td>\n",
       "      <td>0</td>\n",
       "      <td>0</td>\n",
       "      <td>My SO and I love exploring new trails and so i...</td>\n",
       "      <td>2018-08-05 21:50:27</td>\n",
       "      <td>Santa Barbara</td>\n",
       "      <td>CA</td>\n",
       "    </tr>\n",
       "    <tr>\n",
       "      <th>3</th>\n",
       "      <td>RScubg9WIp165432dQfVHQ</td>\n",
       "      <td>r9VkVP_4d2_KMHA9ZN2c6w</td>\n",
       "      <td>B5XSoSG3SfvQGtKEGQ1tSQ</td>\n",
       "      <td>5.0</td>\n",
       "      <td>14</td>\n",
       "      <td>9</td>\n",
       "      <td>13</td>\n",
       "      <td>I can't believe there's only one review for th...</td>\n",
       "      <td>2011-07-06 23:14:29</td>\n",
       "      <td>Santa Barbara</td>\n",
       "      <td>CA</td>\n",
       "    </tr>\n",
       "    <tr>\n",
       "      <th>4</th>\n",
       "      <td>_JsMDKDQJ8uc6logHxA0-w</td>\n",
       "      <td>s0l9vVweCwvudj5TNGMl6w</td>\n",
       "      <td>B5XSoSG3SfvQGtKEGQ1tSQ</td>\n",
       "      <td>5.0</td>\n",
       "      <td>1</td>\n",
       "      <td>0</td>\n",
       "      <td>0</td>\n",
       "      <td>I love this area for hiking! I go there all th...</td>\n",
       "      <td>2016-04-03 03:24:46</td>\n",
       "      <td>Santa Barbara</td>\n",
       "      <td>CA</td>\n",
       "    </tr>\n",
       "    <tr>\n",
       "      <th>...</th>\n",
       "      <td>...</td>\n",
       "      <td>...</td>\n",
       "      <td>...</td>\n",
       "      <td>...</td>\n",
       "      <td>...</td>\n",
       "      <td>...</td>\n",
       "      <td>...</td>\n",
       "      <td>...</td>\n",
       "      <td>...</td>\n",
       "      <td>...</td>\n",
       "      <td>...</td>\n",
       "    </tr>\n",
       "    <tr>\n",
       "      <th>348851</th>\n",
       "      <td>cKuP5pnvbvpn4UbaccVcdg</td>\n",
       "      <td>OVYb1El25BgVhgbXb4e-KA</td>\n",
       "      <td>XPkkWyAkkPeH-PqXmBMmpg</td>\n",
       "      <td>5.0</td>\n",
       "      <td>0</td>\n",
       "      <td>0</td>\n",
       "      <td>0</td>\n",
       "      <td>Great experience with great people who are rea...</td>\n",
       "      <td>2021-06-22 21:41:07</td>\n",
       "      <td>Santa Barbara</td>\n",
       "      <td>CA</td>\n",
       "    </tr>\n",
       "    <tr>\n",
       "      <th>348852</th>\n",
       "      <td>dZC87sZ1f2ntOf876_DDLg</td>\n",
       "      <td>9w5PoliouEyNikdy6DizqQ</td>\n",
       "      <td>XPkkWyAkkPeH-PqXmBMmpg</td>\n",
       "      <td>5.0</td>\n",
       "      <td>0</td>\n",
       "      <td>0</td>\n",
       "      <td>0</td>\n",
       "      <td>I spent the week in Santa Barbara and had the ...</td>\n",
       "      <td>2021-06-28 23:53:44</td>\n",
       "      <td>Santa Barbara</td>\n",
       "      <td>CA</td>\n",
       "    </tr>\n",
       "    <tr>\n",
       "      <th>348853</th>\n",
       "      <td>NCafkcXIvK7E965my4RpQg</td>\n",
       "      <td>GmuHOkMR80oW3sAuF-UsAw</td>\n",
       "      <td>XPkkWyAkkPeH-PqXmBMmpg</td>\n",
       "      <td>5.0</td>\n",
       "      <td>0</td>\n",
       "      <td>0</td>\n",
       "      <td>0</td>\n",
       "      <td>Last summer, I had the pleasure of experiencin...</td>\n",
       "      <td>2021-07-06 19:15:56</td>\n",
       "      <td>Santa Barbara</td>\n",
       "      <td>CA</td>\n",
       "    </tr>\n",
       "    <tr>\n",
       "      <th>348854</th>\n",
       "      <td>VxsNftGxRUDZcLD0Ns1wKg</td>\n",
       "      <td>VRXPOvlSydho0tYmSseKnQ</td>\n",
       "      <td>XPkkWyAkkPeH-PqXmBMmpg</td>\n",
       "      <td>5.0</td>\n",
       "      <td>0</td>\n",
       "      <td>0</td>\n",
       "      <td>0</td>\n",
       "      <td>Joseph and Teresa are super hosts.  You will f...</td>\n",
       "      <td>2021-07-01 03:44:10</td>\n",
       "      <td>Santa Barbara</td>\n",
       "      <td>CA</td>\n",
       "    </tr>\n",
       "    <tr>\n",
       "      <th>348855</th>\n",
       "      <td>beFM3Lm5Pj6Spr8x6RV9Cg</td>\n",
       "      <td>uoYuvbxTCB0eu1UF4sUTcA</td>\n",
       "      <td>XPkkWyAkkPeH-PqXmBMmpg</td>\n",
       "      <td>5.0</td>\n",
       "      <td>0</td>\n",
       "      <td>0</td>\n",
       "      <td>1</td>\n",
       "      <td>I discovered Santa Barbara Tours and Experienc...</td>\n",
       "      <td>2021-07-27 20:41:20</td>\n",
       "      <td>Santa Barbara</td>\n",
       "      <td>CA</td>\n",
       "    </tr>\n",
       "  </tbody>\n",
       "</table>\n",
       "<p>348856 rows × 11 columns</p>\n",
       "</div>"
      ],
      "text/plain": [
       "                     review_id                 user_id  \\\n",
       "0       ZKvDG2sBvHVdF5oBNUOpAQ  wSTuiTk-sKNdcFyprzZAjg   \n",
       "1       9ag-bC-521T1i3IypXr4Ug  sx_cqxyWRUoOIoy_AXmLdQ   \n",
       "2       80p5xO3dbpd80T6vPTL8DQ  D7ct4p7uUk5t4LFSjVnO4A   \n",
       "3       RScubg9WIp165432dQfVHQ  r9VkVP_4d2_KMHA9ZN2c6w   \n",
       "4       _JsMDKDQJ8uc6logHxA0-w  s0l9vVweCwvudj5TNGMl6w   \n",
       "...                        ...                     ...   \n",
       "348851  cKuP5pnvbvpn4UbaccVcdg  OVYb1El25BgVhgbXb4e-KA   \n",
       "348852  dZC87sZ1f2ntOf876_DDLg  9w5PoliouEyNikdy6DizqQ   \n",
       "348853  NCafkcXIvK7E965my4RpQg  GmuHOkMR80oW3sAuF-UsAw   \n",
       "348854  VxsNftGxRUDZcLD0Ns1wKg  VRXPOvlSydho0tYmSseKnQ   \n",
       "348855  beFM3Lm5Pj6Spr8x6RV9Cg  uoYuvbxTCB0eu1UF4sUTcA   \n",
       "\n",
       "                   business_id  stars  useful  funny  cool  \\\n",
       "0       B5XSoSG3SfvQGtKEGQ1tSQ    3.0       1      1     0   \n",
       "1       B5XSoSG3SfvQGtKEGQ1tSQ    4.0       1      0     0   \n",
       "2       B5XSoSG3SfvQGtKEGQ1tSQ    5.0       0      0     0   \n",
       "3       B5XSoSG3SfvQGtKEGQ1tSQ    5.0      14      9    13   \n",
       "4       B5XSoSG3SfvQGtKEGQ1tSQ    5.0       1      0     0   \n",
       "...                        ...    ...     ...    ...   ...   \n",
       "348851  XPkkWyAkkPeH-PqXmBMmpg    5.0       0      0     0   \n",
       "348852  XPkkWyAkkPeH-PqXmBMmpg    5.0       0      0     0   \n",
       "348853  XPkkWyAkkPeH-PqXmBMmpg    5.0       0      0     0   \n",
       "348854  XPkkWyAkkPeH-PqXmBMmpg    5.0       0      0     0   \n",
       "348855  XPkkWyAkkPeH-PqXmBMmpg    5.0       0      0     1   \n",
       "\n",
       "                                                     text  \\\n",
       "0       This easter instead of going to Lopez Lake we ...   \n",
       "1       I work with a college group that does camping ...   \n",
       "2       My SO and I love exploring new trails and so i...   \n",
       "3       I can't believe there's only one review for th...   \n",
       "4       I love this area for hiking! I go there all th...   \n",
       "...                                                   ...   \n",
       "348851  Great experience with great people who are rea...   \n",
       "348852  I spent the week in Santa Barbara and had the ...   \n",
       "348853  Last summer, I had the pleasure of experiencin...   \n",
       "348854  Joseph and Teresa are super hosts.  You will f...   \n",
       "348855  I discovered Santa Barbara Tours and Experienc...   \n",
       "\n",
       "                       date           city state  \n",
       "0       2016-03-30 22:46:33  Santa Barbara    CA  \n",
       "1       2013-09-07 21:16:36  Santa Barbara    CA  \n",
       "2       2018-08-05 21:50:27  Santa Barbara    CA  \n",
       "3       2011-07-06 23:14:29  Santa Barbara    CA  \n",
       "4       2016-04-03 03:24:46  Santa Barbara    CA  \n",
       "...                     ...            ...   ...  \n",
       "348851  2021-06-22 21:41:07  Santa Barbara    CA  \n",
       "348852  2021-06-28 23:53:44  Santa Barbara    CA  \n",
       "348853  2021-07-06 19:15:56  Santa Barbara    CA  \n",
       "348854  2021-07-01 03:44:10  Santa Barbara    CA  \n",
       "348855  2021-07-27 20:41:20  Santa Barbara    CA  \n",
       "\n",
       "[348856 rows x 11 columns]"
      ]
     },
     "execution_count": 8,
     "metadata": {},
     "output_type": "execute_result"
    }
   ],
   "source": [
    "reviewsdf = reviewsdf[reviewsdf['state'] == 'CA'].reset_index(drop=True)\n",
    "reviewsdf"
   ]
  },
  {
   "cell_type": "code",
   "execution_count": 9,
   "id": "62ee0e2d",
   "metadata": {},
   "outputs": [
    {
     "data": {
      "text/html": [
       "<div>\n",
       "<style scoped>\n",
       "    .dataframe tbody tr th:only-of-type {\n",
       "        vertical-align: middle;\n",
       "    }\n",
       "\n",
       "    .dataframe tbody tr th {\n",
       "        vertical-align: top;\n",
       "    }\n",
       "\n",
       "    .dataframe thead th {\n",
       "        text-align: right;\n",
       "    }\n",
       "</style>\n",
       "<table border=\"1\" class=\"dataframe\">\n",
       "  <thead>\n",
       "    <tr style=\"text-align: right;\">\n",
       "      <th></th>\n",
       "      <th>review_id</th>\n",
       "      <th>user_id</th>\n",
       "      <th>business_id</th>\n",
       "      <th>stars</th>\n",
       "      <th>useful</th>\n",
       "      <th>funny</th>\n",
       "      <th>cool</th>\n",
       "      <th>text</th>\n",
       "      <th>date</th>\n",
       "      <th>city</th>\n",
       "      <th>state</th>\n",
       "    </tr>\n",
       "  </thead>\n",
       "  <tbody>\n",
       "    <tr>\n",
       "      <th>0</th>\n",
       "      <td>ZKvDG2sBvHVdF5oBNUOpAQ</td>\n",
       "      <td>wSTuiTk-sKNdcFyprzZAjg</td>\n",
       "      <td>B5XSoSG3SfvQGtKEGQ1tSQ</td>\n",
       "      <td>3.0</td>\n",
       "      <td>1</td>\n",
       "      <td>1</td>\n",
       "      <td>0</td>\n",
       "      <td>This easter instead of going to Lopez Lake we ...</td>\n",
       "      <td>2016-03-30 22:46:33</td>\n",
       "      <td>Santa Barbara</td>\n",
       "      <td>CA</td>\n",
       "    </tr>\n",
       "    <tr>\n",
       "      <th>1</th>\n",
       "      <td>9ag-bC-521T1i3IypXr4Ug</td>\n",
       "      <td>sx_cqxyWRUoOIoy_AXmLdQ</td>\n",
       "      <td>B5XSoSG3SfvQGtKEGQ1tSQ</td>\n",
       "      <td>4.0</td>\n",
       "      <td>1</td>\n",
       "      <td>0</td>\n",
       "      <td>0</td>\n",
       "      <td>I work with a college group that does camping ...</td>\n",
       "      <td>2013-09-07 21:16:36</td>\n",
       "      <td>Santa Barbara</td>\n",
       "      <td>CA</td>\n",
       "    </tr>\n",
       "    <tr>\n",
       "      <th>2</th>\n",
       "      <td>80p5xO3dbpd80T6vPTL8DQ</td>\n",
       "      <td>D7ct4p7uUk5t4LFSjVnO4A</td>\n",
       "      <td>B5XSoSG3SfvQGtKEGQ1tSQ</td>\n",
       "      <td>5.0</td>\n",
       "      <td>0</td>\n",
       "      <td>0</td>\n",
       "      <td>0</td>\n",
       "      <td>My SO and I love exploring new trails and so i...</td>\n",
       "      <td>2018-08-05 21:50:27</td>\n",
       "      <td>Santa Barbara</td>\n",
       "      <td>CA</td>\n",
       "    </tr>\n",
       "    <tr>\n",
       "      <th>3</th>\n",
       "      <td>RScubg9WIp165432dQfVHQ</td>\n",
       "      <td>r9VkVP_4d2_KMHA9ZN2c6w</td>\n",
       "      <td>B5XSoSG3SfvQGtKEGQ1tSQ</td>\n",
       "      <td>5.0</td>\n",
       "      <td>14</td>\n",
       "      <td>9</td>\n",
       "      <td>13</td>\n",
       "      <td>I can't believe there's only one review for th...</td>\n",
       "      <td>2011-07-06 23:14:29</td>\n",
       "      <td>Santa Barbara</td>\n",
       "      <td>CA</td>\n",
       "    </tr>\n",
       "    <tr>\n",
       "      <th>4</th>\n",
       "      <td>_JsMDKDQJ8uc6logHxA0-w</td>\n",
       "      <td>s0l9vVweCwvudj5TNGMl6w</td>\n",
       "      <td>B5XSoSG3SfvQGtKEGQ1tSQ</td>\n",
       "      <td>5.0</td>\n",
       "      <td>1</td>\n",
       "      <td>0</td>\n",
       "      <td>0</td>\n",
       "      <td>I love this area for hiking! I go there all th...</td>\n",
       "      <td>2016-04-03 03:24:46</td>\n",
       "      <td>Santa Barbara</td>\n",
       "      <td>CA</td>\n",
       "    </tr>\n",
       "    <tr>\n",
       "      <th>...</th>\n",
       "      <td>...</td>\n",
       "      <td>...</td>\n",
       "      <td>...</td>\n",
       "      <td>...</td>\n",
       "      <td>...</td>\n",
       "      <td>...</td>\n",
       "      <td>...</td>\n",
       "      <td>...</td>\n",
       "      <td>...</td>\n",
       "      <td>...</td>\n",
       "      <td>...</td>\n",
       "    </tr>\n",
       "    <tr>\n",
       "      <th>29995</th>\n",
       "      <td>Zk-q3XdjXNUxwHH5BS2b3A</td>\n",
       "      <td>WyAYEIMeaxLhn80m_jy4Fg</td>\n",
       "      <td>fnGZspqyamRremXor0sAyg</td>\n",
       "      <td>5.0</td>\n",
       "      <td>0</td>\n",
       "      <td>0</td>\n",
       "      <td>0</td>\n",
       "      <td>I enjoyed a great view and delicious food at t...</td>\n",
       "      <td>2019-12-19 06:33:58</td>\n",
       "      <td>Santa Barbara</td>\n",
       "      <td>CA</td>\n",
       "    </tr>\n",
       "    <tr>\n",
       "      <th>29996</th>\n",
       "      <td>VMjZqDJYGHs_MSNXKhd4gw</td>\n",
       "      <td>LcG-WcuV4Ynv08chi1e9_A</td>\n",
       "      <td>fnGZspqyamRremXor0sAyg</td>\n",
       "      <td>4.0</td>\n",
       "      <td>1</td>\n",
       "      <td>0</td>\n",
       "      <td>2</td>\n",
       "      <td>Came here with some colleagues for a celebrato...</td>\n",
       "      <td>2019-07-16 14:23:02</td>\n",
       "      <td>Santa Barbara</td>\n",
       "      <td>CA</td>\n",
       "    </tr>\n",
       "    <tr>\n",
       "      <th>29997</th>\n",
       "      <td>lvaT-QAzAYWTqO7JWLEqYQ</td>\n",
       "      <td>ZDCWEctaQHfJQT1sH_rMmA</td>\n",
       "      <td>fnGZspqyamRremXor0sAyg</td>\n",
       "      <td>5.0</td>\n",
       "      <td>2</td>\n",
       "      <td>0</td>\n",
       "      <td>2</td>\n",
       "      <td>This is a great place with an excellent panora...</td>\n",
       "      <td>2018-12-20 17:21:36</td>\n",
       "      <td>Santa Barbara</td>\n",
       "      <td>CA</td>\n",
       "    </tr>\n",
       "    <tr>\n",
       "      <th>29998</th>\n",
       "      <td>wJAkDH0gTqpQaKH9PVwF9g</td>\n",
       "      <td>ik0UUieUX38rPg24heeVgw</td>\n",
       "      <td>fnGZspqyamRremXor0sAyg</td>\n",
       "      <td>3.0</td>\n",
       "      <td>1</td>\n",
       "      <td>0</td>\n",
       "      <td>0</td>\n",
       "      <td>Came for a late lunch and was hoping to get fl...</td>\n",
       "      <td>2019-06-01 01:49:43</td>\n",
       "      <td>Santa Barbara</td>\n",
       "      <td>CA</td>\n",
       "    </tr>\n",
       "    <tr>\n",
       "      <th>29999</th>\n",
       "      <td>9824ResgX033Y8rIicXJgQ</td>\n",
       "      <td>iKWcihTHpMIsVh3byem1Mg</td>\n",
       "      <td>ukhkivp_eCkyCpNcujoDtQ</td>\n",
       "      <td>5.0</td>\n",
       "      <td>0</td>\n",
       "      <td>0</td>\n",
       "      <td>0</td>\n",
       "      <td>These guys were great.  I called, they let me ...</td>\n",
       "      <td>2011-06-02 20:37:22</td>\n",
       "      <td>Goleta</td>\n",
       "      <td>CA</td>\n",
       "    </tr>\n",
       "  </tbody>\n",
       "</table>\n",
       "<p>30000 rows × 11 columns</p>\n",
       "</div>"
      ],
      "text/plain": [
       "                    review_id                 user_id             business_id  \\\n",
       "0      ZKvDG2sBvHVdF5oBNUOpAQ  wSTuiTk-sKNdcFyprzZAjg  B5XSoSG3SfvQGtKEGQ1tSQ   \n",
       "1      9ag-bC-521T1i3IypXr4Ug  sx_cqxyWRUoOIoy_AXmLdQ  B5XSoSG3SfvQGtKEGQ1tSQ   \n",
       "2      80p5xO3dbpd80T6vPTL8DQ  D7ct4p7uUk5t4LFSjVnO4A  B5XSoSG3SfvQGtKEGQ1tSQ   \n",
       "3      RScubg9WIp165432dQfVHQ  r9VkVP_4d2_KMHA9ZN2c6w  B5XSoSG3SfvQGtKEGQ1tSQ   \n",
       "4      _JsMDKDQJ8uc6logHxA0-w  s0l9vVweCwvudj5TNGMl6w  B5XSoSG3SfvQGtKEGQ1tSQ   \n",
       "...                       ...                     ...                     ...   \n",
       "29995  Zk-q3XdjXNUxwHH5BS2b3A  WyAYEIMeaxLhn80m_jy4Fg  fnGZspqyamRremXor0sAyg   \n",
       "29996  VMjZqDJYGHs_MSNXKhd4gw  LcG-WcuV4Ynv08chi1e9_A  fnGZspqyamRremXor0sAyg   \n",
       "29997  lvaT-QAzAYWTqO7JWLEqYQ  ZDCWEctaQHfJQT1sH_rMmA  fnGZspqyamRremXor0sAyg   \n",
       "29998  wJAkDH0gTqpQaKH9PVwF9g  ik0UUieUX38rPg24heeVgw  fnGZspqyamRremXor0sAyg   \n",
       "29999  9824ResgX033Y8rIicXJgQ  iKWcihTHpMIsVh3byem1Mg  ukhkivp_eCkyCpNcujoDtQ   \n",
       "\n",
       "       stars  useful  funny  cool  \\\n",
       "0        3.0       1      1     0   \n",
       "1        4.0       1      0     0   \n",
       "2        5.0       0      0     0   \n",
       "3        5.0      14      9    13   \n",
       "4        5.0       1      0     0   \n",
       "...      ...     ...    ...   ...   \n",
       "29995    5.0       0      0     0   \n",
       "29996    4.0       1      0     2   \n",
       "29997    5.0       2      0     2   \n",
       "29998    3.0       1      0     0   \n",
       "29999    5.0       0      0     0   \n",
       "\n",
       "                                                    text                 date  \\\n",
       "0      This easter instead of going to Lopez Lake we ...  2016-03-30 22:46:33   \n",
       "1      I work with a college group that does camping ...  2013-09-07 21:16:36   \n",
       "2      My SO and I love exploring new trails and so i...  2018-08-05 21:50:27   \n",
       "3      I can't believe there's only one review for th...  2011-07-06 23:14:29   \n",
       "4      I love this area for hiking! I go there all th...  2016-04-03 03:24:46   \n",
       "...                                                  ...                  ...   \n",
       "29995  I enjoyed a great view and delicious food at t...  2019-12-19 06:33:58   \n",
       "29996  Came here with some colleagues for a celebrato...  2019-07-16 14:23:02   \n",
       "29997  This is a great place with an excellent panora...  2018-12-20 17:21:36   \n",
       "29998  Came for a late lunch and was hoping to get fl...  2019-06-01 01:49:43   \n",
       "29999  These guys were great.  I called, they let me ...  2011-06-02 20:37:22   \n",
       "\n",
       "                city state  \n",
       "0      Santa Barbara    CA  \n",
       "1      Santa Barbara    CA  \n",
       "2      Santa Barbara    CA  \n",
       "3      Santa Barbara    CA  \n",
       "4      Santa Barbara    CA  \n",
       "...              ...   ...  \n",
       "29995  Santa Barbara    CA  \n",
       "29996  Santa Barbara    CA  \n",
       "29997  Santa Barbara    CA  \n",
       "29998  Santa Barbara    CA  \n",
       "29999         Goleta    CA  \n",
       "\n",
       "[30000 rows x 11 columns]"
      ]
     },
     "execution_count": 9,
     "metadata": {},
     "output_type": "execute_result"
    }
   ],
   "source": [
    "reviewsdf = reviewsdf.head(30000)\n",
    "reviewsdf"
   ]
  },
  {
   "cell_type": "markdown",
   "id": "0b83f495",
   "metadata": {},
   "source": [
    "### Generate hashtags from reviews df"
   ]
  },
  {
   "cell_type": "code",
   "execution_count": 10,
   "id": "ea4aaf7e",
   "metadata": {},
   "outputs": [],
   "source": [
    "from sklearn.feature_extraction.text import CountVectorizer, TfidfVectorizer"
   ]
  },
  {
   "cell_type": "code",
   "execution_count": 11,
   "id": "ae1dffc8",
   "metadata": {},
   "outputs": [],
   "source": [
    "#Adjust mindf parameter\n",
    "mindf = int(len(reviewsdf) * .001)\n",
    "tfidf = TfidfVectorizer(sublinear_tf=True,\n",
    "               analyzer='word',\n",
    "#                max_features=2000,\n",
    "               tokenizer=word_tokenize,\n",
    "               stop_words=nltk.corpus.stopwords.words(\"english\"),min_df=5)"
   ]
  },
  {
   "cell_type": "code",
   "execution_count": 12,
   "id": "be16f074",
   "metadata": {},
   "outputs": [],
   "source": [
    "text = list(reviewsdf['text'])\n",
    "text = [re.sub(r'[^A-Za-z]+',\" \",document) for document in text]\n"
   ]
  },
  {
   "cell_type": "code",
   "execution_count": 13,
   "id": "3879609d",
   "metadata": {},
   "outputs": [
    {
     "name": "stderr",
     "output_type": "stream",
     "text": [
      "C:\\Users\\tonyt\\anaconda3\\envs\\dsc80\\lib\\site-packages\\sklearn\\feature_extraction\\text.py:396: UserWarning: Your stop_words may be inconsistent with your preprocessing. Tokenizing the stop words generated tokens [\"'d\", \"'ll\", \"'re\", \"'s\", \"'ve\", 'could', 'might', 'must', \"n't\", 'need', 'sha', 'wo', 'would'] not in stop_words.\n",
      "  warnings.warn(\n"
     ]
    },
    {
     "name": "stdout",
     "output_type": "stream",
     "text": [
      "CPU times: total: 17.6 s\n",
      "Wall time: 36.2 s\n"
     ]
    }
   ],
   "source": [
    "%%time\n",
    "hashtagdf = pd.DataFrame(tfidf.fit_transform(text).toarray())"
   ]
  },
  {
   "cell_type": "code",
   "execution_count": 17,
   "id": "8d75d60b",
   "metadata": {},
   "outputs": [
    {
     "name": "stderr",
     "output_type": "stream",
     "text": [
      "C:\\Users\\tonyt\\anaconda3\\envs\\dsc80\\lib\\site-packages\\sklearn\\utils\\deprecation.py:87: FutureWarning: Function get_feature_names is deprecated; get_feature_names is deprecated in 1.0 and will be removed in 1.2. Please use get_feature_names_out instead.\n",
      "  warnings.warn(msg, category=FutureWarning)\n"
     ]
    }
   ],
   "source": [
    "hashtagdf.columns = tfidf.get_feature_names()"
   ]
  },
  {
   "cell_type": "code",
   "execution_count": 18,
   "id": "58ee8981",
   "metadata": {},
   "outputs": [],
   "source": [
    "hashtagdfsum = hashtagdf.sum()\n",
    "tfidf_scores = [(i,hashtagdfsum[i]) for i in hashtagdfsum.index]\n",
    "tfidf_scores.sort(key=lambda x : x[1],reverse=True)"
   ]
  },
  {
   "cell_type": "code",
   "execution_count": 19,
   "id": "020df748",
   "metadata": {},
   "outputs": [],
   "source": [
    "##REMOVE?\n",
    "lower_threshold = int(len(tfidf_scores) * .08)\n",
    "upper_threshold = int(len(tfidf_scores) * .60)\n",
    "scores = tfidf_scores[lower_threshold:]\n",
    "tfidf_dict = {item[0] : item[1] for item in scores}"
   ]
  },
  {
   "cell_type": "code",
   "execution_count": 20,
   "id": "0d3115aa",
   "metadata": {},
   "outputs": [],
   "source": [
    "#Maybe add ability to get N most useful tags \n",
    "def generate_tags(text):\n",
    "    tags = set()\n",
    "    for s in text.split(' '):\n",
    "        if s in tfidf_dict:\n",
    "            tags.add(s)\n",
    "    return list(tags)[:5]"
   ]
  },
  {
   "cell_type": "code",
   "execution_count": 21,
   "id": "ea529ed9",
   "metadata": {},
   "outputs": [
    {
     "name": "stderr",
     "output_type": "stream",
     "text": [
      "C:\\Users\\tonyt\\AppData\\Local\\Temp\\ipykernel_26612\\2776938788.py:1: SettingWithCopyWarning: \n",
      "A value is trying to be set on a copy of a slice from a DataFrame.\n",
      "Try using .loc[row_indexer,col_indexer] = value instead\n",
      "\n",
      "See the caveats in the documentation: https://pandas.pydata.org/pandas-docs/stable/user_guide/indexing.html#returning-a-view-versus-a-copy\n",
      "  reviewsdf['tags'] = reviewsdf['text'].apply(generate_tags)\n"
     ]
    }
   ],
   "source": [
    "reviewsdf['tags'] = reviewsdf['text'].apply(generate_tags)"
   ]
  },
  {
   "cell_type": "code",
   "execution_count": 22,
   "id": "379546b9",
   "metadata": {},
   "outputs": [
    {
     "data": {
      "text/html": [
       "<div>\n",
       "<style scoped>\n",
       "    .dataframe tbody tr th:only-of-type {\n",
       "        vertical-align: middle;\n",
       "    }\n",
       "\n",
       "    .dataframe tbody tr th {\n",
       "        vertical-align: top;\n",
       "    }\n",
       "\n",
       "    .dataframe thead th {\n",
       "        text-align: right;\n",
       "    }\n",
       "</style>\n",
       "<table border=\"1\" class=\"dataframe\">\n",
       "  <thead>\n",
       "    <tr style=\"text-align: right;\">\n",
       "      <th></th>\n",
       "      <th>review_id</th>\n",
       "      <th>user_id</th>\n",
       "      <th>business_id</th>\n",
       "      <th>stars</th>\n",
       "      <th>useful</th>\n",
       "      <th>funny</th>\n",
       "      <th>cool</th>\n",
       "      <th>text</th>\n",
       "      <th>date</th>\n",
       "      <th>city</th>\n",
       "      <th>state</th>\n",
       "      <th>tags</th>\n",
       "    </tr>\n",
       "  </thead>\n",
       "  <tbody>\n",
       "    <tr>\n",
       "      <th>0</th>\n",
       "      <td>ZKvDG2sBvHVdF5oBNUOpAQ</td>\n",
       "      <td>wSTuiTk-sKNdcFyprzZAjg</td>\n",
       "      <td>B5XSoSG3SfvQGtKEGQ1tSQ</td>\n",
       "      <td>3.0</td>\n",
       "      <td>1</td>\n",
       "      <td>1</td>\n",
       "      <td>0</td>\n",
       "      <td>This easter instead of going to Lopez Lake we ...</td>\n",
       "      <td>2016-03-30 22:46:33</td>\n",
       "      <td>Santa Barbara</td>\n",
       "      <td>CA</td>\n",
       "      <td>[dead, national, grass, forest, rid]</td>\n",
       "    </tr>\n",
       "    <tr>\n",
       "      <th>1</th>\n",
       "      <td>9ag-bC-521T1i3IypXr4Ug</td>\n",
       "      <td>sx_cqxyWRUoOIoy_AXmLdQ</td>\n",
       "      <td>B5XSoSG3SfvQGtKEGQ1tSQ</td>\n",
       "      <td>4.0</td>\n",
       "      <td>1</td>\n",
       "      <td>0</td>\n",
       "      <td>0</td>\n",
       "      <td>I work with a college group that does camping ...</td>\n",
       "      <td>2013-09-07 21:16:36</td>\n",
       "      <td>Santa Barbara</td>\n",
       "      <td>CA</td>\n",
       "      <td>[compared, ten, areas, access, forever]</td>\n",
       "    </tr>\n",
       "    <tr>\n",
       "      <th>2</th>\n",
       "      <td>80p5xO3dbpd80T6vPTL8DQ</td>\n",
       "      <td>D7ct4p7uUk5t4LFSjVnO4A</td>\n",
       "      <td>B5XSoSG3SfvQGtKEGQ1tSQ</td>\n",
       "      <td>5.0</td>\n",
       "      <td>0</td>\n",
       "      <td>0</td>\n",
       "      <td>0</td>\n",
       "      <td>My SO and I love exploring new trails and so i...</td>\n",
       "      <td>2018-08-05 21:50:27</td>\n",
       "      <td>Santa Barbara</td>\n",
       "      <td>CA</td>\n",
       "      <td>[balancing, break, passed, knowing, remove]</td>\n",
       "    </tr>\n",
       "    <tr>\n",
       "      <th>3</th>\n",
       "      <td>RScubg9WIp165432dQfVHQ</td>\n",
       "      <td>r9VkVP_4d2_KMHA9ZN2c6w</td>\n",
       "      <td>B5XSoSG3SfvQGtKEGQ1tSQ</td>\n",
       "      <td>5.0</td>\n",
       "      <td>14</td>\n",
       "      <td>9</td>\n",
       "      <td>13</td>\n",
       "      <td>I can't believe there's only one review for th...</td>\n",
       "      <td>2011-07-06 23:14:29</td>\n",
       "      <td>Santa Barbara</td>\n",
       "      <td>CA</td>\n",
       "      <td>[bases, national, drops, continuously, range]</td>\n",
       "    </tr>\n",
       "    <tr>\n",
       "      <th>4</th>\n",
       "      <td>_JsMDKDQJ8uc6logHxA0-w</td>\n",
       "      <td>s0l9vVweCwvudj5TNGMl6w</td>\n",
       "      <td>B5XSoSG3SfvQGtKEGQ1tSQ</td>\n",
       "      <td>5.0</td>\n",
       "      <td>1</td>\n",
       "      <td>0</td>\n",
       "      <td>0</td>\n",
       "      <td>I love this area for hiking! I go there all th...</td>\n",
       "      <td>2016-04-03 03:24:46</td>\n",
       "      <td>Santa Barbara</td>\n",
       "      <td>CA</td>\n",
       "      <td>[public, forest]</td>\n",
       "    </tr>\n",
       "  </tbody>\n",
       "</table>\n",
       "</div>"
      ],
      "text/plain": [
       "                review_id                 user_id             business_id  \\\n",
       "0  ZKvDG2sBvHVdF5oBNUOpAQ  wSTuiTk-sKNdcFyprzZAjg  B5XSoSG3SfvQGtKEGQ1tSQ   \n",
       "1  9ag-bC-521T1i3IypXr4Ug  sx_cqxyWRUoOIoy_AXmLdQ  B5XSoSG3SfvQGtKEGQ1tSQ   \n",
       "2  80p5xO3dbpd80T6vPTL8DQ  D7ct4p7uUk5t4LFSjVnO4A  B5XSoSG3SfvQGtKEGQ1tSQ   \n",
       "3  RScubg9WIp165432dQfVHQ  r9VkVP_4d2_KMHA9ZN2c6w  B5XSoSG3SfvQGtKEGQ1tSQ   \n",
       "4  _JsMDKDQJ8uc6logHxA0-w  s0l9vVweCwvudj5TNGMl6w  B5XSoSG3SfvQGtKEGQ1tSQ   \n",
       "\n",
       "   stars  useful  funny  cool  \\\n",
       "0    3.0       1      1     0   \n",
       "1    4.0       1      0     0   \n",
       "2    5.0       0      0     0   \n",
       "3    5.0      14      9    13   \n",
       "4    5.0       1      0     0   \n",
       "\n",
       "                                                text                 date  \\\n",
       "0  This easter instead of going to Lopez Lake we ...  2016-03-30 22:46:33   \n",
       "1  I work with a college group that does camping ...  2013-09-07 21:16:36   \n",
       "2  My SO and I love exploring new trails and so i...  2018-08-05 21:50:27   \n",
       "3  I can't believe there's only one review for th...  2011-07-06 23:14:29   \n",
       "4  I love this area for hiking! I go there all th...  2016-04-03 03:24:46   \n",
       "\n",
       "            city state                                           tags  \n",
       "0  Santa Barbara    CA           [dead, national, grass, forest, rid]  \n",
       "1  Santa Barbara    CA        [compared, ten, areas, access, forever]  \n",
       "2  Santa Barbara    CA    [balancing, break, passed, knowing, remove]  \n",
       "3  Santa Barbara    CA  [bases, national, drops, continuously, range]  \n",
       "4  Santa Barbara    CA                               [public, forest]  "
      ]
     },
     "execution_count": 22,
     "metadata": {},
     "output_type": "execute_result"
    }
   ],
   "source": [
    "reviewsdf.head(5)"
   ]
  },
  {
   "cell_type": "code",
   "execution_count": null,
   "id": "f6df32fe",
   "metadata": {},
   "outputs": [],
   "source": []
  },
  {
   "cell_type": "code",
   "execution_count": 67,
   "id": "a0a85b24",
   "metadata": {},
   "outputs": [],
   "source": [
    "# trigram_measures = nltk.collocations.TrigramAssocMeasures()\n"
   ]
  },
  {
   "cell_type": "code",
   "execution_count": 68,
   "id": "5e609d49",
   "metadata": {},
   "outputs": [],
   "source": [
    "# finder = BigramCollocationFinder.from_words()\n",
    "# finder1 = finder.apply_freq_filter(1)\n",
    "# finder.nbest(bigram_measures.pmi, 1500)\n",
    "# #Maybe add bigrams to each string, so they end upo in freq dict\n",
    "# # list(bigrams)"
   ]
  },
  {
   "cell_type": "markdown",
   "id": "423ee6aa",
   "metadata": {},
   "source": [
    "### Hashtag generation above needs to be improved, just temporarlily using it to continue with other parts"
   ]
  },
  {
   "cell_type": "markdown",
   "id": "a899f201",
   "metadata": {},
   "source": [
    "# Create graph data"
   ]
  },
  {
   "cell_type": "markdown",
   "id": "86df9275",
   "metadata": {},
   "source": [
    "1 ) Create  weighted edges between business and associated hashtags (edge weight is number of reviews that contained particular hashtag?)\n",
    "\n",
    "2) Create weighted edges between hashtags that occur in the same business (or review ?) weight = num co coccurances in reviews?"
   ]
  },
  {
   "cell_type": "markdown",
   "id": "8e743b9f",
   "metadata": {},
   "source": [
    "Drop unecessary columns from reviewsdf "
   ]
  },
  {
   "cell_type": "code",
   "execution_count": 23,
   "id": "c3fce8ba",
   "metadata": {
    "scrolled": true
   },
   "outputs": [
    {
     "data": {
      "text/html": [
       "<div>\n",
       "<style scoped>\n",
       "    .dataframe tbody tr th:only-of-type {\n",
       "        vertical-align: middle;\n",
       "    }\n",
       "\n",
       "    .dataframe tbody tr th {\n",
       "        vertical-align: top;\n",
       "    }\n",
       "\n",
       "    .dataframe thead th {\n",
       "        text-align: right;\n",
       "    }\n",
       "</style>\n",
       "<table border=\"1\" class=\"dataframe\">\n",
       "  <thead>\n",
       "    <tr style=\"text-align: right;\">\n",
       "      <th></th>\n",
       "      <th>review_id</th>\n",
       "      <th>text</th>\n",
       "      <th>business_id</th>\n",
       "      <th>city</th>\n",
       "      <th>state</th>\n",
       "      <th>tags</th>\n",
       "    </tr>\n",
       "  </thead>\n",
       "  <tbody>\n",
       "    <tr>\n",
       "      <th>0</th>\n",
       "      <td>ZKvDG2sBvHVdF5oBNUOpAQ</td>\n",
       "      <td>This easter instead of going to Lopez Lake we ...</td>\n",
       "      <td>B5XSoSG3SfvQGtKEGQ1tSQ</td>\n",
       "      <td>Santa Barbara</td>\n",
       "      <td>CA</td>\n",
       "      <td>[dead, national, grass, forest, rid]</td>\n",
       "    </tr>\n",
       "    <tr>\n",
       "      <th>1</th>\n",
       "      <td>9ag-bC-521T1i3IypXr4Ug</td>\n",
       "      <td>I work with a college group that does camping ...</td>\n",
       "      <td>B5XSoSG3SfvQGtKEGQ1tSQ</td>\n",
       "      <td>Santa Barbara</td>\n",
       "      <td>CA</td>\n",
       "      <td>[compared, ten, areas, access, forever]</td>\n",
       "    </tr>\n",
       "    <tr>\n",
       "      <th>2</th>\n",
       "      <td>80p5xO3dbpd80T6vPTL8DQ</td>\n",
       "      <td>My SO and I love exploring new trails and so i...</td>\n",
       "      <td>B5XSoSG3SfvQGtKEGQ1tSQ</td>\n",
       "      <td>Santa Barbara</td>\n",
       "      <td>CA</td>\n",
       "      <td>[balancing, break, passed, knowing, remove]</td>\n",
       "    </tr>\n",
       "    <tr>\n",
       "      <th>3</th>\n",
       "      <td>RScubg9WIp165432dQfVHQ</td>\n",
       "      <td>I can't believe there's only one review for th...</td>\n",
       "      <td>B5XSoSG3SfvQGtKEGQ1tSQ</td>\n",
       "      <td>Santa Barbara</td>\n",
       "      <td>CA</td>\n",
       "      <td>[bases, national, drops, continuously, range]</td>\n",
       "    </tr>\n",
       "    <tr>\n",
       "      <th>4</th>\n",
       "      <td>_JsMDKDQJ8uc6logHxA0-w</td>\n",
       "      <td>I love this area for hiking! I go there all th...</td>\n",
       "      <td>B5XSoSG3SfvQGtKEGQ1tSQ</td>\n",
       "      <td>Santa Barbara</td>\n",
       "      <td>CA</td>\n",
       "      <td>[public, forest]</td>\n",
       "    </tr>\n",
       "    <tr>\n",
       "      <th>...</th>\n",
       "      <td>...</td>\n",
       "      <td>...</td>\n",
       "      <td>...</td>\n",
       "      <td>...</td>\n",
       "      <td>...</td>\n",
       "      <td>...</td>\n",
       "    </tr>\n",
       "    <tr>\n",
       "      <th>29995</th>\n",
       "      <td>Zk-q3XdjXNUxwHH5BS2b3A</td>\n",
       "      <td>I enjoyed a great view and delicious food at t...</td>\n",
       "      <td>fnGZspqyamRremXor0sAyg</td>\n",
       "      <td>Santa Barbara</td>\n",
       "      <td>CA</td>\n",
       "      <td>[]</td>\n",
       "    </tr>\n",
       "    <tr>\n",
       "      <th>29996</th>\n",
       "      <td>VMjZqDJYGHs_MSNXKhd4gw</td>\n",
       "      <td>Came here with some colleagues for a celebrato...</td>\n",
       "      <td>fnGZspqyamRremXor0sAyg</td>\n",
       "      <td>Santa Barbara</td>\n",
       "      <td>CA</td>\n",
       "      <td>[difficult, scenic, colleagues, wrap, ahi]</td>\n",
       "    </tr>\n",
       "    <tr>\n",
       "      <th>29997</th>\n",
       "      <td>lvaT-QAzAYWTqO7JWLEqYQ</td>\n",
       "      <td>This is a great place with an excellent panora...</td>\n",
       "      <td>fnGZspqyamRremXor0sAyg</td>\n",
       "      <td>Santa Barbara</td>\n",
       "      <td>CA</td>\n",
       "      <td>[western, handful, fare, weddings, comparison]</td>\n",
       "    </tr>\n",
       "    <tr>\n",
       "      <th>29998</th>\n",
       "      <td>wJAkDH0gTqpQaKH9PVwF9g</td>\n",
       "      <td>Came for a late lunch and was hoping to get fl...</td>\n",
       "      <td>fnGZspqyamRremXor0sAyg</td>\n",
       "      <td>Santa Barbara</td>\n",
       "      <td>CA</td>\n",
       "      <td>[sammy, iron, appear, hoping, barely]</td>\n",
       "    </tr>\n",
       "    <tr>\n",
       "      <th>29999</th>\n",
       "      <td>9824ResgX033Y8rIicXJgQ</td>\n",
       "      <td>These guys were great.  I called, they let me ...</td>\n",
       "      <td>ukhkivp_eCkyCpNcujoDtQ</td>\n",
       "      <td>Goleta</td>\n",
       "      <td>CA</td>\n",
       "      <td>[broken, pipe, scenario, quoted]</td>\n",
       "    </tr>\n",
       "  </tbody>\n",
       "</table>\n",
       "<p>30000 rows × 6 columns</p>\n",
       "</div>"
      ],
      "text/plain": [
       "                    review_id  \\\n",
       "0      ZKvDG2sBvHVdF5oBNUOpAQ   \n",
       "1      9ag-bC-521T1i3IypXr4Ug   \n",
       "2      80p5xO3dbpd80T6vPTL8DQ   \n",
       "3      RScubg9WIp165432dQfVHQ   \n",
       "4      _JsMDKDQJ8uc6logHxA0-w   \n",
       "...                       ...   \n",
       "29995  Zk-q3XdjXNUxwHH5BS2b3A   \n",
       "29996  VMjZqDJYGHs_MSNXKhd4gw   \n",
       "29997  lvaT-QAzAYWTqO7JWLEqYQ   \n",
       "29998  wJAkDH0gTqpQaKH9PVwF9g   \n",
       "29999  9824ResgX033Y8rIicXJgQ   \n",
       "\n",
       "                                                    text  \\\n",
       "0      This easter instead of going to Lopez Lake we ...   \n",
       "1      I work with a college group that does camping ...   \n",
       "2      My SO and I love exploring new trails and so i...   \n",
       "3      I can't believe there's only one review for th...   \n",
       "4      I love this area for hiking! I go there all th...   \n",
       "...                                                  ...   \n",
       "29995  I enjoyed a great view and delicious food at t...   \n",
       "29996  Came here with some colleagues for a celebrato...   \n",
       "29997  This is a great place with an excellent panora...   \n",
       "29998  Came for a late lunch and was hoping to get fl...   \n",
       "29999  These guys were great.  I called, they let me ...   \n",
       "\n",
       "                  business_id           city state  \\\n",
       "0      B5XSoSG3SfvQGtKEGQ1tSQ  Santa Barbara    CA   \n",
       "1      B5XSoSG3SfvQGtKEGQ1tSQ  Santa Barbara    CA   \n",
       "2      B5XSoSG3SfvQGtKEGQ1tSQ  Santa Barbara    CA   \n",
       "3      B5XSoSG3SfvQGtKEGQ1tSQ  Santa Barbara    CA   \n",
       "4      B5XSoSG3SfvQGtKEGQ1tSQ  Santa Barbara    CA   \n",
       "...                       ...            ...   ...   \n",
       "29995  fnGZspqyamRremXor0sAyg  Santa Barbara    CA   \n",
       "29996  fnGZspqyamRremXor0sAyg  Santa Barbara    CA   \n",
       "29997  fnGZspqyamRremXor0sAyg  Santa Barbara    CA   \n",
       "29998  fnGZspqyamRremXor0sAyg  Santa Barbara    CA   \n",
       "29999  ukhkivp_eCkyCpNcujoDtQ         Goleta    CA   \n",
       "\n",
       "                                                 tags  \n",
       "0                [dead, national, grass, forest, rid]  \n",
       "1             [compared, ten, areas, access, forever]  \n",
       "2         [balancing, break, passed, knowing, remove]  \n",
       "3       [bases, national, drops, continuously, range]  \n",
       "4                                    [public, forest]  \n",
       "...                                               ...  \n",
       "29995                                              []  \n",
       "29996      [difficult, scenic, colleagues, wrap, ahi]  \n",
       "29997  [western, handful, fare, weddings, comparison]  \n",
       "29998           [sammy, iron, appear, hoping, barely]  \n",
       "29999                [broken, pipe, scenario, quoted]  \n",
       "\n",
       "[30000 rows x 6 columns]"
      ]
     },
     "execution_count": 23,
     "metadata": {},
     "output_type": "execute_result"
    }
   ],
   "source": [
    "reviewsdf = reviewsdf[['review_id','text','business_id','city','state','tags']]\n",
    "reviewsdf"
   ]
  },
  {
   "cell_type": "code",
   "execution_count": 24,
   "id": "ecd08cb7",
   "metadata": {},
   "outputs": [],
   "source": [
    "###Create graph between business and associated hashtags \n",
    "from collections import defaultdict\n",
    "businessAndTagGraph = defaultdict(lambda: defaultdict(int))\n",
    "tagsGraph = defaultdict(lambda: defaultdict(int))"
   ]
  },
  {
   "cell_type": "code",
   "execution_count": 25,
   "id": "e43e1d53",
   "metadata": {},
   "outputs": [
    {
     "name": "stdout",
     "output_type": "stream",
     "text": [
      "CPU times: total: 1.73 s\n",
      "Wall time: 7.79 s\n"
     ]
    }
   ],
   "source": [
    "%%time\n",
    "for review in reviewsdf.itertuples():\n",
    "    businessId = review[3]\n",
    "    tags = review[6]\n",
    "    for i in range(len(tags)): \n",
    "        #Update Edge weights (number of times hashtag occurs in review)\n",
    "        currTag = tags[i]\n",
    "        businessAndTagGraph[businessId][currTag] += 1\n",
    "        #Create edges and weights for tags in same review \n",
    "        for j in range(len(tags)):\n",
    "            if i != j:\n",
    "                 tagsGraph[currTag][tags[j]] += 1\n"
   ]
  },
  {
   "cell_type": "markdown",
   "id": "8776ba17",
   "metadata": {},
   "source": [
    "#### Convert business and tags graph into dataframe/csv format"
   ]
  },
  {
   "cell_type": "code",
   "execution_count": 26,
   "id": "3c3cb737",
   "metadata": {},
   "outputs": [],
   "source": [
    "#businessAndTagsdf = pd.DataFrame(columns=['business_id','hashtag','count'])\n",
    "idcol = []\n",
    "hashtagcol = []\n",
    "countcol = []\n",
    "ignore = set(['index_names','column_names','index','columns','data'])\n",
    "for businessid in businessAndTagGraph.keys():\n",
    "    if businessid in ignore:\n",
    "        continue\n",
    "    for vals in businessAndTagGraph[businessid].items():\n",
    "        idcol.append(businessid)\n",
    "        hashtagcol.append(vals[0])\n",
    "        countcol.append(vals[1])\n",
    "        #businessAndTagsdf.append({'business_id':businessid,'hashtag':vals[0],count:vals[1]})\n"
   ]
  },
  {
   "cell_type": "code",
   "execution_count": 27,
   "id": "e8362e67",
   "metadata": {},
   "outputs": [],
   "source": [
    "businessAndTagsdf = pd.DataFrame(columns = ['business_id','hashtag','count'])\n",
    "businessAndTagsdf['business_id'] = idcol\n",
    "businessAndTagsdf['hashtag'] = hashtagcol\n",
    "businessAndTagsdf['count'] = countcol"
   ]
  },
  {
   "cell_type": "code",
   "execution_count": null,
   "id": "28927a33",
   "metadata": {},
   "outputs": [],
   "source": []
  },
  {
   "cell_type": "code",
   "execution_count": 28,
   "id": "916a34c6",
   "metadata": {},
   "outputs": [],
   "source": [
    "#Resulting df \n",
    "businessdf = businessdf[['business_id','name','address','city','state','latitude','longitude','stars','categories']]"
   ]
  },
  {
   "cell_type": "code",
   "execution_count": 29,
   "id": "2cd366dd",
   "metadata": {
    "scrolled": true
   },
   "outputs": [
    {
     "data": {
      "text/html": [
       "<div>\n",
       "<style scoped>\n",
       "    .dataframe tbody tr th:only-of-type {\n",
       "        vertical-align: middle;\n",
       "    }\n",
       "\n",
       "    .dataframe tbody tr th {\n",
       "        vertical-align: top;\n",
       "    }\n",
       "\n",
       "    .dataframe thead th {\n",
       "        text-align: right;\n",
       "    }\n",
       "</style>\n",
       "<table border=\"1\" class=\"dataframe\">\n",
       "  <thead>\n",
       "    <tr style=\"text-align: right;\">\n",
       "      <th></th>\n",
       "      <th>business_id</th>\n",
       "      <th>hashtag</th>\n",
       "      <th>count</th>\n",
       "      <th>name</th>\n",
       "      <th>address</th>\n",
       "      <th>city</th>\n",
       "      <th>state</th>\n",
       "      <th>latitude</th>\n",
       "      <th>longitude</th>\n",
       "      <th>stars</th>\n",
       "      <th>categories</th>\n",
       "    </tr>\n",
       "  </thead>\n",
       "  <tbody>\n",
       "    <tr>\n",
       "      <th>0</th>\n",
       "      <td>B5XSoSG3SfvQGtKEGQ1tSQ</td>\n",
       "      <td>dead</td>\n",
       "      <td>1</td>\n",
       "      <td>Los Padres National Forest</td>\n",
       "      <td>San Marcos Pass Rd</td>\n",
       "      <td>Santa Barbara</td>\n",
       "      <td>CA</td>\n",
       "      <td>34.597239</td>\n",
       "      <td>-119.510772</td>\n",
       "      <td>4.5</td>\n",
       "      <td>Parks, Active Life</td>\n",
       "    </tr>\n",
       "    <tr>\n",
       "      <th>1</th>\n",
       "      <td>B5XSoSG3SfvQGtKEGQ1tSQ</td>\n",
       "      <td>national</td>\n",
       "      <td>5</td>\n",
       "      <td>Los Padres National Forest</td>\n",
       "      <td>San Marcos Pass Rd</td>\n",
       "      <td>Santa Barbara</td>\n",
       "      <td>CA</td>\n",
       "      <td>34.597239</td>\n",
       "      <td>-119.510772</td>\n",
       "      <td>4.5</td>\n",
       "      <td>Parks, Active Life</td>\n",
       "    </tr>\n",
       "    <tr>\n",
       "      <th>2</th>\n",
       "      <td>B5XSoSG3SfvQGtKEGQ1tSQ</td>\n",
       "      <td>grass</td>\n",
       "      <td>1</td>\n",
       "      <td>Los Padres National Forest</td>\n",
       "      <td>San Marcos Pass Rd</td>\n",
       "      <td>Santa Barbara</td>\n",
       "      <td>CA</td>\n",
       "      <td>34.597239</td>\n",
       "      <td>-119.510772</td>\n",
       "      <td>4.5</td>\n",
       "      <td>Parks, Active Life</td>\n",
       "    </tr>\n",
       "    <tr>\n",
       "      <th>3</th>\n",
       "      <td>B5XSoSG3SfvQGtKEGQ1tSQ</td>\n",
       "      <td>forest</td>\n",
       "      <td>2</td>\n",
       "      <td>Los Padres National Forest</td>\n",
       "      <td>San Marcos Pass Rd</td>\n",
       "      <td>Santa Barbara</td>\n",
       "      <td>CA</td>\n",
       "      <td>34.597239</td>\n",
       "      <td>-119.510772</td>\n",
       "      <td>4.5</td>\n",
       "      <td>Parks, Active Life</td>\n",
       "    </tr>\n",
       "    <tr>\n",
       "      <th>4</th>\n",
       "      <td>B5XSoSG3SfvQGtKEGQ1tSQ</td>\n",
       "      <td>rid</td>\n",
       "      <td>1</td>\n",
       "      <td>Los Padres National Forest</td>\n",
       "      <td>San Marcos Pass Rd</td>\n",
       "      <td>Santa Barbara</td>\n",
       "      <td>CA</td>\n",
       "      <td>34.597239</td>\n",
       "      <td>-119.510772</td>\n",
       "      <td>4.5</td>\n",
       "      <td>Parks, Active Life</td>\n",
       "    </tr>\n",
       "    <tr>\n",
       "      <th>...</th>\n",
       "      <td>...</td>\n",
       "      <td>...</td>\n",
       "      <td>...</td>\n",
       "      <td>...</td>\n",
       "      <td>...</td>\n",
       "      <td>...</td>\n",
       "      <td>...</td>\n",
       "      <td>...</td>\n",
       "      <td>...</td>\n",
       "      <td>...</td>\n",
       "      <td>...</td>\n",
       "    </tr>\n",
       "    <tr>\n",
       "      <th>72339</th>\n",
       "      <td>fnGZspqyamRremXor0sAyg</td>\n",
       "      <td>barely</td>\n",
       "      <td>1</td>\n",
       "      <td>Frog Bar &amp; Grill</td>\n",
       "      <td>405 Glen Annie Rd</td>\n",
       "      <td>Santa Barbara</td>\n",
       "      <td>CA</td>\n",
       "      <td>34.442938</td>\n",
       "      <td>-119.880037</td>\n",
       "      <td>4.0</td>\n",
       "      <td>Restaurants, American (Traditional), Nightlife...</td>\n",
       "    </tr>\n",
       "    <tr>\n",
       "      <th>72340</th>\n",
       "      <td>ukhkivp_eCkyCpNcujoDtQ</td>\n",
       "      <td>broken</td>\n",
       "      <td>1</td>\n",
       "      <td>Goleta Mufflers &amp; Brakes</td>\n",
       "      <td>5921 Matthews St, Ste B</td>\n",
       "      <td>Goleta</td>\n",
       "      <td>CA</td>\n",
       "      <td>34.430054</td>\n",
       "      <td>-119.829281</td>\n",
       "      <td>4.0</td>\n",
       "      <td>Auto Repair, Automotive</td>\n",
       "    </tr>\n",
       "    <tr>\n",
       "      <th>72341</th>\n",
       "      <td>ukhkivp_eCkyCpNcujoDtQ</td>\n",
       "      <td>pipe</td>\n",
       "      <td>1</td>\n",
       "      <td>Goleta Mufflers &amp; Brakes</td>\n",
       "      <td>5921 Matthews St, Ste B</td>\n",
       "      <td>Goleta</td>\n",
       "      <td>CA</td>\n",
       "      <td>34.430054</td>\n",
       "      <td>-119.829281</td>\n",
       "      <td>4.0</td>\n",
       "      <td>Auto Repair, Automotive</td>\n",
       "    </tr>\n",
       "    <tr>\n",
       "      <th>72342</th>\n",
       "      <td>ukhkivp_eCkyCpNcujoDtQ</td>\n",
       "      <td>scenario</td>\n",
       "      <td>1</td>\n",
       "      <td>Goleta Mufflers &amp; Brakes</td>\n",
       "      <td>5921 Matthews St, Ste B</td>\n",
       "      <td>Goleta</td>\n",
       "      <td>CA</td>\n",
       "      <td>34.430054</td>\n",
       "      <td>-119.829281</td>\n",
       "      <td>4.0</td>\n",
       "      <td>Auto Repair, Automotive</td>\n",
       "    </tr>\n",
       "    <tr>\n",
       "      <th>72343</th>\n",
       "      <td>ukhkivp_eCkyCpNcujoDtQ</td>\n",
       "      <td>quoted</td>\n",
       "      <td>1</td>\n",
       "      <td>Goleta Mufflers &amp; Brakes</td>\n",
       "      <td>5921 Matthews St, Ste B</td>\n",
       "      <td>Goleta</td>\n",
       "      <td>CA</td>\n",
       "      <td>34.430054</td>\n",
       "      <td>-119.829281</td>\n",
       "      <td>4.0</td>\n",
       "      <td>Auto Repair, Automotive</td>\n",
       "    </tr>\n",
       "  </tbody>\n",
       "</table>\n",
       "<p>72344 rows × 11 columns</p>\n",
       "</div>"
      ],
      "text/plain": [
       "                  business_id   hashtag  count                        name  \\\n",
       "0      B5XSoSG3SfvQGtKEGQ1tSQ      dead      1  Los Padres National Forest   \n",
       "1      B5XSoSG3SfvQGtKEGQ1tSQ  national      5  Los Padres National Forest   \n",
       "2      B5XSoSG3SfvQGtKEGQ1tSQ     grass      1  Los Padres National Forest   \n",
       "3      B5XSoSG3SfvQGtKEGQ1tSQ    forest      2  Los Padres National Forest   \n",
       "4      B5XSoSG3SfvQGtKEGQ1tSQ       rid      1  Los Padres National Forest   \n",
       "...                       ...       ...    ...                         ...   \n",
       "72339  fnGZspqyamRremXor0sAyg    barely      1            Frog Bar & Grill   \n",
       "72340  ukhkivp_eCkyCpNcujoDtQ    broken      1    Goleta Mufflers & Brakes   \n",
       "72341  ukhkivp_eCkyCpNcujoDtQ      pipe      1    Goleta Mufflers & Brakes   \n",
       "72342  ukhkivp_eCkyCpNcujoDtQ  scenario      1    Goleta Mufflers & Brakes   \n",
       "72343  ukhkivp_eCkyCpNcujoDtQ    quoted      1    Goleta Mufflers & Brakes   \n",
       "\n",
       "                       address           city state   latitude   longitude  \\\n",
       "0           San Marcos Pass Rd  Santa Barbara    CA  34.597239 -119.510772   \n",
       "1           San Marcos Pass Rd  Santa Barbara    CA  34.597239 -119.510772   \n",
       "2           San Marcos Pass Rd  Santa Barbara    CA  34.597239 -119.510772   \n",
       "3           San Marcos Pass Rd  Santa Barbara    CA  34.597239 -119.510772   \n",
       "4           San Marcos Pass Rd  Santa Barbara    CA  34.597239 -119.510772   \n",
       "...                        ...            ...   ...        ...         ...   \n",
       "72339        405 Glen Annie Rd  Santa Barbara    CA  34.442938 -119.880037   \n",
       "72340  5921 Matthews St, Ste B         Goleta    CA  34.430054 -119.829281   \n",
       "72341  5921 Matthews St, Ste B         Goleta    CA  34.430054 -119.829281   \n",
       "72342  5921 Matthews St, Ste B         Goleta    CA  34.430054 -119.829281   \n",
       "72343  5921 Matthews St, Ste B         Goleta    CA  34.430054 -119.829281   \n",
       "\n",
       "       stars                                         categories  \n",
       "0        4.5                                 Parks, Active Life  \n",
       "1        4.5                                 Parks, Active Life  \n",
       "2        4.5                                 Parks, Active Life  \n",
       "3        4.5                                 Parks, Active Life  \n",
       "4        4.5                                 Parks, Active Life  \n",
       "...      ...                                                ...  \n",
       "72339    4.0  Restaurants, American (Traditional), Nightlife...  \n",
       "72340    4.0                            Auto Repair, Automotive  \n",
       "72341    4.0                            Auto Repair, Automotive  \n",
       "72342    4.0                            Auto Repair, Automotive  \n",
       "72343    4.0                            Auto Repair, Automotive  \n",
       "\n",
       "[72344 rows x 11 columns]"
      ]
     },
     "execution_count": 29,
     "metadata": {},
     "output_type": "execute_result"
    }
   ],
   "source": [
    "businessAndTagsdf = businessAndTagsdf.merge(businessdf,on='business_id')\n",
    "businessAndTagsdf"
   ]
  },
  {
   "cell_type": "markdown",
   "id": "e5bc7cc4",
   "metadata": {},
   "source": [
    "##### Convert tags graph to df/csv format"
   ]
  },
  {
   "cell_type": "code",
   "execution_count": 30,
   "id": "67ca8f7c",
   "metadata": {},
   "outputs": [],
   "source": [
    "tag1 = []\n",
    "tag2 = []\n",
    "sharedOccurances = []\n",
    "for tag in tagsGraph.keys():\n",
    "    for vals in tagsGraph[tag].items():\n",
    "        tag1.append(tag)\n",
    "        tag2.append(vals[0])\n",
    "        sharedOccurances.append(vals[1])"
   ]
  },
  {
   "cell_type": "code",
   "execution_count": 31,
   "id": "774f320b",
   "metadata": {},
   "outputs": [],
   "source": [
    "tagsDf = pd.DataFrame(columns = ['tag1','tag2','sharedOccurances'])\n",
    "tagsDf['tag1'] = tag1\n",
    "tagsDf['tag2'] = tag2\n",
    "tagsDf['sharedOccurances']= sharedOccurances"
   ]
  },
  {
   "cell_type": "code",
   "execution_count": 32,
   "id": "e2e12c65",
   "metadata": {},
   "outputs": [
    {
     "data": {
      "text/html": [
       "<div>\n",
       "<style scoped>\n",
       "    .dataframe tbody tr th:only-of-type {\n",
       "        vertical-align: middle;\n",
       "    }\n",
       "\n",
       "    .dataframe tbody tr th {\n",
       "        vertical-align: top;\n",
       "    }\n",
       "\n",
       "    .dataframe thead th {\n",
       "        text-align: right;\n",
       "    }\n",
       "</style>\n",
       "<table border=\"1\" class=\"dataframe\">\n",
       "  <thead>\n",
       "    <tr style=\"text-align: right;\">\n",
       "      <th></th>\n",
       "      <th>tag1</th>\n",
       "      <th>tag2</th>\n",
       "      <th>sharedOccurances</th>\n",
       "    </tr>\n",
       "  </thead>\n",
       "  <tbody>\n",
       "    <tr>\n",
       "      <th>0</th>\n",
       "      <td>dead</td>\n",
       "      <td>national</td>\n",
       "      <td>1</td>\n",
       "    </tr>\n",
       "    <tr>\n",
       "      <th>1</th>\n",
       "      <td>dead</td>\n",
       "      <td>grass</td>\n",
       "      <td>1</td>\n",
       "    </tr>\n",
       "    <tr>\n",
       "      <th>2</th>\n",
       "      <td>dead</td>\n",
       "      <td>forest</td>\n",
       "      <td>1</td>\n",
       "    </tr>\n",
       "    <tr>\n",
       "      <th>3</th>\n",
       "      <td>dead</td>\n",
       "      <td>rid</td>\n",
       "      <td>1</td>\n",
       "    </tr>\n",
       "    <tr>\n",
       "      <th>4</th>\n",
       "      <td>dead</td>\n",
       "      <td>poisoning</td>\n",
       "      <td>1</td>\n",
       "    </tr>\n",
       "    <tr>\n",
       "      <th>...</th>\n",
       "      <td>...</td>\n",
       "      <td>...</td>\n",
       "      <td>...</td>\n",
       "    </tr>\n",
       "    <tr>\n",
       "      <th>363935</th>\n",
       "      <td>adoptable</td>\n",
       "      <td>clinic</td>\n",
       "      <td>1</td>\n",
       "    </tr>\n",
       "    <tr>\n",
       "      <th>363936</th>\n",
       "      <td>golf</td>\n",
       "      <td>wear</td>\n",
       "      <td>1</td>\n",
       "    </tr>\n",
       "    <tr>\n",
       "      <th>363937</th>\n",
       "      <td>golf</td>\n",
       "      <td>dine</td>\n",
       "      <td>1</td>\n",
       "    </tr>\n",
       "    <tr>\n",
       "      <th>363938</th>\n",
       "      <td>golf</td>\n",
       "      <td>ahi</td>\n",
       "      <td>1</td>\n",
       "    </tr>\n",
       "    <tr>\n",
       "      <th>363939</th>\n",
       "      <td>golf</td>\n",
       "      <td>patios</td>\n",
       "      <td>1</td>\n",
       "    </tr>\n",
       "  </tbody>\n",
       "</table>\n",
       "<p>363940 rows × 3 columns</p>\n",
       "</div>"
      ],
      "text/plain": [
       "             tag1       tag2  sharedOccurances\n",
       "0            dead   national                 1\n",
       "1            dead      grass                 1\n",
       "2            dead     forest                 1\n",
       "3            dead        rid                 1\n",
       "4            dead  poisoning                 1\n",
       "...           ...        ...               ...\n",
       "363935  adoptable     clinic                 1\n",
       "363936       golf       wear                 1\n",
       "363937       golf       dine                 1\n",
       "363938       golf        ahi                 1\n",
       "363939       golf     patios                 1\n",
       "\n",
       "[363940 rows x 3 columns]"
      ]
     },
     "execution_count": 32,
     "metadata": {},
     "output_type": "execute_result"
    }
   ],
   "source": [
    "tagsDf"
   ]
  },
  {
   "cell_type": "markdown",
   "id": "a28f1b6c",
   "metadata": {},
   "source": [
    "#### Save graphs to csv"
   ]
  },
  {
   "cell_type": "code",
   "execution_count": 33,
   "id": "ccce5ab2",
   "metadata": {},
   "outputs": [],
   "source": [
    "businessAndTagsdf.to_csv('businessAndTags.csv')\n",
    "tagsDf.to_csv('tagsGraph.csv')"
   ]
  },
  {
   "cell_type": "markdown",
   "id": "21479b00",
   "metadata": {},
   "source": [
    "# Import data into Neo4j"
   ]
  },
  {
   "cell_type": "code",
   "execution_count": 4,
   "id": "8e09ada8",
   "metadata": {},
   "outputs": [],
   "source": [
    "from neo4j import GraphDatabase\n",
    "import neo4j"
   ]
  },
  {
   "cell_type": "code",
   "execution_count": 5,
   "id": "3b5468b2",
   "metadata": {},
   "outputs": [],
   "source": [
    "uri = \"bolt://localhost:7666\"\n",
    "username = \"neo4j\"\n",
    "password = \"password\"\n",
    "\n",
    "def create_neo4j_session(uri, username, password):\n",
    "    try:\n",
    "        driver = GraphDatabase.driver(uri, auth=(username, password))\n",
    "        session = driver.session()\n",
    "        return session\n",
    "    except Exception as e:\n",
    "        print(f\"Failed to create Neo4j session: {e}\")\n",
    "        return None\n",
    "\n",
    "session = create_neo4j_session(uri, username, password)"
   ]
  },
  {
   "cell_type": "code",
   "execution_count": 36,
   "id": "e4d899a2",
   "metadata": {},
   "outputs": [
    {
     "data": {
      "text/plain": [
       "<neo4j._sync.work.result.Result at 0x202b98e5dc0>"
      ]
     },
     "execution_count": 36,
     "metadata": {},
     "output_type": "execute_result"
    }
   ],
   "source": [
    "# Deleting all existing constraints\n",
    "deleting_constraints = \"CALL apoc.schema.assert({}, {})\"\n",
    "session.run(deleting_constraints)\n",
    "\n",
    "# Creating constraints for our graph\n",
    "constraint_1 = \"CREATE CONSTRAINT FOR (b:Business) REQUIRE b.id IS UNIQUE;\"\n",
    "constraint_2 = \"CREATE CONSTRAINT FOR (t:tag) REQUIRE t.name IS UNIQUE;\"\n",
    "\n",
    "session.run(constraint_1)\n",
    "session.run(constraint_2)"
   ]
  },
  {
   "cell_type": "code",
   "execution_count": 38,
   "id": "777251f2",
   "metadata": {},
   "outputs": [
    {
     "name": "stdout",
     "output_type": "stream",
     "text": [
      "CPU times: total: 0 ns\n",
      "Wall time: 44min 37s\n"
     ]
    },
    {
     "data": {
      "text/plain": [
       "<neo4j._sync.work.result.Result at 0x2027917b8b0>"
      ]
     },
     "execution_count": 38,
     "metadata": {},
     "output_type": "execute_result"
    }
   ],
   "source": [
    "%%time\n",
    "# Creating tag nodes and SHARED_TAGS relationship between tags with shared occurences\n",
    "create_tags = \"\"\"\n",
    "LOAD CSV WITH HEADERS FROM 'file:///tagsGraph.csv' AS row  \n",
    "WITH row\n",
    "CALL {\n",
    "WITH row\n",
    "MERGE (t1:tag {id: row.tag1})\n",
    "MERGE (t2:tag {id: row.tag2})\n",
    "MERGE (t1)-[r:SHARED_TAGS]-(t2)\n",
    "SET r.shared_count = row.sharedOccurances\n",
    "} IN TRANSACTIONS\"\"\"\n",
    "\n",
    "# takes about 45 minutes for version of reviewsdf with 30,000 rows from just California\n",
    "session.run(create_tags)"
   ]
  },
  {
   "cell_type": "code",
   "execution_count": 39,
   "id": "decf77b9",
   "metadata": {},
   "outputs": [
    {
     "name": "stdout",
     "output_type": "stream",
     "text": [
      "CPU times: total: 0 ns\n",
      "Wall time: 2.89 s\n"
     ]
    },
    {
     "data": {
      "text/plain": [
       "<neo4j._sync.work.result.Result at 0x202d04b3b50>"
      ]
     },
     "execution_count": 39,
     "metadata": {},
     "output_type": "execute_result"
    }
   ],
   "source": [
    "%%time\n",
    "# Creating Business nodes and HAS_TAG relationship between the business and every tag that business has had in their reviews\n",
    "create_business = \"\"\"\n",
    "LOAD CSV WITH HEADERS FROM 'file:///businessAndTags.csv' AS row  \n",
    "WITH row\n",
    "CALL {\n",
    "WITH row\n",
    "MERGE (b:Business {id: row.business_id})\n",
    "SET b.name =  row.name, \n",
    "    b.address = row.address,\n",
    "    b.city = row.city,\n",
    "    b.state = row.state,\n",
    "    b.latitude = row.latitude,\n",
    "    b.longitude = row.longitude,\n",
    "    b.rating = row.stars,\n",
    "    b.categories = split(row.categories, ', ')\n",
    "MERGE (t:tag {name: row.hashtag})\n",
    "MERGE (b)-[r:HAS_TAG]->(t)\n",
    "SET r.tag_count = row.count\n",
    "} IN TRANSACTIONS\n",
    "\"\"\"\n",
    "\n",
    "session.run(create_business)"
   ]
  },
  {
   "cell_type": "markdown",
   "id": "27014f04",
   "metadata": {},
   "source": [
    "## Applications"
   ]
  },
  {
   "cell_type": "code",
   "execution_count": 66,
   "id": "360f3476",
   "metadata": {},
   "outputs": [],
   "source": [
    "import redis\n",
    "import time\n",
    "\n",
    "# Connect to Redis container\n",
    "r = redis.Redis(host='localhost', port=6379, db=0, decode_responses=True)"
   ]
  },
  {
   "cell_type": "markdown",
   "id": "f424a768",
   "metadata": {},
   "source": [
    "### Application 1: Finding the n closest businesses that share a tag with the given business id\n",
    "- Given a businessid and n, which is the number of businesses the user wants to query\n",
    "- Finds businesses that share at least one common tag with the given business id AND has at least one matching category\n",
    "- Calculates the distance between all of those businesses and the given business, and finds the n closest ones"
   ]
  },
  {
   "cell_type": "code",
   "execution_count": 67,
   "id": "44b05389",
   "metadata": {},
   "outputs": [],
   "source": [
    "def closest_similar_businesses(business_id, n):\n",
    "    app1_query = \"\"\"MATCH (b1:Business) - [ht1:HAS_TAG] -> (t:tag) <- [ht2:HAS_TAG] - (b2:Business)\n",
    "    WHERE b1.id = '\"\"\" + business_id + \"\"\"' AND b1 <> b2 AND ANY(category IN b2.categories WHERE category IN b1.categories)\n",
    "    WITH b1, b2, t\n",
    "    ORDER BY point.distance(point({longitude: toFloat(b1.longitude), latitude: toFloat(b1.latitude)}), point({longitude: toFloat(b2.longitude), latitude: toFloat(b2.latitude)})) ASC\n",
    "    WITH DISTINCT b2, b1\n",
    "    LIMIT \"\"\" + str(n) + \"\"\"\n",
    "    RETURN b2, point.distance(point({longitude: toFloat(b1.longitude), latitude: toFloat(b1.latitude)}), point({longitude: toFloat(b2.longitude), latitude: toFloat(b2.latitude)})) AS distance\n",
    "    \"\"\"\n",
    "    query_inputs = business_id + \" \" + str(n)\n",
    "    cached_data = r.get(query_inputs)\n",
    "    # if data is in cache already, retrieve query result from cache and return it\n",
    "    if cached_data is not None:\n",
    "        return cached_data\n",
    "    \n",
    "    given_business_name = session.run(f\"\"\"MATCH (b:Business) WHERE b.id = \"{business_id}\" RETURN b.name\"\"\") # gets business name\n",
    "    results = session.run(app1_query) # gets the result of app1_query\n",
    "    \n",
    "    # formulates the output to user from the results of the query\n",
    "    output = str(n) + \" closest similar businesses to \" + given_business_name.value()[0] + \": \\n\\n\"\n",
    "    for ind, x in enumerate(results):\n",
    "        output = output + str(ind + 1) + \": \" + x.values()[0].get('name') + \", which is \" + str(round(x.values()[1] / 1000, 2)) + \" km(s) away\" + \"\\n\"\n",
    "        \n",
    "    # store query result in cache and return the query result\n",
    "    r.set(query_inputs, output)\n",
    "    return output"
   ]
  },
  {
   "cell_type": "code",
   "execution_count": 68,
   "id": "b3d6d652",
   "metadata": {},
   "outputs": [
    {
     "name": "stdout",
     "output_type": "stream",
     "text": [
      "5 closest similar businesses to Los Padres National Forest: \n",
      "\n",
      "1: Run Montecito-Summerland, which is 21.06 km(s) away\n",
      "2: Surf Happens, which is 21.55 km(s) away\n",
      "3: Carpinteria Bluffs Nature Preserve, which is 23.48 km(s) away\n",
      "4: Franceschi Park, which is 24.27 km(s) away\n",
      "5: Paragon Jiu Jitsu and Kickboxing, which is 25.36 km(s) away\n",
      "\n"
     ]
    }
   ],
   "source": [
    "# demo of 3 closest similar businesses to Los Padres National Forest\n",
    "print(closest_similar_businesses(\"B5XSoSG3SfvQGtKEGQ1tSQ\", 5))"
   ]
  },
  {
   "cell_type": "code",
   "execution_count": 69,
   "id": "12a5eaff",
   "metadata": {},
   "outputs": [
    {
     "name": "stdout",
     "output_type": "stream",
     "text": [
      "3 closest similar businesses to Hibachi Steak House & Sushi Bar: \n",
      "\n",
      "1: Mad Dogs, which is 0.03 km(s) away\n",
      "2: Barbarians, which is 0.04 km(s) away\n",
      "3: Caffe Primo, which is 0.06 km(s) away\n",
      "\n"
     ]
    }
   ],
   "source": [
    "# demo of 3 closest similar businesses to Hibachi Steak House & Sushi Bar\n",
    "print(closest_similar_businesses(\"gebiRewfieSdtt17PTW6Zg\", 3))"
   ]
  },
  {
   "cell_type": "code",
   "execution_count": 70,
   "id": "640c4015",
   "metadata": {},
   "outputs": [
    {
     "name": "stdout",
     "output_type": "stream",
     "text": [
      "1 : 0.10750365257263184\n",
      "2 : 0.0016238689422607422\n",
      "3 : 0.0010533332824707031\n",
      "4 : 0.0010821819305419922\n",
      "5 : 0.001070261001586914\n"
     ]
    }
   ],
   "source": [
    "# demo of how cache speeds up queries that have been made before\n",
    "for i in range(5):\n",
    "    start = time.time()\n",
    "    closest_similar_businesses(\"gebiRewfieSdtt17PTW6Zg\", 6)\n",
    "    end = time.time()\n",
    "    print(i + 1, \":\", end - start)"
   ]
  },
  {
   "cell_type": "markdown",
   "id": "36d64d77",
   "metadata": {},
   "source": [
    "### Application 2: Find n businesses in a given city that is the most similar to a given business id\n",
    "- Given a businessid, a city name, and n, which is the number of businesses the user wants to query\n",
    "- Finds businesses in the given city that share the most number of tags with the given business\n",
    "- Return the top n business names"
   ]
  },
  {
   "cell_type": "code",
   "execution_count": 71,
   "id": "b96231d3",
   "metadata": {},
   "outputs": [],
   "source": [
    "def most_similar_in_city(business_id, city, n):\n",
    "    app2_query = \"\"\"MATCH (b1:Business) - [ht1:HAS_TAG] -> (t:tag) <- [ht2:HAS_TAG] - (b2:Business)\n",
    "    WHERE b1 <> b2 AND b2.city = '\"\"\" + city + \"\"\"' AND b1.id = '\"\"\" + business_id + \"\"\"' AND ANY(category IN b2.categories WHERE category IN b1.categories)\n",
    "    WITH b1, b2, count(DISTINCT t) AS matching_tags\n",
    "    ORDER BY matching_tags DESC\n",
    "    LIMIT \"\"\" + str(n) + \"\"\"\n",
    "    RETURN b2.name AS name, matching_tags\n",
    "    \"\"\"\n",
    "    query_inputs = business_id + \" \" + city + \" \" + str(n)\n",
    "    cached_data = r.get(query_inputs)\n",
    "    # if data is in cache already, retrieve query result from cache and return it\n",
    "    if cached_data is not None:\n",
    "        return cached_data\n",
    "    \n",
    "    given_business_name = session.run(f\"\"\"MATCH (b:Business) WHERE b.id = \"{business_id}\" RETURN b.name\"\"\") # gets business name\n",
    "    results = session.run(app2_query) # gets the result of app2_query\n",
    "    \n",
    "    # formulates the output to user from the results of the query\n",
    "    output = str(n) + \" most similar businesses to \" + given_business_name.value()[0] + \" in the city of \" + city + \":\\n\\n\"\n",
    "    for ind, x in enumerate(results):\n",
    "        output = output + str(ind + 1) + \": \" + x.values()[0] + \", with \" + str(x.values()[1]) + \" matching tags\\n\"\n",
    "        \n",
    "    # store query result in cache and return the query result\n",
    "    r.set(query_inputs, output)\n",
    "    return output"
   ]
  },
  {
   "cell_type": "code",
   "execution_count": 72,
   "id": "cab96e6a",
   "metadata": {},
   "outputs": [
    {
     "name": "stdout",
     "output_type": "stream",
     "text": [
      "5 most similar businesses to Hibachi Steak House & Sushi Bar in the city of Goleta:\n",
      "\n",
      "1: The Original Habit Burger Grill, with 262 matching tags\n",
      "2: Sushiya Express, with 202 matching tags\n",
      "3: In-N-Out Burger, with 201 matching tags\n",
      "4: Phamous Cafe, with 200 matching tags\n",
      "5: Cal Taco, with 178 matching tags\n",
      "\n"
     ]
    }
   ],
   "source": [
    "# demo of 5 most similar businesses in Goleta to Hibachi Steak House & Sushi Bar (Santa Barbara)\n",
    "print(most_similar_in_city(\"gebiRewfieSdtt17PTW6Zg\", \"Goleta\", 5))"
   ]
  },
  {
   "cell_type": "code",
   "execution_count": 73,
   "id": "0cb9ee3b",
   "metadata": {},
   "outputs": [
    {
     "name": "stdout",
     "output_type": "stream",
     "text": [
      "10 most similar businesses to Pho Bistro in the city of Santa Barbara:\n",
      "\n",
      "1: Santa Barbara Shellfish Company, with 324 matching tags\n",
      "2: Cold Spring Tavern, with 218 matching tags\n",
      "3: Hibachi Steak House & Sushi Bar, with 196 matching tags\n",
      "4: Dawn Patrol, with 192 matching tags\n",
      "5: Backyard Bowls, with 188 matching tags\n",
      "6: Bluewater Grill - Santa Barbara, with 183 matching tags\n",
      "7: Chase Restaurant, with 161 matching tags\n",
      "8: Sakana Sushi Bar & Japanese, with 152 matching tags\n",
      "9: Zen Yai Thai Cuisine, with 144 matching tags\n",
      "10: Helena Avenue Bakery, with 135 matching tags\n",
      "\n"
     ]
    }
   ],
   "source": [
    "# demo of 10 most similar businesses in Santa Barbara to Pho Bistro (Isla Vista)\n",
    "print(most_similar_in_city(\"bdfZdB2MTXlT6-RBjSIpQg\", \"Santa Barbara\", 10))"
   ]
  },
  {
   "cell_type": "code",
   "execution_count": 74,
   "id": "623305cf",
   "metadata": {},
   "outputs": [
    {
     "name": "stdout",
     "output_type": "stream",
     "text": [
      "1 : 0.08455610275268555\n",
      "2 : 0.0015954971313476562\n",
      "3 : 0.0010819435119628906\n",
      "4 : 0.0016124248504638672\n",
      "5 : 0.0016138553619384766\n"
     ]
    }
   ],
   "source": [
    "# demo of how cache speeds up queries that have been made before\n",
    "for i in range(5):\n",
    "    start = time.time()\n",
    "    most_similar_in_city(\"gebiRewfieSdtt17PTW6Zg\", \"Santa Barbara\", 8)\n",
    "    end = time.time()\n",
    "    print(i + 1, \":\", end - start)"
   ]
  },
  {
   "cell_type": "markdown",
   "id": "3e6f2f10",
   "metadata": {},
   "source": [
    "### Application 3 -  Find the N highest rated business in a city that contains atleast one specified hashtag from a list of provided hashtags "
   ]
  },
  {
   "cell_type": "code",
   "execution_count": 75,
   "id": "784ecba3",
   "metadata": {},
   "outputs": [],
   "source": [
    "def getNHighestRatedFromCity(city,hashtags,n,sort):\n",
    "    \n",
    "    whereClause = 'WHERE'\n",
    "    for i in range(len(hashtags)):\n",
    "        if i == len(hashtags) -1:\n",
    "            whereClause += f\" t.name = '{hashtags[i]}'\"\n",
    "        else:\n",
    "            whereClause += f\" t.name = '{hashtags[i]}' OR\"\n",
    "            \n",
    "    query = f'''MATCH p=(b : Business{{city:\\'{city}'}})-[r:HAS_TAG]-(t:tag) {whereClause} RETURN b ORDER BY\n",
    "    b.rating {sort} LIMIT {n}'''\n",
    "    \n",
    "    query_inputs = \"highestRatedFromCity\" + city + \" \" + str(hashtags) + \" \" + str(n) + \" \" + str(sort) + \" \"\n",
    "    cached_data = r.get(query_inputs)\n",
    "    \n",
    "    if cached_data is not None:\n",
    "        return cached_data\n",
    "    res = session.run(query)\n",
    "    output  = showOutputA3(res)\n",
    "    r.set(query_inputs, output)\n",
    "    \n",
    "    return output\n",
    "\n",
    "#The raw output of function above gives full record info, this function is a cleaner way to output results\n",
    "def showOutputA3(records):\n",
    "    output = \"\"\n",
    "    for r in records:\n",
    "        name = r['b']['name']\n",
    "        city = r['b']['city']\n",
    "        rating = r['b']['rating']\n",
    "        output += (f'Restaurant Name: {name}, City: {city}, Rating: {rating}\\n')\n",
    "    return output\n"
   ]
  },
  {
   "cell_type": "markdown",
   "id": "6b359bf9",
   "metadata": {},
   "source": [
    "Here is an example of what the raw output of the function looks like"
   ]
  },
  {
   "cell_type": "code",
   "execution_count": 76,
   "id": "a24ebaef",
   "metadata": {
    "scrolled": true
   },
   "outputs": [
    {
     "data": {
      "text/plain": [
       "'Restaurant Name: Movegreen, City: Santa Barbara, Rating: 4.5\\n'"
      ]
     },
     "execution_count": 76,
     "metadata": {},
     "output_type": "execute_result"
    }
   ],
   "source": [
    "getNHighestRatedFromCity('Santa Barbara',['awful'],1,'DESC')"
   ]
  },
  {
   "cell_type": "markdown",
   "id": "e3d1f9be",
   "metadata": {},
   "source": [
    "Here is an example of the five lowest rated businesses that has reviews containing the hashtag awful"
   ]
  },
  {
   "cell_type": "code",
   "execution_count": 77,
   "id": "8de38038",
   "metadata": {},
   "outputs": [
    {
     "name": "stdout",
     "output_type": "stream",
     "text": [
      "Restaurant Name: Artistic Nails & Spa, City: Santa Barbara, Rating: 2.0\n",
      "Restaurant Name: China Bowl & State Street Cafe, City: Santa Barbara, Rating: 2.0\n",
      "Restaurant Name: India House, City: Santa Barbara, Rating: 2.0\n",
      "Restaurant Name: Hilton Santa Barbara Beachfront Resort, City: Santa Barbara, Rating: 2.5\n",
      "Restaurant Name: Andros Floor Design, City: Santa Barbara, Rating: 2.5\n",
      "\n"
     ]
    }
   ],
   "source": [
    "res = getNHighestRatedFromCity('Santa Barbara',['awful'],5,'ASC')\n",
    "print(res)"
   ]
  },
  {
   "cell_type": "markdown",
   "id": "282f8cf9",
   "metadata": {},
   "source": [
    "Here is an example of the five highest rated businesses that has reviews containing the hashtag awful "
   ]
  },
  {
   "cell_type": "code",
   "execution_count": 78,
   "id": "0c3ffc59",
   "metadata": {},
   "outputs": [
    {
     "name": "stdout",
     "output_type": "stream",
     "text": [
      "Restaurant Name: The Eagle Inn, City: Santa Barbara, Rating: 4.5\n",
      "Restaurant Name: Movegreen, City: Santa Barbara, Rating: 4.5\n",
      "Restaurant Name: Taqueria Cuernavaca, City: Santa Barbara, Rating: 4.5\n",
      "Restaurant Name: Bluewater Grill - Santa Barbara, City: Santa Barbara, Rating: 4.0\n",
      "Restaurant Name: Sakana Sushi Bar & Japanese, City: Santa Barbara, Rating: 4.0\n",
      "\n"
     ]
    }
   ],
   "source": [
    "res = getNHighestRatedFromCity('Santa Barbara',['awful'],5,'DESC')\n",
    "print(res)"
   ]
  },
  {
   "cell_type": "markdown",
   "id": "14aedc57",
   "metadata": {},
   "source": [
    "Here is an example of the five lowest rated businesses that has reviews which contain either the hashtag 'awful' or 'dead' (as you can see, it is different from the output above)"
   ]
  },
  {
   "cell_type": "code",
   "execution_count": 79,
   "id": "6862b1e5",
   "metadata": {},
   "outputs": [
    {
     "name": "stdout",
     "output_type": "stream",
     "text": [
      "1 : 0.009166955947875977\n",
      "2 : 0.0016162395477294922\n",
      "3 : 0.001611471176147461\n",
      "4 : 0.0010499954223632812\n",
      "5 : 0.0010535717010498047\n",
      "\n",
      "OUTPUT:\n",
      "Restaurant Name: The Red Piano, City: Santa Barbara, Rating: 4.5\n",
      "Restaurant Name: Movegreen, City: Santa Barbara, Rating: 4.5\n",
      "Restaurant Name: Taqueria Cuernavaca, City: Santa Barbara, Rating: 4.5\n",
      "Restaurant Name: The Eagle Inn, City: Santa Barbara, Rating: 4.5\n",
      "Restaurant Name: Cold Spring Tavern, City: Santa Barbara, Rating: 4.5\n",
      "\n"
     ]
    }
   ],
   "source": [
    "# demo of how cache speeds up queries that have been made before\n",
    "for i in range(5):\n",
    "    start = time.time()\n",
    "    res = getNHighestRatedFromCity('Santa Barbara',['awful','dead'],5,'DESC')\n",
    "    #showOutputA3(res)\n",
    "    end = time.time()\n",
    "    print(i + 1, \":\", end - start)\n",
    "print(\"\\nOUTPUT:\")\n",
    "print(res)"
   ]
  },
  {
   "cell_type": "markdown",
   "id": "2f6a16d0",
   "metadata": {},
   "source": [
    "### Application 4: Find top N hashtags that are associated with a specific business id \n"
   ]
  },
  {
   "cell_type": "code",
   "execution_count": 80,
   "id": "f0d1f674",
   "metadata": {},
   "outputs": [],
   "source": [
    "exampleBusinessId1 = 'qdpdUjdkEUpzYDdce2yZng'\n",
    "exampleBusinessId2 = 'B5XSoSG3SfvQGtKEGQ1tSQ'"
   ]
  },
  {
   "cell_type": "code",
   "execution_count": 81,
   "id": "c08933a8",
   "metadata": {},
   "outputs": [],
   "source": [
    "def topNHashtagsForBusiness(businessId,k):\n",
    "    \n",
    "    query_inputs = 'topKHashtagsPerBusiness'+ \" \" + businessId + \" \"+ str(k)\n",
    "    query = f'''Match(b:Business{{id:'{businessId}'}})-[r:HAS_TAG]-(t)  return t,r.tag_count Order by r.tag_count DESC LIMIT {k}'''\n",
    "    cached_data = r.get(query_inputs)\n",
    "    \n",
    "    if cached_data is not None:\n",
    "        return cached_data\n",
    "    \n",
    "    res = session.run(query)\n",
    "    output = showOutputA4(res)\n",
    "    r.set(query_inputs,output)\n",
    "    return output \n",
    "\n",
    "def showOutputA4(records):\n",
    "    output = ''\n",
    "    for r in records:\n",
    "        tag = r['t']['name']\n",
    "        count = r['r.tag_count']\n",
    "        output += (f'Hashtag: {tag}, Count: {count}' + '\\n')\n",
    "    return output "
   ]
  },
  {
   "cell_type": "markdown",
   "id": "201ed188",
   "metadata": {},
   "source": [
    "Here you can see an example of the top 10 hashtags associated with exampleBusinessId1 defined above"
   ]
  },
  {
   "cell_type": "code",
   "execution_count": 82,
   "id": "a3fee5b5",
   "metadata": {},
   "outputs": [
    {
     "name": "stdout",
     "output_type": "stream",
     "text": [
      "Hashtag: cash, Count: 9\n",
      "Hashtag: turkey, Count: 8\n",
      "Hashtag: sodas, Count: 7\n",
      "Hashtag: subs, Count: 6\n",
      "Hashtag: east, Count: 6\n",
      "Hashtag: squaw, Count: 5\n",
      "Hashtag: reminds, Count: 5\n",
      "Hashtag: plaza, Count: 5\n",
      "Hashtag: soda, Count: 5\n",
      "Hashtag: pop, Count: 4\n",
      "\n"
     ]
    }
   ],
   "source": [
    "res = topNHashtagsForBusiness(exampleBusinessId1,10)\n",
    "print(res)"
   ]
  },
  {
   "cell_type": "markdown",
   "id": "126dd19a",
   "metadata": {},
   "source": [
    "Here you can see an example of the top 10 hashtags associated with exampleBusinessId2 defined above as well as a demonstration of speed up from cached queries "
   ]
  },
  {
   "cell_type": "code",
   "execution_count": 83,
   "id": "bf0dd140",
   "metadata": {},
   "outputs": [
    {
     "name": "stdout",
     "output_type": "stream",
     "text": [
      "1 : 0.010472536087036133\n",
      "2 : 0.0016815662384033203\n",
      "3 : 0.0010993480682373047\n",
      "4 : 0.0016171932220458984\n",
      "5 : 0.0010731220245361328\n",
      "\n",
      "Result: \n",
      "Hashtag: forest, Count: 4\n",
      "Hashtag: mountain, Count: 3\n",
      "Hashtag: camping, Count: 2\n",
      "Hashtag: hikes, Count: 1\n",
      "Hashtag: public, Count: 1\n",
      "Hashtag: discover, Count: 1\n",
      "Hashtag: venture, Count: 1\n",
      "Hashtag: events, Count: 1\n",
      "Hashtag: cleaner, Count: 1\n",
      "Hashtag: heat, Count: 1\n",
      "\n"
     ]
    }
   ],
   "source": [
    "# demo of how cache speeds up queries that have been made before\n",
    "for i in range(5):\n",
    "    start = time.time()\n",
    "    res = topNHashtagsForBusiness(exampleBusinessId2,10)\n",
    "    end = time.time()\n",
    "    print(i + 1, \":\", end - start)\n",
    "print('\\nResult: ')\n",
    "print(res)"
   ]
  },
  {
   "cell_type": "markdown",
   "id": "ab445a14",
   "metadata": {},
   "source": [
    "### Application 5 ( Hashtag Relationships): Find N most common hashtags that occur in the same reviews as provided hashtag \n",
    "\n",
    "Return restaurants that have reviews containing these hashtags"
   ]
  },
  {
   "cell_type": "code",
   "execution_count": 84,
   "id": "855b426d",
   "metadata": {},
   "outputs": [],
   "source": [
    "def findBusinessesWithNMostCommonTags(hashtag,n):\n",
    "    query_inputs = 'findBusinessesWithMostCommonTags' + 'x' + hashtag + ' ' + str(n)\n",
    "    query = f'''\n",
    "    Match p = (t1:tag{{id:'{hashtag}'}})-[r1:SHARED_TAGS]-(t2:tag)  \n",
    "    Match (b:Business)-[HAS_TAG]-(t3:tag{{name:t2.id}})\n",
    "    RETURN b,t2,t3,r1.shared_count ORDER BY r1.shared_count DESC Limit {n}\n",
    "    '''\n",
    "    cached_data = r.get(query_inputs)\n",
    "    if cached_data is not None:\n",
    "        return cached_data\n",
    "    \n",
    "    res = session.run(query)\n",
    "    output = showOutputA5(res)\n",
    "    r.set(query_inputs,output)\n",
    "    return output\n",
    "def showOutputA5(records):\n",
    "    output = ''\n",
    "    for r in records:\n",
    "        name = r['b']['name']\n",
    "        commonTag  = r['t2']['id']\n",
    "        tagCount = r['r1.shared_count']\n",
    "        output += (f'Business: {name} | Tag Name: {commonTag} | Tag Count: {tagCount}' + '\\n')\n",
    "    return output "
   ]
  },
  {
   "cell_type": "code",
   "execution_count": 85,
   "id": "121650a3",
   "metadata": {},
   "outputs": [
    {
     "name": "stdout",
     "output_type": "stream",
     "text": [
      "Business: China Bowl & State Street Cafe | Tag Name: weird | Tag Count: 3\n",
      "Business: Dallmeyer Physical Therapy | Tag Name: weird | Tag Count: 3\n",
      "Business: The Joint Chiropractic | Tag Name: weird | Tag Count: 3\n",
      "\n"
     ]
    }
   ],
   "source": [
    "res = (findBusinessesWithNMostCommonTags('awful',3))\n",
    "print(res)"
   ]
  },
  {
   "cell_type": "code",
   "execution_count": 86,
   "id": "6d94aba0",
   "metadata": {},
   "outputs": [
    {
     "name": "stdout",
     "output_type": "stream",
     "text": [
      "1 : 0.02321910858154297\n",
      "2 : 0.0016856193542480469\n",
      "3 : 0.0016870498657226562\n",
      "4 : 0.0016772747039794922\n",
      "5 : 0.0016574859619140625\n",
      "\n",
      "Result:\n",
      "Business: Santa Barbara Shellfish Company | Tag Name: abalone | Tag Count: 1\n",
      "Business: Pho Bistro | Tag Name: baguette | Tag Count: 1\n",
      "Business: Farmer Boy | Tag Name: baguette | Tag Count: 1\n",
      "Business: Brummis - the German Taste | Tag Name: baguette | Tag Count: 1\n",
      "Business: Phamous Cafe | Tag Name: baguette | Tag Count: 1\n",
      "Business: Cafe Buenos Aires | Tag Name: baguette | Tag Count: 1\n",
      "Business: Helena Avenue Bakery | Tag Name: baguette | Tag Count: 1\n",
      "Business: Cutting Edge Salon | Tag Name: luckily | Tag Count: 1\n",
      "Business: Bluewater Grill - Santa Barbara | Tag Name: luckily | Tag Count: 1\n",
      "Business: Cat Therapy | Tag Name: luckily | Tag Count: 1\n",
      "Business: IHOP | Tag Name: luckily | Tag Count: 1\n",
      "Business: Spa at Four Seasons Resort The Biltmore Santa Barbara | Tag Name: luckily | Tag Count: 1\n",
      "Business: Nothing Bundt Cakes | Tag Name: luckily | Tag Count: 1\n",
      "Business: Events By Rincon | Tag Name: luckily | Tag Count: 1\n",
      "Business: The H Law Group | Tag Name: luckily | Tag Count: 1\n",
      "Business: Farmer Boy | Tag Name: luckily | Tag Count: 1\n",
      "Business: Chase Restaurant | Tag Name: luckily | Tag Count: 1\n",
      "Business: Third Window Brewing | Tag Name: luckily | Tag Count: 1\n",
      "Business: West Beach Inn, a Coast Hotel | Tag Name: luckily | Tag Count: 1\n",
      "Business: Wine Edventures | Tag Name: luckily | Tag Count: 1\n",
      "Business: Sakana Sushi Bar & Japanese | Tag Name: luckily | Tag Count: 1\n",
      "Business: Padaro Beach Grill | Tag Name: luckily | Tag Count: 1\n",
      "Business: Best Western Plus Pepper Tree Inn | Tag Name: luckily | Tag Count: 1\n",
      "Business: Cal Taco | Tag Name: luckily | Tag Count: 1\n",
      "Business: Dawn Patrol | Tag Name: luckily | Tag Count: 1\n",
      "Business: Ichiban | Tag Name: luckily | Tag Count: 1\n",
      "Business: Twisted Twig Fine Florals | Tag Name: luckily | Tag Count: 1\n",
      "Business: Deep Sea Tasting Room | Tag Name: luckily | Tag Count: 1\n",
      "Business: Santa Barbara County Courthouse | Tag Name: luckily | Tag Count: 1\n",
      "Business: Santa Barbara Shellfish Company | Tag Name: luckily | Tag Count: 1\n",
      "\n"
     ]
    }
   ],
   "source": [
    "# demo of how cache speeds up queries that have been made before\n",
    "for i in range(5):\n",
    "    start = time.time()\n",
    "    res = (findBusinessesWithNMostCommonTags('smelly',30))\n",
    "    end = time.time()\n",
    "    print(i + 1, \":\", end - start)\n",
    "print('\\nResult:')\n",
    "print(res)"
   ]
  },
  {
   "cell_type": "markdown",
   "id": "c72f4dae",
   "metadata": {},
   "source": [
    "### Application 6: Given a certain category, what are the top hashtags for that category"
   ]
  },
  {
   "cell_type": "code",
   "execution_count": 87,
   "id": "2ba2553c",
   "metadata": {},
   "outputs": [],
   "source": [
    "def top_hashtags_per_category(category):\n",
    "    query = f\"\"\"MATCH (b:Business)-[:HAS_TAG]->(t:tag)\n",
    "WHERE '{category}' IN b.categories\n",
    "RETURN t, COUNT(t)\n",
    "ORDER BY COUNT(t) DESC\n",
    "LIMIT 10\"\"\"\n",
    "    \n",
    "    \n",
    "    query_inputs = f\"{category}\"\n",
    "    cached_data = r.get(query_inputs)\n",
    "\n",
    "    if cached_data is not None:\n",
    "        return cached_data\n",
    "    \n",
    "    result = session.run(query)\n",
    "    \n",
    "    output = f\"Top Hashtags for {category} Category:\\n\\n\"\n",
    "    \n",
    "    for ind, record in enumerate(result):\n",
    "        tag = record['t']['name']\n",
    "        count = record['COUNT(t)']\n",
    "        output = output + f'Hashtag: {tag}, Count: {count}\\n'\n",
    "\n",
    "    r.set(query_inputs, output)\n",
    "    return output"
   ]
  },
  {
   "cell_type": "code",
   "execution_count": 88,
   "id": "63be3701",
   "metadata": {},
   "outputs": [
    {
     "name": "stdout",
     "output_type": "stream",
     "text": [
      "Top Hashtags for Sandwiches Category:\n",
      "\n",
      "Hashtag: turkey, Count: 8\n",
      "Hashtag: sub, Count: 6\n",
      "Hashtag: ten, Count: 6\n",
      "Hashtag: cashier, Count: 6\n",
      "Hashtag: addition, Count: 6\n",
      "Hashtag: sense, Count: 5\n",
      "Hashtag: seeing, Count: 5\n",
      "Hashtag: particularly, Count: 5\n",
      "Hashtag: leaving, Count: 5\n",
      "Hashtag: neat, Count: 5\n",
      "\n"
     ]
    }
   ],
   "source": [
    "print(top_hashtags_per_category('Sandwiches'))"
   ]
  },
  {
   "cell_type": "code",
   "execution_count": 89,
   "id": "346f4a27",
   "metadata": {
    "scrolled": true
   },
   "outputs": [
    {
     "name": "stdout",
     "output_type": "stream",
     "text": [
      "Top Hashtags for Bakeries Category:\n",
      "\n",
      "Hashtag: daily, Count: 5\n",
      "Hashtag: bakery, Count: 5\n",
      "Hashtag: wide, Count: 5\n",
      "Hashtag: treats, Count: 5\n",
      "Hashtag: pastry, Count: 5\n",
      "Hashtag: purchased, Count: 5\n",
      "Hashtag: brown, Count: 4\n",
      "Hashtag: lemon, Count: 4\n",
      "Hashtag: loves, Count: 4\n",
      "Hashtag: cookies, Count: 4\n",
      "\n"
     ]
    }
   ],
   "source": [
    "print(top_hashtags_per_category('Bakeries'))"
   ]
  },
  {
   "cell_type": "code",
   "execution_count": 90,
   "id": "67637cfb",
   "metadata": {},
   "outputs": [
    {
     "name": "stdout",
     "output_type": "stream",
     "text": [
      "1 : 0.04134964942932129\n",
      "2 : 0.001722574234008789\n",
      "3 : 0.00171661376953125\n",
      "4 : 0.0016663074493408203\n",
      "5 : 0.001661062240600586\n"
     ]
    }
   ],
   "source": [
    "# demo of how cache speeds up queries that have been made before\n",
    "for i in range(5):\n",
    "    start = time.time()\n",
    "    top_hashtags_per_category('Restaurants')\n",
    "    end = time.time()\n",
    "    print(i + 1, \":\", end - start)"
   ]
  },
  {
   "cell_type": "markdown",
   "id": "59d90d28",
   "metadata": {},
   "source": [
    "###  Application 7: N most common hashtags in a particular city"
   ]
  },
  {
   "cell_type": "code",
   "execution_count": 91,
   "id": "2547b3ac",
   "metadata": {},
   "outputs": [],
   "source": [
    "def n_common_city_hashtags(city, N):\n",
    "    query = f\"\"\"MATCH (b:Business)-[:HAS_TAG]->(t:tag)\n",
    "WHERE b.city = '{city}'\n",
    "RETURN t, COUNT(t)\n",
    "ORDER BY COUNT(t) DESC\n",
    "LIMIT {N}\"\"\"\n",
    "    \n",
    "    query_inputs = f\"{city} {N}\"\n",
    "    cached_data = r.get(query_inputs)\n",
    "    \n",
    "    if cached_data is not None:\n",
    "        return cached_data\n",
    "    \n",
    "    result = session.run(query)\n",
    "    \n",
    "    output = f\"{N} Most Common Hashtags for {city}:\\n\\n\"\n",
    "    \n",
    "    for ind, record in enumerate(result):\n",
    "        tag = record['t']['name']\n",
    "        count = record['COUNT(t)']\n",
    "        output = output + f'Hashtag: {tag}, Count: {count}\\n'\n",
    "        \n",
    "    return output"
   ]
  },
  {
   "cell_type": "code",
   "execution_count": 92,
   "id": "fe1b5af9",
   "metadata": {},
   "outputs": [
    {
     "name": "stdout",
     "output_type": "stream",
     "text": [
      "10 Most Common Hashtags for Santa Barbara:\n",
      "\n",
      "Hashtag: works, Count: 87\n",
      "Hashtag: willing, Count: 80\n",
      "Hashtag: seeing, Count: 76\n",
      "Hashtag: leaving, Count: 74\n",
      "Hashtag: hold, Count: 68\n",
      "Hashtag: positive, Count: 67\n",
      "Hashtag: meet, Count: 65\n",
      "Hashtag: helping, Count: 64\n",
      "Hashtag: sense, Count: 62\n",
      "Hashtag: checking, Count: 62\n",
      "\n"
     ]
    }
   ],
   "source": [
    "print(n_common_city_hashtags('Santa Barbara', 10))"
   ]
  },
  {
   "cell_type": "code",
   "execution_count": 93,
   "id": "8d2396cc",
   "metadata": {},
   "outputs": [
    {
     "name": "stdout",
     "output_type": "stream",
     "text": [
      "4 Most Common Hashtags for Goleta:\n",
      "\n",
      "Hashtag: answered, Count: 22\n",
      "Hashtag: works, Count: 21\n",
      "Hashtag: save, Count: 21\n",
      "Hashtag: total, Count: 20\n",
      "\n"
     ]
    }
   ],
   "source": [
    "print(n_common_city_hashtags('Goleta', 4))"
   ]
  },
  {
   "cell_type": "code",
   "execution_count": 94,
   "id": "4f7c0f11",
   "metadata": {},
   "outputs": [
    {
     "name": "stdout",
     "output_type": "stream",
     "text": [
      "1 : 0.015246152877807617\n",
      "2 : 0.010708332061767578\n",
      "3 : 0.010969877243041992\n",
      "4 : 0.009948015213012695\n",
      "5 : 0.010642766952514648\n"
     ]
    }
   ],
   "source": [
    "# demo of how cache speeds up queries that have been made before\n",
    "for i in range(5):\n",
    "    start = time.time()\n",
    "    n_common_city_hashtags('Carpinteria', 3)\n",
    "    end = time.time()\n",
    "    print(i + 1, \":\", end - start)"
   ]
  },
  {
   "cell_type": "code",
   "execution_count": null,
   "id": "94641e38",
   "metadata": {},
   "outputs": [],
   "source": []
  }
 ],
 "metadata": {
  "kernelspec": {
   "display_name": "Python 3 (ipykernel)",
   "language": "python",
   "name": "python3"
  },
  "language_info": {
   "codemirror_mode": {
    "name": "ipython",
    "version": 3
   },
   "file_extension": ".py",
   "mimetype": "text/x-python",
   "name": "python",
   "nbconvert_exporter": "python",
   "pygments_lexer": "ipython3",
   "version": "3.8.5"
  }
 },
 "nbformat": 4,
 "nbformat_minor": 5
}
