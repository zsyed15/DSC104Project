{
 "cells": [
  {
   "cell_type": "code",
   "execution_count": null,
   "id": "fa2b241c",
   "metadata": {},
   "outputs": [],
   "source": [
    "import json\n",
    "import pandas as pd\n",
    "import re \n",
    "import glob \n",
    "import copy \n",
    "import os \n",
    "import nltk\n",
    "import unicodedata \n",
    "from collections import Counter\n",
    "from nltk.collocations import *"
   ]
  },
  {
   "cell_type": "code",
   "execution_count": null,
   "id": "c7a3e894",
   "metadata": {},
   "outputs": [],
   "source": [
    "bigram_measures = nltk.collocations.BigramAssocMeasures()\n",
    "trigram_measures = nltk.collocations.TrigramAssocMeasures()\n",
    "from nltk.tokenize import word_tokenize\n",
    "from nltk.tag import pos_tag\n",
    "import spacy"
   ]
  },
  {
   "cell_type": "code",
   "execution_count": null,
   "id": "d45d3119",
   "metadata": {},
   "outputs": [],
   "source": [
    "# !pip install -U pip setuptools wheel\n",
    "# !pip install -U spacy\n",
    "# nltk.download('stopwords')\n",
    "# nltk.download('wordnet')\n",
    "# nltk.download('omw-1.4')\n",
    "#!python -m spacy download en_core_web_sm\n",
    "nlp = spacy.load(\"en_core_web_sm\")\n",
    "import en_core_web_sm\n",
    "nlp = en_core_web_sm.load()\n",
    "from bs4 import BeautifulSoup\n",
    "from html import unescape"
   ]
  },
  {
   "cell_type": "code",
   "execution_count": null,
   "id": "8b768ce1",
   "metadata": {},
   "outputs": [],
   "source": [
    "### Creataing businesses dataframe \n",
    "data_file = open(\"yelp_academic_dataset_business.json\",encoding='utf-8')\n",
    "data = []\n",
    "for line in data_file:\n",
    "    data.append(json.loads(line))\n",
    "businessdf = pd.DataFrame(data)\n",
    "data_file.close()"
   ]
  },
  {
   "cell_type": "code",
   "execution_count": null,
   "id": "f56636c1",
   "metadata": {},
   "outputs": [],
   "source": [
    "%%time \n",
    "### Creating reviews dataframe \n",
    "data_file = open(\"yelp_academic_dataset_review.json\",encoding='utf-8')\n",
    "data = []\n",
    "for line in data_file:\n",
    "    data.append(json.loads(line))\n",
    "reviewsdf = pd.DataFrame(data)\n",
    "data_file.close()"
   ]
  },
  {
   "cell_type": "markdown",
   "id": "67fafe0e",
   "metadata": {},
   "source": [
    "### For now, use smaller version of reviewsdf just to make sure everything works"
   ]
  },
  {
   "cell_type": "code",
   "execution_count": null,
   "id": "1388395f",
   "metadata": {},
   "outputs": [],
   "source": [
    "reviewsdf = reviewsdf.head(10000)"
   ]
  },
  {
   "cell_type": "markdown",
   "id": "0b83f495",
   "metadata": {},
   "source": [
    "### Generate hashtags from reviews df"
   ]
  },
  {
   "cell_type": "code",
   "execution_count": null,
   "id": "ea4aaf7e",
   "metadata": {},
   "outputs": [],
   "source": [
    "from sklearn.feature_extraction.text import CountVectorizer, TfidfVectorizer"
   ]
  },
  {
   "cell_type": "code",
   "execution_count": null,
   "id": "ae1dffc8",
   "metadata": {},
   "outputs": [],
   "source": [
    "#Adjust mindf parameter\n",
    "mindf = int(len(reviewsdf) * .001)\n",
    "tfidf = TfidfVectorizer(sublinear_tf=True,\n",
    "               analyzer='word',\n",
    "#                max_features=2000,\n",
    "               tokenizer=word_tokenize,\n",
    "               stop_words=nltk.corpus.stopwords.words(\"english\"),min_df=5)"
   ]
  },
  {
   "cell_type": "code",
   "execution_count": null,
   "id": "be16f074",
   "metadata": {},
   "outputs": [],
   "source": [
    "text = list(reviewsdf['text'])\n",
    "text = [re.sub(r'[^A-Za-z]+',\" \",document) for document in text]\n"
   ]
  },
  {
   "cell_type": "code",
   "execution_count": null,
   "id": "3879609d",
   "metadata": {},
   "outputs": [],
   "source": [
    "%%time\n",
    "hashtagdf = pd.DataFrame(tfidf.fit_transform(text).toarray())"
   ]
  },
  {
   "cell_type": "code",
   "execution_count": null,
   "id": "8d75d60b",
   "metadata": {},
   "outputs": [],
   "source": [
    "hashtagdf.columns = tfidf.get_feature_names()"
   ]
  },
  {
   "cell_type": "code",
   "execution_count": null,
   "id": "58ee8981",
   "metadata": {},
   "outputs": [],
   "source": [
    "hashtagdfsum = hashtagdf.sum()\n",
    "tfidf_scores = [(i,hashtagdfsum[i]) for i in hashtagdfsum.index]\n",
    "tfidf_scores.sort(key=lambda x : x[1],reverse=True)"
   ]
  },
  {
   "cell_type": "code",
   "execution_count": null,
   "id": "020df748",
   "metadata": {},
   "outputs": [],
   "source": [
    "##REMOVE?\n",
    "lower_threshold = int(len(tfidf_scores) * .03)\n",
    "# upper_threshold = int(len(tfidf_scores) * .95)\n",
    "scores = tfidf_scores[lower_threshold:]\n",
    "tfidf_dict = {item[0] : item[1] for item in scores}"
   ]
  },
  {
   "cell_type": "code",
   "execution_count": null,
   "id": "0d3115aa",
   "metadata": {},
   "outputs": [],
   "source": [
    "#Maybe add ability to get N most useful tags \n",
    "def generate_tags(text):\n",
    "    tags = set()\n",
    "    for s in text.split(' '):\n",
    "        if s in tfidf_dict:\n",
    "            tags.add(s)\n",
    "    return list(tags)"
   ]
  },
  {
   "cell_type": "code",
   "execution_count": null,
   "id": "ea529ed9",
   "metadata": {},
   "outputs": [],
   "source": [
    "reviewsdf['tags'] = reviewsdf['text'].apply(generate_tags)"
   ]
  },
  {
   "cell_type": "code",
   "execution_count": null,
   "id": "379546b9",
   "metadata": {},
   "outputs": [],
   "source": [
    "reviewsdf.head(5)"
   ]
  },
  {
   "cell_type": "code",
   "execution_count": null,
   "id": "f6df32fe",
   "metadata": {},
   "outputs": [],
   "source": []
  },
  {
   "cell_type": "code",
   "execution_count": null,
   "id": "a0a85b24",
   "metadata": {},
   "outputs": [],
   "source": [
    "# trigram_measures = nltk.collocations.TrigramAssocMeasures()\n"
   ]
  },
  {
   "cell_type": "code",
   "execution_count": null,
   "id": "5e609d49",
   "metadata": {},
   "outputs": [],
   "source": [
    "# finder = BigramCollocationFinder.from_words()\n",
    "# finder1 = finder.apply_freq_filter(1)\n",
    "# finder.nbest(bigram_measures.pmi, 1500)\n",
    "# #Maybe add bigrams to each string, so they end upo in freq dict\n",
    "# # list(bigrams)"
   ]
  },
  {
   "cell_type": "markdown",
   "id": "423ee6aa",
   "metadata": {},
   "source": [
    "### Hashtag generation above needs to be improved, just temporarlily using it to continue with other parts"
   ]
  },
  {
   "cell_type": "markdown",
   "id": "a899f201",
   "metadata": {},
   "source": [
    "# Create graph data"
   ]
  },
  {
   "cell_type": "markdown",
   "id": "86df9275",
   "metadata": {},
   "source": [
    "1 ) Create  weighted edges between business and associated hashtags (edge weight is number of reviews that contained particular hashtag?)\n",
    "\n",
    "2) Create weighted edges between hashtags that occur in the same business (or review ?) weight = num co coccurances in reviews?"
   ]
  },
  {
   "cell_type": "markdown",
   "id": "8e743b9f",
   "metadata": {},
   "source": [
    "Drop unecessary columns from reviewsdf "
   ]
  },
  {
   "cell_type": "code",
   "execution_count": null,
   "id": "c3fce8ba",
   "metadata": {
    "scrolled": true
   },
   "outputs": [],
   "source": [
    "reviewsdf = reviewsdf[['review_id','text','business_id','tags']]"
   ]
  },
  {
   "cell_type": "code",
   "execution_count": null,
   "id": "ecd08cb7",
   "metadata": {},
   "outputs": [],
   "source": [
    "reviewsdf"
   ]
  },
  {
   "cell_type": "code",
   "execution_count": null,
   "id": "e43e1d53",
   "metadata": {},
   "outputs": [],
   "source": []
  },
  {
   "cell_type": "code",
   "execution_count": null,
   "id": "4aef9618",
   "metadata": {},
   "outputs": [],
   "source": []
  },
  {
   "cell_type": "markdown",
   "id": "70cbdbbf",
   "metadata": {},
   "source": [
    "# Load graph data into neo4j"
   ]
  }
 ],
 "metadata": {
  "kernelspec": {
   "display_name": "Python 3 (ipykernel)",
   "language": "python",
   "name": "python3"
  },
  "language_info": {
   "codemirror_mode": {
    "name": "ipython",
    "version": 3
   },
   "file_extension": ".py",
   "mimetype": "text/x-python",
   "name": "python",
   "nbconvert_exporter": "python",
   "pygments_lexer": "ipython3",
   "version": "3.8.5"
  }
 },
 "nbformat": 4,
 "nbformat_minor": 5
}
